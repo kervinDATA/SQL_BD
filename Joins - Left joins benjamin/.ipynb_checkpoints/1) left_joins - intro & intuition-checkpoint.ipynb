{
 "cells": [
  {
   "cell_type": "markdown",
   "id": "d784b649",
   "metadata": {},
   "source": [
    "# Left join - intuition"
   ]
  },
  {
   "cell_type": "markdown",
   "id": "a6c6b8ce",
   "metadata": {},
   "source": [
    "Dans la partie précédente, on a découvert les inner joins.\n",
    "\n",
    "Les inner join sont souvent utilisés pour filtrer les lignes sur lesquelles on ne dispose pas de la donnée intéressante"
   ]
  },
  {
   "cell_type": "code",
   "execution_count": 1,
   "id": "1e4475bd",
   "metadata": {},
   "outputs": [],
   "source": [
    "import pandas as pd\n",
    "import duckdb\n",
    "import io"
   ]
  },
  {
   "cell_type": "markdown",
   "id": "d651c229",
   "metadata": {},
   "source": [
    "## Inner join pour filtrer"
   ]
  },
  {
   "cell_type": "markdown",
   "id": "b09d9fdb",
   "metadata": {},
   "source": [
    "Imaginons qu'on ait une table de ventes & une table qui contient le numéro de carte de fidélité des clients:"
   ]
  },
  {
   "cell_type": "code",
   "execution_count": 2,
   "id": "7525b534",
   "metadata": {},
   "outputs": [],
   "source": [
    "csv = '''\n",
    "customer_id,product_bought\n",
    "1234, t-shirt\n",
    "R2D2, jeans\n",
    "C3PO, jeans\n",
    "1234, shoes\n",
    "R2D2, sweat\n",
    "C3PO, shorts\n",
    "'''\n",
    "\n",
    "csv2 = '''\n",
    "customer_id,loyalty_card_id\n",
    "R2D2,887b3c5c-3ff2-11ee-be56-0242ac120002\n",
    "'''\n",
    "\n",
    "\n",
    "sales = pd.read_csv(io.StringIO(csv))\n",
    "loyalty_cards = pd.read_csv(io.StringIO(csv2))"
   ]
  },
  {
   "cell_type": "code",
   "execution_count": 3,
   "id": "89084c82",
   "metadata": {},
   "outputs": [
    {
     "data": {
      "text/html": [
       "<div>\n",
       "<style scoped>\n",
       "    .dataframe tbody tr th:only-of-type {\n",
       "        vertical-align: middle;\n",
       "    }\n",
       "\n",
       "    .dataframe tbody tr th {\n",
       "        vertical-align: top;\n",
       "    }\n",
       "\n",
       "    .dataframe thead th {\n",
       "        text-align: right;\n",
       "    }\n",
       "</style>\n",
       "<table border=\"1\" class=\"dataframe\">\n",
       "  <thead>\n",
       "    <tr style=\"text-align: right;\">\n",
       "      <th></th>\n",
       "      <th>customer_id</th>\n",
       "      <th>product_bought</th>\n",
       "    </tr>\n",
       "  </thead>\n",
       "  <tbody>\n",
       "    <tr>\n",
       "      <th>0</th>\n",
       "      <td>1234</td>\n",
       "      <td>t-shirt</td>\n",
       "    </tr>\n",
       "    <tr>\n",
       "      <th>1</th>\n",
       "      <td>R2D2</td>\n",
       "      <td>jeans</td>\n",
       "    </tr>\n",
       "    <tr>\n",
       "      <th>2</th>\n",
       "      <td>C3PO</td>\n",
       "      <td>jeans</td>\n",
       "    </tr>\n",
       "    <tr>\n",
       "      <th>3</th>\n",
       "      <td>1234</td>\n",
       "      <td>shoes</td>\n",
       "    </tr>\n",
       "    <tr>\n",
       "      <th>4</th>\n",
       "      <td>R2D2</td>\n",
       "      <td>sweat</td>\n",
       "    </tr>\n",
       "    <tr>\n",
       "      <th>5</th>\n",
       "      <td>C3PO</td>\n",
       "      <td>shorts</td>\n",
       "    </tr>\n",
       "  </tbody>\n",
       "</table>\n",
       "</div>"
      ],
      "text/plain": [
       "  customer_id product_bought\n",
       "0        1234        t-shirt\n",
       "1        R2D2          jeans\n",
       "2        C3PO          jeans\n",
       "3        1234          shoes\n",
       "4        R2D2          sweat\n",
       "5        C3PO         shorts"
      ]
     },
     "metadata": {},
     "output_type": "display_data"
    },
    {
     "data": {
      "text/html": [
       "<div>\n",
       "<style scoped>\n",
       "    .dataframe tbody tr th:only-of-type {\n",
       "        vertical-align: middle;\n",
       "    }\n",
       "\n",
       "    .dataframe tbody tr th {\n",
       "        vertical-align: top;\n",
       "    }\n",
       "\n",
       "    .dataframe thead th {\n",
       "        text-align: right;\n",
       "    }\n",
       "</style>\n",
       "<table border=\"1\" class=\"dataframe\">\n",
       "  <thead>\n",
       "    <tr style=\"text-align: right;\">\n",
       "      <th></th>\n",
       "      <th>customer_id</th>\n",
       "      <th>loyalty_card_id</th>\n",
       "    </tr>\n",
       "  </thead>\n",
       "  <tbody>\n",
       "    <tr>\n",
       "      <th>0</th>\n",
       "      <td>R2D2</td>\n",
       "      <td>887b3c5c-3ff2-11ee-be56-0242ac120002</td>\n",
       "    </tr>\n",
       "  </tbody>\n",
       "</table>\n",
       "</div>"
      ],
      "text/plain": [
       "  customer_id                       loyalty_card_id\n",
       "0        R2D2  887b3c5c-3ff2-11ee-be56-0242ac120002"
      ]
     },
     "execution_count": 3,
     "metadata": {},
     "output_type": "execute_result"
    }
   ],
   "source": [
    "display(sales)\n",
    "loyalty_cards"
   ]
  },
  {
   "cell_type": "markdown",
   "id": "71989aba",
   "metadata": {},
   "source": [
    "Comme un seul client dispose d'une carte de fidélité, on obtient uniquement des résultats pour celui-ci:"
   ]
  },
  {
   "cell_type": "markdown",
   "id": "081500aa",
   "metadata": {},
   "source": [
    "<img src=\"images/left_join1.png\" />"
   ]
  },
  {
   "cell_type": "code",
   "execution_count": 4,
   "id": "9a8ad794",
   "metadata": {},
   "outputs": [
    {
     "data": {
      "text/plain": [
       "┌─────────────┬────────────────┬──────────────────────────────────────┐\n",
       "│ customer_id │ product_bought │           loyalty_card_id            │\n",
       "│   varchar   │    varchar     │               varchar                │\n",
       "├─────────────┼────────────────┼──────────────────────────────────────┤\n",
       "│ R2D2        │  jeans         │ 887b3c5c-3ff2-11ee-be56-0242ac120002 │\n",
       "│ R2D2        │  sweat         │ 887b3c5c-3ff2-11ee-be56-0242ac120002 │\n",
       "└─────────────┴────────────────┴──────────────────────────────────────┘"
      ]
     },
     "execution_count": 4,
     "metadata": {},
     "output_type": "execute_result"
    }
   ],
   "source": [
    "cross_join_query_where = \"\"\"\n",
    "SELECT * FROM sales\n",
    "INNER JOIN loyalty_cards\n",
    "USING (customer_id) \n",
    "\"\"\"\n",
    "duckdb.sql(cross_join_query_where)"
   ]
  },
  {
   "cell_type": "markdown",
   "id": "217a36bf",
   "metadata": {},
   "source": [
    "<img src=\"images/cross_join_after_filter.png\" />"
   ]
  },
  {
   "cell_type": "markdown",
   "id": "ba07165e",
   "metadata": {},
   "source": [
    "Mais si on vous demande combien d'articles ont été achetés par des clients qui n'ont pas de carte de fid' ?\n",
    "\n",
    "C'est là qu'un Left join entre en jeu"
   ]
  },
  {
   "cell_type": "markdown",
   "id": "24082c2f",
   "metadata": {},
   "source": [
    "## Left join as a cross product"
   ]
  },
  {
   "cell_type": "markdown",
   "id": "a4885191",
   "metadata": {},
   "source": [
    "L'objectif, c'est de garder toutes les ventes.\n",
    "Mais si on garde toutes les ventes dans un cross join, on se retrouve avec n'importe quoi dans les colonnes de droite:"
   ]
  },
  {
   "cell_type": "code",
   "execution_count": 5,
   "id": "66790e27",
   "metadata": {},
   "outputs": [
    {
     "data": {
      "text/plain": [
       "┌─────────────┬────────────────┬─────────────┬──────────────────────────────────────┐\n",
       "│ customer_id │ product_bought │ customer_id │           loyalty_card_id            │\n",
       "│   varchar   │    varchar     │   varchar   │               varchar                │\n",
       "├─────────────┼────────────────┼─────────────┼──────────────────────────────────────┤\n",
       "│ 1234        │  t-shirt       │ R2D2        │ 887b3c5c-3ff2-11ee-be56-0242ac120002 │\n",
       "│ R2D2        │  jeans         │ R2D2        │ 887b3c5c-3ff2-11ee-be56-0242ac120002 │\n",
       "│ C3PO        │  jeans         │ R2D2        │ 887b3c5c-3ff2-11ee-be56-0242ac120002 │\n",
       "│ 1234        │  shoes         │ R2D2        │ 887b3c5c-3ff2-11ee-be56-0242ac120002 │\n",
       "│ R2D2        │  sweat         │ R2D2        │ 887b3c5c-3ff2-11ee-be56-0242ac120002 │\n",
       "│ C3PO        │  shorts        │ R2D2        │ 887b3c5c-3ff2-11ee-be56-0242ac120002 │\n",
       "└─────────────┴────────────────┴─────────────┴──────────────────────────────────────┘"
      ]
     },
     "execution_count": 5,
     "metadata": {},
     "output_type": "execute_result"
    }
   ],
   "source": [
    "cross_join_query_where = \"\"\"\n",
    "SELECT *\n",
    "FROM sales\n",
    "CROSS JOIN loyalty_cards\n",
    "\"\"\"\n",
    "duckdb.sql(cross_join_query_where)"
   ]
  },
  {
   "cell_type": "markdown",
   "id": "d777d374",
   "metadata": {},
   "source": [
    "Ci-dessus, on a la carte de fid' de R2D2 mise en face de chaque client...\n",
    "\n",
    "<br />\n",
    "Il faudrait la remplacer par des Null quand on s'aperçoit que les customer_id ne sont pas les mêmes:"
   ]
  },
  {
   "cell_type": "code",
   "execution_count": 6,
   "id": "3ae90897",
   "metadata": {},
   "outputs": [
    {
     "data": {
      "text/plain": [
       "┌────────────────┬─────────────┬──────────────────────────────────────┐\n",
       "│ product_bought │ customer_id │           loyalty_card_id            │\n",
       "│    varchar     │   varchar   │               varchar                │\n",
       "├────────────────┼─────────────┼──────────────────────────────────────┤\n",
       "│  t-shirt       │ 1234        │ NULL                                 │\n",
       "│  jeans         │ R2D2        │ 887b3c5c-3ff2-11ee-be56-0242ac120002 │\n",
       "│  jeans         │ C3PO        │ NULL                                 │\n",
       "│  shoes         │ 1234        │ NULL                                 │\n",
       "│  sweat         │ R2D2        │ 887b3c5c-3ff2-11ee-be56-0242ac120002 │\n",
       "│  shorts        │ C3PO        │ NULL                                 │\n",
       "└────────────────┴─────────────┴──────────────────────────────────────┘"
      ]
     },
     "execution_count": 6,
     "metadata": {},
     "output_type": "execute_result"
    }
   ],
   "source": [
    "cross_join_query_where = \"\"\"\n",
    "SELECT product_bought, sales.customer_id, \n",
    "CASE WHEN\n",
    "    loyalty_cards.customer_id != sales.customer_id \n",
    "    THEN NULL\n",
    "    ELSE loyalty_card_id\n",
    "END AS loyalty_card_id\n",
    "FROM sales\n",
    "CROSS JOIN loyalty_cards\n",
    "\n",
    "\"\"\"\n",
    "duckdb.sql(cross_join_query_where)"
   ]
  },
  {
   "cell_type": "markdown",
   "id": "b89ed53e",
   "metadata": {},
   "source": [
    "Pour faire ça plus simplement, SQL mets à notre disposition la syntaxe LEFT JOIN:"
   ]
  },
  {
   "cell_type": "markdown",
   "id": "adf73e15",
   "metadata": {},
   "source": [
    "## Plus clean:"
   ]
  },
  {
   "cell_type": "code",
   "execution_count": 7,
   "id": "c340f6e5",
   "metadata": {},
   "outputs": [
    {
     "data": {
      "text/plain": [
       "┌─────────────┬────────────────┬──────────────────────────────────────┐\n",
       "│ customer_id │ product_bought │           loyalty_card_id            │\n",
       "│   varchar   │    varchar     │               varchar                │\n",
       "├─────────────┼────────────────┼──────────────────────────────────────┤\n",
       "│ R2D2        │  jeans         │ 887b3c5c-3ff2-11ee-be56-0242ac120002 │\n",
       "│ R2D2        │  sweat         │ 887b3c5c-3ff2-11ee-be56-0242ac120002 │\n",
       "│ 1234        │  t-shirt       │ NULL                                 │\n",
       "│ C3PO        │  jeans         │ NULL                                 │\n",
       "│ 1234        │  shoes         │ NULL                                 │\n",
       "│ C3PO        │  shorts        │ NULL                                 │\n",
       "└─────────────┴────────────────┴──────────────────────────────────────┘"
      ]
     },
     "execution_count": 7,
     "metadata": {},
     "output_type": "execute_result"
    }
   ],
   "source": [
    "cross_join_query_where = \"\"\"\n",
    "SELECT * FROM sales\n",
    "LEFT JOIN loyalty_cards\n",
    "USING (customer_id) \n",
    "\"\"\"\n",
    "duckdb.sql(cross_join_query_where)"
   ]
  },
  {
   "cell_type": "markdown",
   "id": "745fdb27",
   "metadata": {},
   "source": [
    "⇒ Encore une fois, on voit qu'on peut redériver toutes sortes de joins à un produit cartésien auquel on applique un filtre.\n",
    "\n",
    "\n",
    "Dans le prochain notebook, on va voir reprendre les exemples qu'on avait avec INNER JOIN et voir quelles différences ça fait avec un LEFT ;)"
   ]
  },
  {
   "cell_type": "code",
   "execution_count": null,
   "id": "528015b3",
   "metadata": {},
   "outputs": [],
   "source": []
  }
 ],
 "metadata": {
  "kernelspec": {
   "display_name": "Python 3 (ipykernel)",
   "language": "python",
   "name": "python3"
  },
  "language_info": {
   "codemirror_mode": {
    "name": "ipython",
    "version": 3
   },
   "file_extension": ".py",
   "mimetype": "text/x-python",
   "name": "python",
   "nbconvert_exporter": "python",
   "pygments_lexer": "ipython3",
   "version": "3.9.13"
  }
 },
 "nbformat": 4,
 "nbformat_minor": 5
}
