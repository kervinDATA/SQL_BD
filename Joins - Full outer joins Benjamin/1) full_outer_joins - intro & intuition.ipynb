{
 "cells": [
  {
   "cell_type": "markdown",
   "id": "d784b649",
   "metadata": {},
   "source": [
    "# full outer join - intuition"
   ]
  },
  {
   "cell_type": "markdown",
   "id": "a6c6b8ce",
   "metadata": {},
   "source": [
    "Dans la partie précédente, on a découvert les left joins.\n",
    "\n",
    "Les Left joins servent à garder intacte la table sur laquelle on fait la jointure:\n"
   ]
  },
  {
   "cell_type": "markdown",
   "id": "cb66c8cf",
   "metadata": {},
   "source": [
    "<img src=\"images/left_join_schema.png.png\" />"
   ]
  },
  {
   "cell_type": "markdown",
   "id": "ed7ab645",
   "metadata": {},
   "source": [
    "Mais dans cet exemple, on a perdu l'employé D (pour qui on avait une ancienneté, mais pas de salaire !)"
   ]
  },
  {
   "cell_type": "markdown",
   "id": "3c7d9fed",
   "metadata": {},
   "source": [
    "- Comment faire pour garder D ?\n",
    "- Comment faire pour garder C ET D ?"
   ]
  },
  {
   "cell_type": "markdown",
   "id": "5a57a41b",
   "metadata": {},
   "source": [
    "## Right Join"
   ]
  },
  {
   "cell_type": "code",
   "execution_count": 7,
   "id": "1e4475bd",
   "metadata": {},
   "outputs": [],
   "source": [
    "import pandas as pd\n",
    "import duckdb\n",
    "import io"
   ]
  },
  {
   "cell_type": "code",
   "execution_count": 10,
   "id": "6fc059de",
   "metadata": {
    "cell_style": "split"
   },
   "outputs": [
    {
     "data": {
      "text/html": [
       "<div>\n",
       "<style scoped>\n",
       "    .dataframe tbody tr th:only-of-type {\n",
       "        vertical-align: middle;\n",
       "    }\n",
       "\n",
       "    .dataframe tbody tr th {\n",
       "        vertical-align: top;\n",
       "    }\n",
       "\n",
       "    .dataframe thead th {\n",
       "        text-align: right;\n",
       "    }\n",
       "</style>\n",
       "<table border=\"1\" class=\"dataframe\">\n",
       "  <thead>\n",
       "    <tr style=\"text-align: right;\">\n",
       "      <th></th>\n",
       "      <th>salary</th>\n",
       "      <th>employee_id</th>\n",
       "    </tr>\n",
       "  </thead>\n",
       "  <tbody>\n",
       "    <tr>\n",
       "      <th>0</th>\n",
       "      <td>2000</td>\n",
       "      <td>A</td>\n",
       "    </tr>\n",
       "    <tr>\n",
       "      <th>1</th>\n",
       "      <td>2500</td>\n",
       "      <td>B</td>\n",
       "    </tr>\n",
       "    <tr>\n",
       "      <th>2</th>\n",
       "      <td>2200</td>\n",
       "      <td>C</td>\n",
       "    </tr>\n",
       "  </tbody>\n",
       "</table>\n",
       "</div>"
      ],
      "text/plain": [
       "   salary employee_id\n",
       "0    2000           A\n",
       "1    2500           B\n",
       "2    2200           C"
      ]
     },
     "execution_count": 10,
     "metadata": {},
     "output_type": "execute_result"
    }
   ],
   "source": [
    "csv = '''\n",
    "salary,employee_id\n",
    "2000,A\n",
    "2500,B\n",
    "2200,C\n",
    "'''\n",
    "\n",
    "salaries = pd.read_csv(io.StringIO(csv))\n",
    "salaries"
   ]
  },
  {
   "cell_type": "code",
   "execution_count": 11,
   "id": "0248b8aa",
   "metadata": {
    "cell_style": "split",
    "scrolled": false
   },
   "outputs": [
    {
     "data": {
      "text/html": [
       "<div>\n",
       "<style scoped>\n",
       "    .dataframe tbody tr th:only-of-type {\n",
       "        vertical-align: middle;\n",
       "    }\n",
       "\n",
       "    .dataframe tbody tr th {\n",
       "        vertical-align: top;\n",
       "    }\n",
       "\n",
       "    .dataframe thead th {\n",
       "        text-align: right;\n",
       "    }\n",
       "</style>\n",
       "<table border=\"1\" class=\"dataframe\">\n",
       "  <thead>\n",
       "    <tr style=\"text-align: right;\">\n",
       "      <th></th>\n",
       "      <th>employee_id</th>\n",
       "      <th>seniority</th>\n",
       "    </tr>\n",
       "  </thead>\n",
       "  <tbody>\n",
       "    <tr>\n",
       "      <th>0</th>\n",
       "      <td>A</td>\n",
       "      <td>2ans</td>\n",
       "    </tr>\n",
       "    <tr>\n",
       "      <th>1</th>\n",
       "      <td>B</td>\n",
       "      <td>4ans</td>\n",
       "    </tr>\n",
       "    <tr>\n",
       "      <th>2</th>\n",
       "      <td>D</td>\n",
       "      <td>12ans</td>\n",
       "    </tr>\n",
       "  </tbody>\n",
       "</table>\n",
       "</div>"
      ],
      "text/plain": [
       "  employee_id seniority\n",
       "0           A      2ans\n",
       "1           B      4ans\n",
       "2           D     12ans"
      ]
     },
     "execution_count": 11,
     "metadata": {},
     "output_type": "execute_result"
    }
   ],
   "source": [
    "csv2 = '''\n",
    "employee_id,seniority\n",
    "A,2ans\n",
    "B,4ans\n",
    "D,12ans\n",
    "'''\n",
    "\n",
    "seniorities = pd.read_csv(io.StringIO(csv2))\n",
    "seniorities"
   ]
  },
  {
   "cell_type": "code",
   "execution_count": 13,
   "id": "ffa5725f",
   "metadata": {
    "cell_style": "split"
   },
   "outputs": [
    {
     "data": {
      "text/plain": [
       "┌────────┬─────────────┬───────────┐\n",
       "│ salary │ employee_id │ seniority │\n",
       "│ int64  │   varchar   │  varchar  │\n",
       "├────────┼─────────────┼───────────┤\n",
       "│   2000 │ A           │ 2ans      │\n",
       "│   2500 │ B           │ 4ans      │\n",
       "│   2200 │ C           │ NULL      │\n",
       "└────────┴─────────────┴───────────┘"
      ]
     },
     "execution_count": 13,
     "metadata": {},
     "output_type": "execute_result"
    }
   ],
   "source": [
    "cross_join_query_where = \"\"\"\n",
    "SELECT salary, salaries.employee_id, seniority \n",
    "FROM salaries\n",
    "LEFT JOIN seniorities\n",
    "USING (employee_id)\n",
    "\"\"\"\n",
    "duckdb.sql(cross_join_query_where)"
   ]
  },
  {
   "cell_type": "code",
   "execution_count": 17,
   "id": "09d215d0",
   "metadata": {
    "cell_style": "split"
   },
   "outputs": [
    {
     "data": {
      "text/plain": [
       "┌────────┬─────────────┬───────────┐\n",
       "│ salary │ employee_id │ seniority │\n",
       "│ int64  │   varchar   │  varchar  │\n",
       "├────────┼─────────────┼───────────┤\n",
       "│   2000 │ A           │ 2ans      │\n",
       "│   2500 │ B           │ 4ans      │\n",
       "│   NULL │ NULL        │ 12ans     │\n",
       "└────────┴─────────────┴───────────┘"
      ]
     },
     "execution_count": 17,
     "metadata": {},
     "output_type": "execute_result"
    }
   ],
   "source": [
    "cross_join_query_where = \"\"\"\n",
    "SELECT salary, salaries.employee_id, seniority \n",
    "FROM salaries\n",
    "RIGHT JOIN seniorities\n",
    "USING (employee_id)\n",
    "\"\"\"\n",
    "duckdb.sql(cross_join_query_where)\n",
    "# employee_id est nul, pourquoi ?"
   ]
  },
  {
   "cell_type": "markdown",
   "id": "c22bbd16",
   "metadata": {},
   "source": [
    "Sauf que ça ne sert à rien de faire un RIGHT JOIN.\n",
    "<br />\n",
    "Vous pouvez obtenir le même résultat en faisant un LEFT JOIN:\n"
   ]
  },
  {
   "cell_type": "code",
   "execution_count": 6,
   "id": "4191de6d",
   "metadata": {},
   "outputs": [
    {
     "data": {
      "text/plain": [
       "┌────────┬─────────────┬───────────┐\n",
       "│ salary │ employee_id │ seniority │\n",
       "│ int64  │   varchar   │  varchar  │\n",
       "├────────┼─────────────┼───────────┤\n",
       "│   2000 │ A           │ 2ans      │\n",
       "│   2500 │ B           │ 4ans      │\n",
       "│   NULL │ NULL        │ 12ans     │\n",
       "└────────┴─────────────┴───────────┘"
      ]
     },
     "execution_count": 6,
     "metadata": {},
     "output_type": "execute_result"
    }
   ],
   "source": [
    "cross_join_query_where = \"\"\"\n",
    "SELECT salary, salaries.employee_id, seniority \n",
    "FROM seniorities\n",
    "LEFT JOIN salaries\n",
    "USING (employee_id)\n",
    "\"\"\"\n",
    "duckdb.sql(cross_join_query_where)\n",
    "# employee_id est nul, pourquoi ?"
   ]
  },
  {
   "cell_type": "markdown",
   "id": "46ce56b9",
   "metadata": {},
   "source": [
    "<img src=\"images/Zach_wilson_right_joins.png\" />"
   ]
  },
  {
   "cell_type": "markdown",
   "id": "6bd472c5",
   "metadata": {},
   "source": [
    "<blockquote> \"Ok, du coup je ferai jamais de right join. Mais comment je fais si je veux récupérer les deux tables entièrement, je dois bien faire un LEFT + un JOIN non ?\" </blockquote>"
   ]
  },
  {
   "cell_type": "markdown",
   "id": "4f583a0d",
   "metadata": {},
   "source": [
    "C'est là qu'entre en jeu la notion de full outer join, qu'on va travailler dans le prochain notebook ;)"
   ]
  }
 ],
 "metadata": {
  "kernelspec": {
   "display_name": "Python 3 (ipykernel)",
   "language": "python",
   "name": "python3"
  },
  "language_info": {
   "codemirror_mode": {
    "name": "ipython",
    "version": 3
   },
   "file_extension": ".py",
   "mimetype": "text/x-python",
   "name": "python",
   "nbconvert_exporter": "python",
   "pygments_lexer": "ipython3",
   "version": "3.11.4"
  }
 },
 "nbformat": 4,
 "nbformat_minor": 5
}
