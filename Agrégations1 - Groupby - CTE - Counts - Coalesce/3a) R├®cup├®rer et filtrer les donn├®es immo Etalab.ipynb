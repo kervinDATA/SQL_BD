{
 "cells": [
  {
   "cell_type": "markdown",
   "id": "3453b454",
   "metadata": {},
   "source": [
    "Aller sur https://www.data.gouv.fr/fr/datasets/demandes-de-valeurs-foncieres/\n",
    "\n",
    "\n",
    "Télécharger le fichier des ventes 2022 (et / ou les années précédentes si vous le souhaitez)\n",
    "\n",
    "\n",
    "Placer le fichier dans un dossier data"
   ]
  },
  {
   "cell_type": "code",
   "execution_count": 1,
   "id": "4f1c0552",
   "metadata": {},
   "outputs": [
    {
     "name": "stdout",
     "output_type": "stream",
     "text": [
      "Identifiant de document|Reference document|1 Articles CGI|2 Articles CGI|3 Articles CGI|4 Articles CGI|5 Articles CGI|No disposition|Date mutation|Nature mutation|Valeur fonciere|No voie|B/T/Q|Type de voie|Code voie|Voie|Code postal|Commune|Code departement|Code commune|Prefixe de section|Section|No plan|No Volume|1er lot|Surface Carrez du 1er lot|2eme lot|Surface Carrez du 2eme lot|3eme lot|Surface Carrez du 3eme lot|4eme lot|Surface Carrez du 4eme lot|5eme lot|Surface Carrez du 5eme lot|Nombre de lots|Code type local|Type local|Identifiant local|Surface reelle bati|Nombre pieces principales|Nature culture|Nature culture speciale|Surface terrain\r\n",
      "|||||||000001|03/01/2022|Vente|55000,00|13||RUE|2280|DE LA LIBERTE|1000|BOURG-EN-BRESSE|01|53||AM|102||7|24,10|||||||||1|2|Appartement||24|1|||\r\n",
      "|||||||000001|03/01/2022|Vente|143000,00||||B010|CHAMP COCHET|1480|SAVIGNEUX|01|398||ZE|184||||||||||||0||||||S||84\r\n",
      "|||||||000001|03/01/2022|Vente|143000,00||||B010|CHAMP COCHET|1480|SAVIGNEUX|01|398||ZE|185||||||||||||0||||||S||88\r\n",
      "|||||||000001|03/01/2022|Vente|143000,00|98||RTE|0055|DE LA DOMBES|1480|SAVIGNEUX|01|398||ZE|187||1|123,23|||||||||1|2|Appartement||140|3|||\r\n",
      "|||||||000001|04/01/2022|Vente|300,00||||B031|AUX PIERRES|1480|MESSIMY SUR SAONE|01|243||A|643||||||||||||0||||||T||510\r\n",
      "|||||||000001|06/01/2022|Vente|255000,00|282||RTE|0130|DE POISATON|1560|MANTENAY-MONTLIN|01|230||ZM|124||||||||||||0|1|Maison||108|5|S||649\r\n",
      "|||||||000001|06/01/2022|Vente|255000,00||||B047|LA FREGONIERE|1560|MANTENAY-MONTLIN|01|230||ZM|126||||||||||||0||||||S||360\r\n",
      "|||||||000001|03/01/2022|Vente|525000,00|||PL|0300|DE LA CROIX BLANCHE|1390|SAINT-ANDRE-DE-CORCY|01|333||AN|23||||||||||||0||||||S||50\r\n",
      "|||||||000001|03/01/2022|Vente|525000,00|217||PL|0300|DE LA CROIX BLANCHE|1390|SAINT-ANDRE-DE-CORCY|01|333||AN|186||||||||||||0|4|Local industriel. commercial ou assimilé||424|0|S||628\r\n"
     ]
    }
   ],
   "source": [
    "!head data/valeursfoncieres-2022.txt"
   ]
  },
  {
   "cell_type": "markdown",
   "id": "cfe19587",
   "metadata": {},
   "source": [
    "On s'aperçoit que le délimiteur n'est ni un comma (virgure \",\"), ni une tab (tabulation, \"\\t\").\n",
    "\n",
    "\n",
    "Ils ont choisi d'utiliser le pipe \"|\" comme délimiteur\n",
    "\n",
    "Je ne sais pas comment faire ce pipe sur Mac. Sur ma version de Windows, c'est \"AltGR + 6\".\n",
    "\n",
    "\n",
    "Mais ça n'est pas important, je l'ai déjà setup dans la commande de lecture du fichier pour vous:"
   ]
  },
  {
   "cell_type": "code",
   "execution_count": 30,
   "id": "6ed912de",
   "metadata": {
    "scrolled": true
   },
   "outputs": [
    {
     "name": "stderr",
     "output_type": "stream",
     "text": [
      "/tmp/ipykernel_1753/3262548704.py:2: DtypeWarning: Columns (18,23,24,26,28,29,31,33,41) have mixed types. Specify dtype option on import or set low_memory=False.\n",
      "  df = pd.read_csv(\"data/valeursfoncieres-2022.txt\", sep=\"|\")\n"
     ]
    }
   ],
   "source": [
    "import pandas as pd\n",
    "df = pd.read_csv(\"data/valeursfoncieres-2022.txt\", sep=\"|\")"
   ]
  },
  {
   "cell_type": "code",
   "execution_count": 3,
   "id": "a054963c",
   "metadata": {
    "scrolled": true
   },
   "outputs": [
    {
     "data": {
      "text/plain": [
       "Index(['Identifiant de document', 'Reference document', '1 Articles CGI',\n",
       "       '2 Articles CGI', '3 Articles CGI', '4 Articles CGI', '5 Articles CGI',\n",
       "       'No disposition', 'Date mutation', 'Nature mutation', 'Valeur fonciere',\n",
       "       'No voie', 'B/T/Q', 'Type de voie', 'Code voie', 'Voie', 'Code postal',\n",
       "       'Commune', 'Code departement', 'Code commune', 'Prefixe de section',\n",
       "       'Section', 'No plan', 'No Volume', '1er lot',\n",
       "       'Surface Carrez du 1er lot', '2eme lot', 'Surface Carrez du 2eme lot',\n",
       "       '3eme lot', 'Surface Carrez du 3eme lot', '4eme lot',\n",
       "       'Surface Carrez du 4eme lot', '5eme lot', 'Surface Carrez du 5eme lot',\n",
       "       'Nombre de lots', 'Code type local', 'Type local', 'Identifiant local',\n",
       "       'Surface reelle bati', 'Nombre pieces principales', 'Nature culture',\n",
       "       'Nature culture speciale', 'Surface terrain'],\n",
       "      dtype='object')"
      ]
     },
     "execution_count": 3,
     "metadata": {},
     "output_type": "execute_result"
    }
   ],
   "source": [
    "df.columns"
   ]
  },
  {
   "cell_type": "code",
   "execution_count": 4,
   "id": "f7853d56",
   "metadata": {},
   "outputs": [
    {
     "data": {
      "text/plain": [
       "Identifiant de document       3803885\n",
       "Reference document            3803885\n",
       "1 Articles CGI                3803885\n",
       "2 Articles CGI                3803885\n",
       "3 Articles CGI                3803885\n",
       "4 Articles CGI                3803885\n",
       "5 Articles CGI                3803885\n",
       "No disposition                      0\n",
       "Date mutation                       0\n",
       "Nature mutation                     0\n",
       "Valeur fonciere                 24721\n",
       "No voie                       1321227\n",
       "B/T/Q                         3627918\n",
       "Type de voie                  1406840\n",
       "Code voie                       39043\n",
       "Voie                            39153\n",
       "Code postal                     39173\n",
       "Commune                             0\n",
       "Code departement                    0\n",
       "Code commune                        0\n",
       "Prefixe de section            3645046\n",
       "Section                           155\n",
       "No plan                             0\n",
       "No Volume                     3794976\n",
       "1er lot                       2534572\n",
       "Surface Carrez du 1er lot     3436147\n",
       "2eme lot                      3405819\n",
       "Surface Carrez du 2eme lot    3679945\n",
       "3eme lot                      3732930\n",
       "Surface Carrez du 3eme lot    3790026\n",
       "4eme lot                      3781161\n",
       "Surface Carrez du 4eme lot    3800533\n",
       "5eme lot                      3794152\n",
       "Surface Carrez du 5eme lot    3802648\n",
       "Nombre de lots                      0\n",
       "Code type local               1518453\n",
       "Type local                    1518453\n",
       "Identifiant local             3803885\n",
       "Surface reelle bati           1520542\n",
       "Nombre pieces principales     1520542\n",
       "Nature culture                1286889\n",
       "Nature culture speciale       3649229\n",
       "Surface terrain               1286889\n",
       "dtype: int64"
      ]
     },
     "execution_count": 4,
     "metadata": {},
     "output_type": "execute_result"
    }
   ],
   "source": [
    "# Tout un tas de colonnes sont nulles, on ne les garde pas\n",
    "df.isnull().sum()"
   ]
  },
  {
   "cell_type": "code",
   "execution_count": 5,
   "id": "80a55bc6",
   "metadata": {},
   "outputs": [],
   "source": [
    "# J'ai aussi enlevé d'autres colonnes qui ne nous servent à rien, comme la Nature de la mutation\n",
    "cols_of_interest = [\n",
    "    \"Date mutation\",\n",
    "    \"Valeur fonciere\",\n",
    "    \"No voie\",\n",
    "    \"Type de voie\",\n",
    "    \"Code voie\",\n",
    "    \"Voie\",\n",
    "    \"Code postal\",\n",
    "    \"Commune\",\n",
    "    \"Code departement\",\n",
    "    \"Code commune\",\n",
    "    \"Surface Carrez du 1er lot\",\n",
    "    \"Nombre pieces principales\",\n",
    "    \"Surface terrain\",\n",
    "]\n"
   ]
  },
  {
   "cell_type": "markdown",
   "id": "cf959cab",
   "metadata": {},
   "source": [
    "Puis je garde les données qui concernent les appartements vendus dans le Nord (59) ou dans le Pas de Calais (62)"
   ]
  },
  {
   "cell_type": "code",
   "execution_count": 6,
   "id": "8c8a2a3f",
   "metadata": {},
   "outputs": [
    {
     "name": "stdout",
     "output_type": "stream",
     "text": [
      "420\n"
     ]
    },
    {
     "data": {
      "text/html": [
       "<div>\n",
       "<style scoped>\n",
       "    .dataframe tbody tr th:only-of-type {\n",
       "        vertical-align: middle;\n",
       "    }\n",
       "\n",
       "    .dataframe tbody tr th {\n",
       "        vertical-align: top;\n",
       "    }\n",
       "\n",
       "    .dataframe thead th {\n",
       "        text-align: right;\n",
       "    }\n",
       "</style>\n",
       "<table border=\"1\" class=\"dataframe\">\n",
       "  <thead>\n",
       "    <tr style=\"text-align: right;\">\n",
       "      <th></th>\n",
       "      <th>Date mutation</th>\n",
       "      <th>Valeur fonciere</th>\n",
       "      <th>No voie</th>\n",
       "      <th>Type de voie</th>\n",
       "      <th>Code voie</th>\n",
       "      <th>Voie</th>\n",
       "      <th>Code postal</th>\n",
       "      <th>Commune</th>\n",
       "      <th>Code departement</th>\n",
       "      <th>Code commune</th>\n",
       "      <th>Surface Carrez du 1er lot</th>\n",
       "      <th>Nombre pieces principales</th>\n",
       "      <th>Surface terrain</th>\n",
       "    </tr>\n",
       "  </thead>\n",
       "  <tbody>\n",
       "    <tr>\n",
       "      <th>2128057</th>\n",
       "      <td>04/01/2022</td>\n",
       "      <td>208000,00</td>\n",
       "      <td>64.0</td>\n",
       "      <td>RUE</td>\n",
       "      <td>0010</td>\n",
       "      <td>DE L ABBE BONPAIN</td>\n",
       "      <td>59700.0</td>\n",
       "      <td>MARCQ EN BAROEUL</td>\n",
       "      <td>59</td>\n",
       "      <td>378</td>\n",
       "      <td>57,69</td>\n",
       "      <td>3.0</td>\n",
       "      <td>NaN</td>\n",
       "    </tr>\n",
       "    <tr>\n",
       "      <th>2128060</th>\n",
       "      <td>04/01/2022</td>\n",
       "      <td>113000,00</td>\n",
       "      <td>1.0</td>\n",
       "      <td>RUE</td>\n",
       "      <td>0260</td>\n",
       "      <td>GUY MOCQUET</td>\n",
       "      <td>59113.0</td>\n",
       "      <td>SECLIN</td>\n",
       "      <td>59</td>\n",
       "      <td>560</td>\n",
       "      <td>45,72</td>\n",
       "      <td>3.0</td>\n",
       "      <td>NaN</td>\n",
       "    </tr>\n",
       "    <tr>\n",
       "      <th>2128064</th>\n",
       "      <td>03/01/2022</td>\n",
       "      <td>185000,00</td>\n",
       "      <td>22.0</td>\n",
       "      <td>RUE</td>\n",
       "      <td>8749</td>\n",
       "      <td>DE TREVISE</td>\n",
       "      <td>59000.0</td>\n",
       "      <td>LILLE</td>\n",
       "      <td>59</td>\n",
       "      <td>350</td>\n",
       "      <td>62,83</td>\n",
       "      <td>3.0</td>\n",
       "      <td>NaN</td>\n",
       "    </tr>\n",
       "    <tr>\n",
       "      <th>2128065</th>\n",
       "      <td>04/01/2022</td>\n",
       "      <td>120350,00</td>\n",
       "      <td>132.0</td>\n",
       "      <td>RUE</td>\n",
       "      <td>7554</td>\n",
       "      <td>ROGER SALENGRO</td>\n",
       "      <td>59260.0</td>\n",
       "      <td>LILLE</td>\n",
       "      <td>59</td>\n",
       "      <td>350</td>\n",
       "      <td>43,64</td>\n",
       "      <td>2.0</td>\n",
       "      <td>NaN</td>\n",
       "    </tr>\n",
       "    <tr>\n",
       "      <th>2128072</th>\n",
       "      <td>04/01/2022</td>\n",
       "      <td>149000,00</td>\n",
       "      <td>7.0</td>\n",
       "      <td>ALL</td>\n",
       "      <td>3430</td>\n",
       "      <td>DES COLOMBIERS</td>\n",
       "      <td>59650.0</td>\n",
       "      <td>VILLENEUVE-D'ASCQ</td>\n",
       "      <td>59</td>\n",
       "      <td>9</td>\n",
       "      <td>59,02</td>\n",
       "      <td>2.0</td>\n",
       "      <td>NaN</td>\n",
       "    </tr>\n",
       "    <tr>\n",
       "      <th>...</th>\n",
       "      <td>...</td>\n",
       "      <td>...</td>\n",
       "      <td>...</td>\n",
       "      <td>...</td>\n",
       "      <td>...</td>\n",
       "      <td>...</td>\n",
       "      <td>...</td>\n",
       "      <td>...</td>\n",
       "      <td>...</td>\n",
       "      <td>...</td>\n",
       "      <td>...</td>\n",
       "      <td>...</td>\n",
       "      <td>...</td>\n",
       "    </tr>\n",
       "    <tr>\n",
       "      <th>2367475</th>\n",
       "      <td>18/02/2022</td>\n",
       "      <td>400000,00</td>\n",
       "      <td>8.0</td>\n",
       "      <td>RUE</td>\n",
       "      <td>1540</td>\n",
       "      <td>STE ALDEGONDE</td>\n",
       "      <td>62500.0</td>\n",
       "      <td>SAINT OMER</td>\n",
       "      <td>62</td>\n",
       "      <td>765</td>\n",
       "      <td>NaN</td>\n",
       "      <td>2.0</td>\n",
       "      <td>204.0</td>\n",
       "    </tr>\n",
       "    <tr>\n",
       "      <th>2367476</th>\n",
       "      <td>18/02/2022</td>\n",
       "      <td>400000,00</td>\n",
       "      <td>8.0</td>\n",
       "      <td>RUE</td>\n",
       "      <td>1540</td>\n",
       "      <td>STE ALDEGONDE</td>\n",
       "      <td>62500.0</td>\n",
       "      <td>SAINT OMER</td>\n",
       "      <td>62</td>\n",
       "      <td>765</td>\n",
       "      <td>NaN</td>\n",
       "      <td>2.0</td>\n",
       "      <td>204.0</td>\n",
       "    </tr>\n",
       "    <tr>\n",
       "      <th>2367477</th>\n",
       "      <td>18/02/2022</td>\n",
       "      <td>400000,00</td>\n",
       "      <td>8.0</td>\n",
       "      <td>RUE</td>\n",
       "      <td>1540</td>\n",
       "      <td>STE ALDEGONDE</td>\n",
       "      <td>62500.0</td>\n",
       "      <td>SAINT OMER</td>\n",
       "      <td>62</td>\n",
       "      <td>765</td>\n",
       "      <td>NaN</td>\n",
       "      <td>2.0</td>\n",
       "      <td>204.0</td>\n",
       "    </tr>\n",
       "    <tr>\n",
       "      <th>2367478</th>\n",
       "      <td>18/02/2022</td>\n",
       "      <td>400000,00</td>\n",
       "      <td>8.0</td>\n",
       "      <td>RUE</td>\n",
       "      <td>1540</td>\n",
       "      <td>STE ALDEGONDE</td>\n",
       "      <td>62500.0</td>\n",
       "      <td>SAINT OMER</td>\n",
       "      <td>62</td>\n",
       "      <td>765</td>\n",
       "      <td>NaN</td>\n",
       "      <td>2.0</td>\n",
       "      <td>204.0</td>\n",
       "    </tr>\n",
       "    <tr>\n",
       "      <th>2367479</th>\n",
       "      <td>18/02/2022</td>\n",
       "      <td>400000,00</td>\n",
       "      <td>8.0</td>\n",
       "      <td>RUE</td>\n",
       "      <td>1540</td>\n",
       "      <td>STE ALDEGONDE</td>\n",
       "      <td>62500.0</td>\n",
       "      <td>SAINT OMER</td>\n",
       "      <td>62</td>\n",
       "      <td>765</td>\n",
       "      <td>NaN</td>\n",
       "      <td>2.0</td>\n",
       "      <td>204.0</td>\n",
       "    </tr>\n",
       "  </tbody>\n",
       "</table>\n",
       "<p>20664 rows × 13 columns</p>\n",
       "</div>"
      ],
      "text/plain": [
       "        Date mutation Valeur fonciere  No voie Type de voie Code voie  \\\n",
       "2128057    04/01/2022       208000,00     64.0          RUE      0010   \n",
       "2128060    04/01/2022       113000,00      1.0          RUE      0260   \n",
       "2128064    03/01/2022       185000,00     22.0          RUE      8749   \n",
       "2128065    04/01/2022       120350,00    132.0          RUE      7554   \n",
       "2128072    04/01/2022       149000,00      7.0          ALL      3430   \n",
       "...               ...             ...      ...          ...       ...   \n",
       "2367475    18/02/2022       400000,00      8.0          RUE      1540   \n",
       "2367476    18/02/2022       400000,00      8.0          RUE      1540   \n",
       "2367477    18/02/2022       400000,00      8.0          RUE      1540   \n",
       "2367478    18/02/2022       400000,00      8.0          RUE      1540   \n",
       "2367479    18/02/2022       400000,00      8.0          RUE      1540   \n",
       "\n",
       "                      Voie  Code postal            Commune Code departement  \\\n",
       "2128057  DE L ABBE BONPAIN      59700.0   MARCQ EN BAROEUL               59   \n",
       "2128060        GUY MOCQUET      59113.0             SECLIN               59   \n",
       "2128064         DE TREVISE      59000.0              LILLE               59   \n",
       "2128065     ROGER SALENGRO      59260.0              LILLE               59   \n",
       "2128072     DES COLOMBIERS      59650.0  VILLENEUVE-D'ASCQ               59   \n",
       "...                    ...          ...                ...              ...   \n",
       "2367475      STE ALDEGONDE      62500.0         SAINT OMER               62   \n",
       "2367476      STE ALDEGONDE      62500.0         SAINT OMER               62   \n",
       "2367477      STE ALDEGONDE      62500.0         SAINT OMER               62   \n",
       "2367478      STE ALDEGONDE      62500.0         SAINT OMER               62   \n",
       "2367479      STE ALDEGONDE      62500.0         SAINT OMER               62   \n",
       "\n",
       "         Code commune Surface Carrez du 1er lot  Nombre pieces principales  \\\n",
       "2128057           378                     57,69                        3.0   \n",
       "2128060           560                     45,72                        3.0   \n",
       "2128064           350                     62,83                        3.0   \n",
       "2128065           350                     43,64                        2.0   \n",
       "2128072             9                     59,02                        2.0   \n",
       "...               ...                       ...                        ...   \n",
       "2367475           765                       NaN                        2.0   \n",
       "2367476           765                       NaN                        2.0   \n",
       "2367477           765                       NaN                        2.0   \n",
       "2367478           765                       NaN                        2.0   \n",
       "2367479           765                       NaN                        2.0   \n",
       "\n",
       "         Surface terrain  \n",
       "2128057              NaN  \n",
       "2128060              NaN  \n",
       "2128064              NaN  \n",
       "2128065              NaN  \n",
       "2128072              NaN  \n",
       "...                  ...  \n",
       "2367475            204.0  \n",
       "2367476            204.0  \n",
       "2367477            204.0  \n",
       "2367478            204.0  \n",
       "2367479            204.0  \n",
       "\n",
       "[20664 rows x 13 columns]"
      ]
     },
     "execution_count": 6,
     "metadata": {},
     "output_type": "execute_result"
    }
   ],
   "source": [
    "mask_nord = df[\"Code departement\"] == 59\n",
    "mask_pdc = df[\"Code departement\"] == 62\n",
    "mask_appt = df[\"Type local\"] == \"Appartement\"\n",
    "\n",
    "appt_nord = df[(mask_nord | mask_pdc) & mask_appt][cols_of_interest]\n",
    "\n",
    "# 420 apparts pour lesquels on n'a pas le montant de la vente\n",
    "print(\n",
    "    appt_nord[\"Valeur fonciere\"]\n",
    "    .isnull().sum()\n",
    ")\n",
    "#drop\n",
    "appt_nord = appt_nord[ ~appt_nord[\"Valeur fonciere\"].isnull() ]\n",
    "appt_nord"
   ]
  },
  {
   "cell_type": "markdown",
   "id": "b8d10017",
   "metadata": {},
   "source": [
    "Les valeurs foncières sont des nombres avec les virgules au format excel.\n",
    "\n",
    "Python ne va pas aimer ça, on va les remplacer"
   ]
  },
  {
   "cell_type": "code",
   "execution_count": 7,
   "id": "a1600370",
   "metadata": {},
   "outputs": [],
   "source": [
    "appt_nord[\"Valeur fonciere\"] = appt_nord[\"Valeur fonciere\"].apply(lambda x: int(x.split(\",\")[0]))"
   ]
  },
  {
   "cell_type": "markdown",
   "id": "31a8b05d",
   "metadata": {},
   "source": [
    "## Clean Pandas: All in one"
   ]
  },
  {
   "cell_type": "code",
   "execution_count": 36,
   "id": "c3c1f7c6",
   "metadata": {
    "scrolled": false
   },
   "outputs": [
    {
     "data": {
      "text/plain": [
       "(18298, 13)"
      ]
     },
     "execution_count": 36,
     "metadata": {},
     "output_type": "execute_result"
    }
   ],
   "source": [
    "cols_of_interest = [\n",
    "    \"Date mutation\",\n",
    "    \"valeur_fonciere\",\n",
    "    \"No voie\",\n",
    "    \"Type de voie\",\n",
    "    \"Code voie\",\n",
    "    \"Voie\",\n",
    "    \"Code postal\",\n",
    "    \"Commune\",\n",
    "    \"Code departement\",\n",
    "    \"Code commune\",\n",
    "    \"Surface Carrez du 1er lot\",\n",
    "    \"Nombre pieces principales\",\n",
    "    \"Surface terrain\",\n",
    "]\n",
    "\n",
    "def convert_to_float(valeur_fonciere):\n",
    "    return float(valeur_fonciere.replace(\",\", \".\"))\n",
    "\n",
    "\n",
    "appt_nord = (\n",
    "    df.query(\"`Code departement` in [59, 62] & `Type local` == 'Appartement'\")\n",
    "    #.query(\"`Valeur fonciere` == `Valeur fonciere`\")\n",
    "    .query(\"`Valeur fonciere` .notnull()\", engine=\"python\")\n",
    "    .rename({\"Valeur fonciere\": \"valeur_fonciere\"}, axis=1)\n",
    "    .assign(valeur_fonciere=lambda df_: df_.valeur_fonciere.apply(convert_to_float))\n",
    "    #.drop_duplicates()\n",
    ")[cols_of_interest]\n",
    "\n",
    "appt_nord.shape"
   ]
  },
  {
   "cell_type": "markdown",
   "id": "19572ed7",
   "metadata": {},
   "source": [
    "La ligne commentée fait la même chose que la ligne suivante.\n",
    "\n",
    "On enlève les valeurs nulles.\n",
    "\n",
    "La raison pour laquelle ça marche, c'est parce qu'un Nan n'est pas égal à lui même:"
   ]
  },
  {
   "cell_type": "code",
   "execution_count": 34,
   "id": "99047ace",
   "metadata": {},
   "outputs": [
    {
     "data": {
      "text/plain": [
       "False"
      ]
     },
     "execution_count": 34,
     "metadata": {},
     "output_type": "execute_result"
    }
   ],
   "source": [
    "import numpy as np\n",
    "np.NaN == np.NaN"
   ]
  },
  {
   "cell_type": "code",
   "execution_count": 35,
   "id": "5c5019f3",
   "metadata": {},
   "outputs": [],
   "source": [
    "appt_nord.to_csv(\"data/appartements_nord_pdc.csv\", index=False)"
   ]
  },
  {
   "cell_type": "code",
   "execution_count": null,
   "id": "181697c2",
   "metadata": {},
   "outputs": [],
   "source": []
  },
  {
   "cell_type": "code",
   "execution_count": null,
   "id": "758c82bf",
   "metadata": {},
   "outputs": [],
   "source": []
  },
  {
   "cell_type": "markdown",
   "id": "18a40a43",
   "metadata": {},
   "source": [
    "# Performance"
   ]
  },
  {
   "cell_type": "code",
   "execution_count": null,
   "id": "befdbe74",
   "metadata": {},
   "outputs": [],
   "source": []
  },
  {
   "cell_type": "code",
   "execution_count": 12,
   "id": "1ad855e7",
   "metadata": {},
   "outputs": [
    {
     "name": "stdout",
     "output_type": "stream",
     "text": [
      "101 ms ± 2.04 ms per loop (mean ± std. dev. of 7 runs, 10 loops each)\n"
     ]
    }
   ],
   "source": [
    "%%timeit\n",
    "(\n",
    "    df.query(\"`Code departement` in [59, 62] & `Type local` == 'Appartement'\")\n",
    ")"
   ]
  },
  {
   "cell_type": "code",
   "execution_count": 13,
   "id": "e2a0010a",
   "metadata": {},
   "outputs": [
    {
     "name": "stdout",
     "output_type": "stream",
     "text": [
      "74.3 ms ± 858 µs per loop (mean ± std. dev. of 7 runs, 10 loops each)\n"
     ]
    }
   ],
   "source": [
    "%%timeit\n",
    "(\n",
    "    df.query(\"`Code departement` in [59, 62]\")\n",
    "    .query(\"`Type local` == 'Appartement'\")\n",
    ")"
   ]
  },
  {
   "cell_type": "code",
   "execution_count": 14,
   "id": "84e16a4e",
   "metadata": {},
   "outputs": [
    {
     "name": "stdout",
     "output_type": "stream",
     "text": [
      "196 ms ± 3.29 ms per loop (mean ± std. dev. of 7 runs, 1 loop each)\n"
     ]
    }
   ],
   "source": [
    "%%timeit\n",
    "(\n",
    "    df.query(\"`Type local` == 'Appartement'\")\n",
    "    .query(\"`Code departement` in [59, 62]\")\n",
    ")"
   ]
  },
  {
   "cell_type": "code",
   "execution_count": 15,
   "id": "492e12bd",
   "metadata": {},
   "outputs": [],
   "source": [
    "import duckdb"
   ]
  },
  {
   "cell_type": "markdown",
   "id": "e440f7ed",
   "metadata": {},
   "source": [
    "Par défaut, By default, DuckDB reads the first 100 lines of a dataframe to determine the data type for Pandas \"object\" columns. If those 100 lines are null, it might guess the wrong type.\n",
    "\n",
    "Override this behavior with:\n"
   ]
  },
  {
   "cell_type": "code",
   "execution_count": 16,
   "id": "3538a79d",
   "metadata": {},
   "outputs": [
    {
     "data": {
      "text/plain": [
       "<duckdb.DuckDBPyConnection at 0x7f918769ebb0>"
      ]
     },
     "execution_count": 16,
     "metadata": {},
     "output_type": "execute_result"
    }
   ],
   "source": [
    "duckdb.default_connection.execute(\"SET GLOBAL pandas_analyze_sample=100000\")"
   ]
  },
  {
   "cell_type": "markdown",
   "id": "27087cdb",
   "metadata": {},
   "source": [
    "Source: https://stackoverflow.com/questions/75352219/fix-unimplemented-casting-error-in-duckdb-insert"
   ]
  },
  {
   "cell_type": "code",
   "execution_count": 17,
   "id": "d8de096f",
   "metadata": {},
   "outputs": [
    {
     "name": "stdout",
     "output_type": "stream",
     "text": [
      "321 ms ± 4.16 ms per loop (mean ± std. dev. of 7 runs, 1 loop each)\n"
     ]
    }
   ],
   "source": [
    "%%timeit\n",
    "query = \"\"\"\n",
    "SELECT * FROM df\n",
    "WHERE \"Code departement\" in (59, 62) AND \"Type local\" = 'Appartement'\n",
    "\"\"\"\n",
    "\n",
    "duckdb.sql(query)\n"
   ]
  },
  {
   "cell_type": "code",
   "execution_count": 18,
   "id": "96e47cd2",
   "metadata": {},
   "outputs": [
    {
     "name": "stdout",
     "output_type": "stream",
     "text": [
      "317 ms ± 2.24 ms per loop (mean ± std. dev. of 7 runs, 1 loop each)\n"
     ]
    }
   ],
   "source": [
    "%%timeit\n",
    "query = \"\"\"\n",
    "SELECT * FROM df\n",
    "WHERE \"Type local\" = 'Appartement' AND \"Code departement\" in (59, 62)\n",
    "\"\"\"\n",
    "\n",
    "duckdb.sql(query)\n"
   ]
  },
  {
   "cell_type": "markdown",
   "id": "f7a81688",
   "metadata": {},
   "source": [
    "DuckDB irait sans doute beaucoup plus vite si la colonne était entièrement composée de INT. Mais les départements de la CORSE (2A et 2B) empêchent de caster toute la colonne en INT"
   ]
  }
 ],
 "metadata": {
  "kernelspec": {
   "display_name": "Python 3 (ipykernel)",
   "language": "python",
   "name": "python3"
  },
  "language_info": {
   "codemirror_mode": {
    "name": "ipython",
    "version": 3
   },
   "file_extension": ".py",
   "mimetype": "text/x-python",
   "name": "python",
   "nbconvert_exporter": "python",
   "pygments_lexer": "ipython3",
   "version": "3.9.13"
  }
 },
 "nbformat": 4,
 "nbformat_minor": 5
}
