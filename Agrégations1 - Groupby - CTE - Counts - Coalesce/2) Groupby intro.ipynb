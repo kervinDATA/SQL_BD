{
 "cells": [
  {
   "cell_type": "markdown",
   "id": "7e08a648",
   "metadata": {},
   "source": [
    "# Group by: the bread and butter of analytics"
   ]
  },
  {
   "cell_type": "markdown",
   "id": "321a688a",
   "metadata": {},
   "source": [
    "Dans le notebook précédent, on a vu que les agrégations trouvent très vite leurs limites si elles ne sont pas faites au bon niveau."
   ]
  },
  {
   "cell_type": "markdown",
   "id": "12292697",
   "metadata": {},
   "source": [
    "Pour réduire le set sur lequel on va réaliser l'agrégation, on peut utiliser la clause groupby"
   ]
  },
  {
   "cell_type": "markdown",
   "id": "7e693d44",
   "metadata": {},
   "source": [
    "Ca fonctionne de la manière suivante:"
   ]
  },
  {
   "cell_type": "markdown",
   "id": "16446deb",
   "metadata": {},
   "source": [
    "## Exemple ventes client"
   ]
  },
  {
   "cell_type": "markdown",
   "id": "2ecee3f6",
   "metadata": {},
   "source": [
    "Imaginons qu'on ait une table de ventes avec le montant dépensé par chaque client pour chaque opération:"
   ]
  },
  {
   "cell_type": "code",
   "execution_count": 7,
   "id": "2fc3a7a1",
   "metadata": {},
   "outputs": [],
   "source": [
    "import pandas as pd\n",
    "import duckdb"
   ]
  },
  {
   "cell_type": "code",
   "execution_count": 8,
   "id": "2ccab57e",
   "metadata": {},
   "outputs": [
    {
     "data": {
      "text/html": [
       "<div>\n",
       "<style scoped>\n",
       "    .dataframe tbody tr th:only-of-type {\n",
       "        vertical-align: middle;\n",
       "    }\n",
       "\n",
       "    .dataframe tbody tr th {\n",
       "        vertical-align: top;\n",
       "    }\n",
       "\n",
       "    .dataframe thead th {\n",
       "        text-align: right;\n",
       "    }\n",
       "</style>\n",
       "<table border=\"1\" class=\"dataframe\">\n",
       "  <thead>\n",
       "    <tr style=\"text-align: right;\">\n",
       "      <th></th>\n",
       "      <th>montant</th>\n",
       "      <th>client</th>\n",
       "    </tr>\n",
       "  </thead>\n",
       "  <tbody>\n",
       "    <tr>\n",
       "      <th>0</th>\n",
       "      <td>120.00</td>\n",
       "      <td>Oussama</td>\n",
       "    </tr>\n",
       "    <tr>\n",
       "      <th>1</th>\n",
       "      <td>49.00</td>\n",
       "      <td>Julie</td>\n",
       "    </tr>\n",
       "    <tr>\n",
       "      <th>2</th>\n",
       "      <td>35.00</td>\n",
       "      <td>Chris</td>\n",
       "    </tr>\n",
       "    <tr>\n",
       "      <th>3</th>\n",
       "      <td>23.00</td>\n",
       "      <td>Tom</td>\n",
       "    </tr>\n",
       "    <tr>\n",
       "      <th>4</th>\n",
       "      <td>19.00</td>\n",
       "      <td>Oussama</td>\n",
       "    </tr>\n",
       "    <tr>\n",
       "      <th>5</th>\n",
       "      <td>5.99</td>\n",
       "      <td>Julie</td>\n",
       "    </tr>\n",
       "    <tr>\n",
       "      <th>6</th>\n",
       "      <td>20.00</td>\n",
       "      <td>Chris</td>\n",
       "    </tr>\n",
       "    <tr>\n",
       "      <th>7</th>\n",
       "      <td>18.77</td>\n",
       "      <td>Tom</td>\n",
       "    </tr>\n",
       "    <tr>\n",
       "      <th>8</th>\n",
       "      <td>39.00</td>\n",
       "      <td>Oussama</td>\n",
       "    </tr>\n",
       "    <tr>\n",
       "      <th>9</th>\n",
       "      <td>10.00</td>\n",
       "      <td>Julie</td>\n",
       "    </tr>\n",
       "    <tr>\n",
       "      <th>10</th>\n",
       "      <td>17.00</td>\n",
       "      <td>Chris</td>\n",
       "    </tr>\n",
       "    <tr>\n",
       "      <th>11</th>\n",
       "      <td>12.00</td>\n",
       "      <td>Tom</td>\n",
       "    </tr>\n",
       "  </tbody>\n",
       "</table>\n",
       "</div>"
      ],
      "text/plain": [
       "    montant   client\n",
       "0    120.00  Oussama\n",
       "1     49.00    Julie\n",
       "2     35.00    Chris\n",
       "3     23.00      Tom\n",
       "4     19.00  Oussama\n",
       "5      5.99    Julie\n",
       "6     20.00    Chris\n",
       "7     18.77      Tom\n",
       "8     39.00  Oussama\n",
       "9     10.00    Julie\n",
       "10    17.00    Chris\n",
       "11    12.00      Tom"
      ]
     },
     "execution_count": 8,
     "metadata": {},
     "output_type": "execute_result"
    }
   ],
   "source": [
    "clients = [\"Oussama\", \"Julie\", \"Chris\", \"Tom\"]\n",
    "ventes = [120, 49, 35, 23, 19, 5.99, 20, 18.77, 39, 10, 17, 12]\n",
    "\n",
    "ventes = pd.DataFrame(ventes)\n",
    "ventes.columns = [\"montant\"]\n",
    "ventes[\"client\"] = clients * 3\n",
    "ventes"
   ]
  },
  {
   "cell_type": "markdown",
   "id": "614158b3",
   "metadata": {},
   "source": [
    "On aimerait savoir qui est notre plus gros client, pour lui envoyer un cadeau.\n",
    "<br />\n",
    "\n",
    "Pour cela, il nous faut, pour chaque client, la somme de ses dépenses\n",
    "\n",
    "Ce serait plus simple si on avait une table par client:"
   ]
  },
  {
   "cell_type": "code",
   "execution_count": 13,
   "id": "d7bdd723",
   "metadata": {},
   "outputs": [
    {
     "data": {
      "text/plain": [
       "53.769999999999996"
      ]
     },
     "execution_count": 13,
     "metadata": {},
     "output_type": "execute_result"
    }
   ],
   "source": [
    "ventes_tom = duckdb.sql(\"SELECT * FROM ventes WHERE client='Tom'\").df()\n",
    "ventes_tom[\"montant\"].sum()"
   ]
  },
  {
   "cell_type": "markdown",
   "id": "beb75e40",
   "metadata": {},
   "source": [
    "On pourrait faire ça pour chaque _\"sous table\"_:"
   ]
  },
  {
   "cell_type": "code",
   "execution_count": 14,
   "id": "06a8ea72",
   "metadata": {},
   "outputs": [
    {
     "data": {
      "text/plain": [
       "178.0"
      ]
     },
     "execution_count": 14,
     "metadata": {},
     "output_type": "execute_result"
    }
   ],
   "source": [
    "ventes_oussama = duckdb.sql(\"SELECT * FROM ventes WHERE client='Oussama'\").df()\n",
    "ventes_oussama[\"montant\"].sum()"
   ]
  },
  {
   "cell_type": "markdown",
   "id": "a3b8eeb4",
   "metadata": {},
   "source": [
    "Et ensuite, il ne reste plus qu'à combiner les résultats !"
   ]
  },
  {
   "cell_type": "markdown",
   "id": "867eaf85",
   "metadata": {},
   "source": [
    "<blockquote> C'est beaucoup de boulot ton truc, y'a pas une commande pour tout faire d'un coup ?! </blockquote>"
   ]
  },
  {
   "cell_type": "markdown",
   "id": "e8719722",
   "metadata": {},
   "source": [
    "Si, c'est exactement le but d'un group by"
   ]
  },
  {
   "cell_type": "markdown",
   "id": "3f210da1",
   "metadata": {},
   "source": [
    "## La clause \"Group by\""
   ]
  },
  {
   "cell_type": "markdown",
   "id": "0bb9feb5",
   "metadata": {},
   "source": [
    "Derrière le rideau, Group By effectue un \"Split-apply-combine\"\n",
    "\n",
    "(voir doc: https://pandas.pydata.org/docs/user_guide/groupby.html)"
   ]
  },
  {
   "attachments": {
    "image.png": {
     "image/png": "[encoded data removed]"
    }
   },
   "cell_type": "markdown",
   "id": "b45c6fe9",
   "metadata": {},
   "source": [
    "![image.png](attachment:image.png)"
   ]
  },
  {
   "cell_type": "code",
   "execution_count": 20,
   "id": "73863188",
   "metadata": {
    "cell_style": "split"
   },
   "outputs": [
    {
     "data": {
      "text/plain": [
       "client\n",
       "Chris       72.00\n",
       "Julie       64.99\n",
       "Oussama    178.00\n",
       "Tom         53.77\n",
       "Name: montant, dtype: float64"
      ]
     },
     "execution_count": 20,
     "metadata": {},
     "output_type": "execute_result"
    }
   ],
   "source": [
    "(\n",
    "    ventes\n",
    "    .groupby(\"client\")\n",
    "    [\"montant\"].sum()\n",
    ")"
   ]
  },
  {
   "cell_type": "code",
   "execution_count": 21,
   "id": "dc3314de",
   "metadata": {
    "cell_style": "split"
   },
   "outputs": [
    {
     "data": {
      "text/plain": [
       "┌─────────┬────────────────────┐\n",
       "│ client  │    sum(montant)    │\n",
       "│ varchar │       double       │\n",
       "├─────────┼────────────────────┤\n",
       "│ Oussama │              178.0 │\n",
       "│ Julie   │  64.99000000000001 │\n",
       "│ Chris   │               72.0 │\n",
       "│ Tom     │ 53.769999999999996 │\n",
       "└─────────┴────────────────────┘"
      ]
     },
     "execution_count": 21,
     "metadata": {},
     "output_type": "execute_result"
    }
   ],
   "source": [
    "query = \"\"\"\n",
    "SELECT client, SUM(montant)\n",
    "FROM ventes\n",
    "GROUP BY client\n",
    "\"\"\"\n",
    "\n",
    "duckdb.sql(query)"
   ]
  },
  {
   "cell_type": "markdown",
   "id": "982c7545",
   "metadata": {},
   "source": [
    "## Exercice ventes immo"
   ]
  },
  {
   "cell_type": "code",
   "execution_count": 24,
   "id": "cf397a85",
   "metadata": {
    "cell_style": "split"
   },
   "outputs": [],
   "source": [
    "import pandas as pd\n",
    "import numpy as np\n",
    "\n",
    "dates = [f\"2023-08-{str(x).zfill(2)}\" for x in range(7, 21)]\n",
    "\n",
    "ventes_immo = pd.DataFrame([\n",
    "    [0, \"vieux_lille\", 460000],\n",
    "    [1, \"vieux_lille\", 430000],\n",
    "    [2, \"vieux_lille\", 450000],\n",
    "    [3, np.NaN, 470000],\n",
    "    [4, \"vieux_lille\", 440000],\n",
    "    [10, \"gambetta\", 336000],\n",
    "    [11, np.NaN, 333000],\n",
    "    [12, \"gambetta\", 335000],\n",
    "    [13, \"gambetta\", 337000],\n",
    "    [14, \"gambetta\", 334000],\n",
    "    [20, \"centre\", 356000],\n",
    "    [21, \"centre\", 353000],\n",
    "    [22, np.NaN, 355000],\n",
    "    [23, \"centre\", 357000],\n",
    "    [24, \"centre\", 354000],\n",
    "    [30, \"wazemmes\", 260000],\n",
    "    [31, np.NaN, 230000],\n",
    "    [32, \"wazemmes\", 250000],\n",
    "    [33, \"wazemmes\", 270000],\n",
    "    [34, \"wazemmes\", 240000],\n",
    "]\n",
    ")\n",
    "\n",
    "ventes_immo.columns = [\"flat_id\", \n",
    "                       \"neighborhood\", \n",
    "                       \"price\"]"
   ]
  },
  {
   "cell_type": "code",
   "execution_count": 25,
   "id": "01b4f8a5",
   "metadata": {
    "cell_style": "split"
   },
   "outputs": [
    {
     "data": {
      "text/html": [
       "<div>\n",
       "<style scoped>\n",
       "    .dataframe tbody tr th:only-of-type {\n",
       "        vertical-align: middle;\n",
       "    }\n",
       "\n",
       "    .dataframe tbody tr th {\n",
       "        vertical-align: top;\n",
       "    }\n",
       "\n",
       "    .dataframe thead th {\n",
       "        text-align: right;\n",
       "    }\n",
       "</style>\n",
       "<table border=\"1\" class=\"dataframe\">\n",
       "  <thead>\n",
       "    <tr style=\"text-align: right;\">\n",
       "      <th></th>\n",
       "      <th>flat_id</th>\n",
       "      <th>neighborhood</th>\n",
       "      <th>price</th>\n",
       "    </tr>\n",
       "  </thead>\n",
       "  <tbody>\n",
       "    <tr>\n",
       "      <th>0</th>\n",
       "      <td>0</td>\n",
       "      <td>vieux_lille</td>\n",
       "      <td>460000</td>\n",
       "    </tr>\n",
       "    <tr>\n",
       "      <th>1</th>\n",
       "      <td>1</td>\n",
       "      <td>vieux_lille</td>\n",
       "      <td>430000</td>\n",
       "    </tr>\n",
       "    <tr>\n",
       "      <th>2</th>\n",
       "      <td>2</td>\n",
       "      <td>vieux_lille</td>\n",
       "      <td>450000</td>\n",
       "    </tr>\n",
       "    <tr>\n",
       "      <th>3</th>\n",
       "      <td>3</td>\n",
       "      <td>NaN</td>\n",
       "      <td>470000</td>\n",
       "    </tr>\n",
       "    <tr>\n",
       "      <th>4</th>\n",
       "      <td>4</td>\n",
       "      <td>vieux_lille</td>\n",
       "      <td>440000</td>\n",
       "    </tr>\n",
       "    <tr>\n",
       "      <th>5</th>\n",
       "      <td>10</td>\n",
       "      <td>gambetta</td>\n",
       "      <td>336000</td>\n",
       "    </tr>\n",
       "    <tr>\n",
       "      <th>6</th>\n",
       "      <td>11</td>\n",
       "      <td>NaN</td>\n",
       "      <td>333000</td>\n",
       "    </tr>\n",
       "    <tr>\n",
       "      <th>7</th>\n",
       "      <td>12</td>\n",
       "      <td>gambetta</td>\n",
       "      <td>335000</td>\n",
       "    </tr>\n",
       "    <tr>\n",
       "      <th>8</th>\n",
       "      <td>13</td>\n",
       "      <td>gambetta</td>\n",
       "      <td>337000</td>\n",
       "    </tr>\n",
       "    <tr>\n",
       "      <th>9</th>\n",
       "      <td>14</td>\n",
       "      <td>gambetta</td>\n",
       "      <td>334000</td>\n",
       "    </tr>\n",
       "    <tr>\n",
       "      <th>10</th>\n",
       "      <td>20</td>\n",
       "      <td>centre</td>\n",
       "      <td>356000</td>\n",
       "    </tr>\n",
       "    <tr>\n",
       "      <th>11</th>\n",
       "      <td>21</td>\n",
       "      <td>centre</td>\n",
       "      <td>353000</td>\n",
       "    </tr>\n",
       "    <tr>\n",
       "      <th>12</th>\n",
       "      <td>22</td>\n",
       "      <td>NaN</td>\n",
       "      <td>355000</td>\n",
       "    </tr>\n",
       "    <tr>\n",
       "      <th>13</th>\n",
       "      <td>23</td>\n",
       "      <td>centre</td>\n",
       "      <td>357000</td>\n",
       "    </tr>\n",
       "    <tr>\n",
       "      <th>14</th>\n",
       "      <td>24</td>\n",
       "      <td>centre</td>\n",
       "      <td>354000</td>\n",
       "    </tr>\n",
       "    <tr>\n",
       "      <th>15</th>\n",
       "      <td>30</td>\n",
       "      <td>wazemmes</td>\n",
       "      <td>260000</td>\n",
       "    </tr>\n",
       "    <tr>\n",
       "      <th>16</th>\n",
       "      <td>31</td>\n",
       "      <td>NaN</td>\n",
       "      <td>230000</td>\n",
       "    </tr>\n",
       "    <tr>\n",
       "      <th>17</th>\n",
       "      <td>32</td>\n",
       "      <td>wazemmes</td>\n",
       "      <td>250000</td>\n",
       "    </tr>\n",
       "    <tr>\n",
       "      <th>18</th>\n",
       "      <td>33</td>\n",
       "      <td>wazemmes</td>\n",
       "      <td>270000</td>\n",
       "    </tr>\n",
       "    <tr>\n",
       "      <th>19</th>\n",
       "      <td>34</td>\n",
       "      <td>wazemmes</td>\n",
       "      <td>240000</td>\n",
       "    </tr>\n",
       "  </tbody>\n",
       "</table>\n",
       "</div>"
      ],
      "text/plain": [
       "    flat_id neighborhood   price\n",
       "0         0  vieux_lille  460000\n",
       "1         1  vieux_lille  430000\n",
       "2         2  vieux_lille  450000\n",
       "3         3          NaN  470000\n",
       "4         4  vieux_lille  440000\n",
       "5        10     gambetta  336000\n",
       "6        11          NaN  333000\n",
       "7        12     gambetta  335000\n",
       "8        13     gambetta  337000\n",
       "9        14     gambetta  334000\n",
       "10       20       centre  356000\n",
       "11       21       centre  353000\n",
       "12       22          NaN  355000\n",
       "13       23       centre  357000\n",
       "14       24       centre  354000\n",
       "15       30     wazemmes  260000\n",
       "16       31          NaN  230000\n",
       "17       32     wazemmes  250000\n",
       "18       33     wazemmes  270000\n",
       "19       34     wazemmes  240000"
      ]
     },
     "execution_count": 25,
     "metadata": {},
     "output_type": "execute_result"
    }
   ],
   "source": [
    "ventes_immo"
   ]
  },
  {
   "cell_type": "markdown",
   "id": "19f396b3",
   "metadata": {},
   "source": [
    "---"
   ]
  },
  {
   "cell_type": "code",
   "execution_count": 32,
   "id": "9866eac4",
   "metadata": {
    "cell_style": "split"
   },
   "outputs": [
    {
     "data": {
      "text/html": [
       "<div>\n",
       "<style scoped>\n",
       "    .dataframe tbody tr th:only-of-type {\n",
       "        vertical-align: middle;\n",
       "    }\n",
       "\n",
       "    .dataframe tbody tr th {\n",
       "        vertical-align: top;\n",
       "    }\n",
       "\n",
       "    .dataframe thead th {\n",
       "        text-align: right;\n",
       "    }\n",
       "</style>\n",
       "<table border=\"1\" class=\"dataframe\">\n",
       "  <thead>\n",
       "    <tr style=\"text-align: right;\">\n",
       "      <th>neighborhood</th>\n",
       "      <th>centre</th>\n",
       "      <th>gambetta</th>\n",
       "      <th>vieux_lille</th>\n",
       "      <th>wazemmes</th>\n",
       "    </tr>\n",
       "  </thead>\n",
       "  <tbody>\n",
       "    <tr>\n",
       "      <th>price</th>\n",
       "      <td>355000.0</td>\n",
       "      <td>335500.0</td>\n",
       "      <td>445000.0</td>\n",
       "      <td>255000.0</td>\n",
       "    </tr>\n",
       "  </tbody>\n",
       "</table>\n",
       "</div>"
      ],
      "text/plain": [
       "neighborhood    centre  gambetta  vieux_lille  wazemmes\n",
       "price         355000.0  335500.0     445000.0  255000.0"
      ]
     },
     "execution_count": 32,
     "metadata": {},
     "output_type": "execute_result"
    }
   ],
   "source": [
    "%load solutions/1groupby_simple_python.py"
   ]
  },
  {
   "cell_type": "code",
   "execution_count": 37,
   "id": "b0333fad",
   "metadata": {
    "cell_style": "split"
   },
   "outputs": [
    {
     "data": {
      "text/plain": [
       "┌──────────────┬─────────────┐\n",
       "│ neighborhood │ mean(price) │\n",
       "│   varchar    │   double    │\n",
       "├──────────────┼─────────────┤\n",
       "│ vieux_lille  │    445000.0 │\n",
       "│ NULL         │    347000.0 │\n",
       "│ gambetta     │    335500.0 │\n",
       "│ centre       │    355000.0 │\n",
       "│ wazemmes     │    255000.0 │\n",
       "└──────────────┴─────────────┘"
      ]
     },
     "execution_count": 37,
     "metadata": {},
     "output_type": "execute_result"
    }
   ],
   "source": [
    "%load solutions/2groupby_simple_sql.py"
   ]
  },
  {
   "cell_type": "markdown",
   "id": "2bdac6cd",
   "metadata": {},
   "source": [
    "## Note: coalesce"
   ]
  },
  {
   "cell_type": "markdown",
   "id": "b55199b0",
   "metadata": {},
   "source": [
    "Les valeurs NULL sont regroupées par SQL comme étant une catégorie à part entière. \n",
    "\n",
    "Essayez d'utiliser le mot clé \"COALESCE\" pour remplacer \"NULL\" par \"inconnu\"\n"
   ]
  },
  {
   "cell_type": "code",
   "execution_count": 40,
   "id": "05bfb28b",
   "metadata": {},
   "outputs": [
    {
     "data": {
      "text/plain": [
       "┌───────────────────────────────────┬─────────────┐\n",
       "│ COALESCE(neighborhood, 'inconnu') │ mean(price) │\n",
       "│              varchar              │   double    │\n",
       "├───────────────────────────────────┼─────────────┤\n",
       "│ vieux_lille                       │    445000.0 │\n",
       "│ inconnu                           │    347000.0 │\n",
       "│ gambetta                          │    335500.0 │\n",
       "│ centre                            │    355000.0 │\n",
       "│ wazemmes                          │    255000.0 │\n",
       "└───────────────────────────────────┴─────────────┘"
      ]
     },
     "execution_count": 40,
     "metadata": {},
     "output_type": "execute_result"
    }
   ],
   "source": [
    "query = \"\"\"\n",
    "SELECT COALESCE(neighborhood, 'inconnu'), MEAN(price) \n",
    "FROM ventes_immo\n",
    "GROUP BY neighborhood\n",
    "\"\"\"\n",
    "\n",
    "duckdb.sql(query)\n"
   ]
  },
  {
   "cell_type": "code",
   "execution_count": null,
   "id": "e752b157",
   "metadata": {},
   "outputs": [],
   "source": []
  },
  {
   "cell_type": "markdown",
   "id": "1fdd59fc",
   "metadata": {},
   "source": [
    "Dans le prochain notebook, on va continuer de s'exercer sur les Group By, et découvrir comment filtrer sur leurs résultats"
   ]
  }
 ],
 "metadata": {
  "kernelspec": {
   "display_name": "Python 3 (ipykernel)",
   "language": "python",
   "name": "python3"
  },
  "language_info": {
   "codemirror_mode": {
    "name": "ipython",
    "version": 3
   },
   "file_extension": ".py",
   "mimetype": "text/x-python",
   "name": "python",
   "nbconvert_exporter": "python",
   "pygments_lexer": "ipython3",
   "version": "3.11.4"
  }
 },
 "nbformat": 4,
 "nbformat_minor": 5
}
