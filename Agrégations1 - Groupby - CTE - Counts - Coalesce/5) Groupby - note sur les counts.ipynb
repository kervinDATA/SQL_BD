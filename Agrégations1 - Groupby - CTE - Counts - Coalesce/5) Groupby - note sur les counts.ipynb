{
 "cells": [
  {
   "cell_type": "code",
   "execution_count": 1,
   "id": "9fd33ca0",
   "metadata": {},
   "outputs": [],
   "source": [
    "import pandas as pd\n",
    "import duckdb\n",
    "import numpy as np"
   ]
  },
  {
   "cell_type": "markdown",
   "id": "1229151d",
   "metadata": {},
   "source": [
    "# Attention: count(*) et count(col) n'ont pas le même comportement"
   ]
  },
  {
   "cell_type": "code",
   "execution_count": 16,
   "id": "fe57680d",
   "metadata": {},
   "outputs": [],
   "source": [
    "df = pd.DataFrame([[1,1,1,2,2,3,3],\n",
    "                  [1,np.NaN,np.NaN,2,2,np.NaN,3]]\n",
    ").T\n",
    "df.columns = [\"col1\", \"col2\"]"
   ]
  },
  {
   "cell_type": "code",
   "execution_count": 17,
   "id": "2d335c64",
   "metadata": {
    "scrolled": true
   },
   "outputs": [
    {
     "data": {
      "text/html": [
       "<div>\n",
       "<style scoped>\n",
       "    .dataframe tbody tr th:only-of-type {\n",
       "        vertical-align: middle;\n",
       "    }\n",
       "\n",
       "    .dataframe tbody tr th {\n",
       "        vertical-align: top;\n",
       "    }\n",
       "\n",
       "    .dataframe thead th {\n",
       "        text-align: right;\n",
       "    }\n",
       "</style>\n",
       "<table border=\"1\" class=\"dataframe\">\n",
       "  <thead>\n",
       "    <tr style=\"text-align: right;\">\n",
       "      <th></th>\n",
       "      <th>col1</th>\n",
       "      <th>col2</th>\n",
       "    </tr>\n",
       "  </thead>\n",
       "  <tbody>\n",
       "    <tr>\n",
       "      <th>0</th>\n",
       "      <td>1.0</td>\n",
       "      <td>1.0</td>\n",
       "    </tr>\n",
       "    <tr>\n",
       "      <th>1</th>\n",
       "      <td>1.0</td>\n",
       "      <td>NaN</td>\n",
       "    </tr>\n",
       "    <tr>\n",
       "      <th>2</th>\n",
       "      <td>1.0</td>\n",
       "      <td>NaN</td>\n",
       "    </tr>\n",
       "    <tr>\n",
       "      <th>3</th>\n",
       "      <td>2.0</td>\n",
       "      <td>2.0</td>\n",
       "    </tr>\n",
       "    <tr>\n",
       "      <th>4</th>\n",
       "      <td>2.0</td>\n",
       "      <td>2.0</td>\n",
       "    </tr>\n",
       "    <tr>\n",
       "      <th>5</th>\n",
       "      <td>3.0</td>\n",
       "      <td>NaN</td>\n",
       "    </tr>\n",
       "    <tr>\n",
       "      <th>6</th>\n",
       "      <td>3.0</td>\n",
       "      <td>3.0</td>\n",
       "    </tr>\n",
       "  </tbody>\n",
       "</table>\n",
       "</div>"
      ],
      "text/plain": [
       "   col1  col2\n",
       "0   1.0   1.0\n",
       "1   1.0   NaN\n",
       "2   1.0   NaN\n",
       "3   2.0   2.0\n",
       "4   2.0   2.0\n",
       "5   3.0   NaN\n",
       "6   3.0   3.0"
      ]
     },
     "execution_count": 17,
     "metadata": {},
     "output_type": "execute_result"
    }
   ],
   "source": [
    "df"
   ]
  },
  {
   "cell_type": "markdown",
   "id": "88169cf3",
   "metadata": {},
   "source": [
    "Count(*) comptabilise les Nulls !\n",
    "exemple:"
   ]
  },
  {
   "cell_type": "code",
   "execution_count": 19,
   "id": "49fb4609",
   "metadata": {},
   "outputs": [
    {
     "data": {
      "text/plain": [
       "┌────────┬──────────────┐\n",
       "│  col1  │ count_star() │\n",
       "│ double │    int64     │\n",
       "├────────┼──────────────┤\n",
       "│    1.0 │            3 │\n",
       "│    2.0 │            2 │\n",
       "│    3.0 │            2 │\n",
       "└────────┴──────────────┘"
      ]
     },
     "execution_count": 19,
     "metadata": {},
     "output_type": "execute_result"
    }
   ],
   "source": [
    "query = \"\"\"\n",
    "SELECT \"col1\", COUNT(*)\n",
    "FROM df\n",
    "GROUP BY \"col1\"\n",
    "\"\"\"\n",
    "duckdb.sql(query)"
   ]
  },
  {
   "cell_type": "markdown",
   "id": "e3294124",
   "metadata": {},
   "source": [
    "Si on réalise le COUNT() sur la colonne2, les résultats sont différents !"
   ]
  },
  {
   "cell_type": "code",
   "execution_count": 20,
   "id": "c6e653ec",
   "metadata": {},
   "outputs": [
    {
     "data": {
      "text/plain": [
       "┌────────┬─────────────┐\n",
       "│  col1  │ count(col2) │\n",
       "│ double │    int64    │\n",
       "├────────┼─────────────┤\n",
       "│    1.0 │           1 │\n",
       "│    2.0 │           2 │\n",
       "│    3.0 │           1 │\n",
       "└────────┴─────────────┘"
      ]
     },
     "execution_count": 20,
     "metadata": {},
     "output_type": "execute_result"
    }
   ],
   "source": [
    "query = \"\"\"\n",
    "SELECT \"col1\", COUNT(col2)\n",
    "FROM df\n",
    "GROUP BY \"col1\"\n",
    "\"\"\"\n",
    "duckdb.sql(query)"
   ]
  },
  {
   "cell_type": "code",
   "execution_count": 22,
   "id": "c49935f2",
   "metadata": {},
   "outputs": [
    {
     "data": {
      "text/html": [
       "<div>\n",
       "<style scoped>\n",
       "    .dataframe tbody tr th:only-of-type {\n",
       "        vertical-align: middle;\n",
       "    }\n",
       "\n",
       "    .dataframe tbody tr th {\n",
       "        vertical-align: top;\n",
       "    }\n",
       "\n",
       "    .dataframe thead th {\n",
       "        text-align: right;\n",
       "    }\n",
       "</style>\n",
       "<table border=\"1\" class=\"dataframe\">\n",
       "  <thead>\n",
       "    <tr style=\"text-align: right;\">\n",
       "      <th></th>\n",
       "      <th>col1</th>\n",
       "      <th>col2</th>\n",
       "    </tr>\n",
       "  </thead>\n",
       "  <tbody>\n",
       "    <tr>\n",
       "      <th>0</th>\n",
       "      <td>1.0</td>\n",
       "      <td>1.0</td>\n",
       "    </tr>\n",
       "    <tr>\n",
       "      <th>1</th>\n",
       "      <td>1.0</td>\n",
       "      <td>NaN</td>\n",
       "    </tr>\n",
       "    <tr>\n",
       "      <th>2</th>\n",
       "      <td>1.0</td>\n",
       "      <td>NaN</td>\n",
       "    </tr>\n",
       "  </tbody>\n",
       "</table>\n",
       "</div>"
      ],
      "text/plain": [
       "   col1  col2\n",
       "0   1.0   1.0\n",
       "1   1.0   NaN\n",
       "2   1.0   NaN"
      ]
     },
     "execution_count": 22,
     "metadata": {},
     "output_type": "execute_result"
    }
   ],
   "source": [
    "# Les deux valeurs nulles dans la colonne 2 pour la catégorie \"1\" ne sont pas prises en compte\n",
    "df.head(3)"
   ]
  },
  {
   "cell_type": "markdown",
   "id": "1577662a",
   "metadata": {},
   "source": [
    "## Exemple avec les appartements"
   ]
  },
  {
   "cell_type": "code",
   "execution_count": 24,
   "id": "c6692d03",
   "metadata": {},
   "outputs": [],
   "source": [
    "appt_nord = pd.read_csv(\"data/appartements_nord_pdc.csv\")"
   ]
  },
  {
   "cell_type": "code",
   "execution_count": 25,
   "id": "84448330",
   "metadata": {},
   "outputs": [
    {
     "data": {
      "text/html": [
       "<div>\n",
       "<style scoped>\n",
       "    .dataframe tbody tr th:only-of-type {\n",
       "        vertical-align: middle;\n",
       "    }\n",
       "\n",
       "    .dataframe tbody tr th {\n",
       "        vertical-align: top;\n",
       "    }\n",
       "\n",
       "    .dataframe thead th {\n",
       "        text-align: right;\n",
       "    }\n",
       "</style>\n",
       "<table border=\"1\" class=\"dataframe\">\n",
       "  <thead>\n",
       "    <tr style=\"text-align: right;\">\n",
       "      <th></th>\n",
       "      <th>Commune</th>\n",
       "      <th>count_star()</th>\n",
       "    </tr>\n",
       "  </thead>\n",
       "  <tbody>\n",
       "    <tr>\n",
       "      <th>0</th>\n",
       "      <td>MARCQ EN BAROEUL</td>\n",
       "      <td>335</td>\n",
       "    </tr>\n",
       "    <tr>\n",
       "      <th>1</th>\n",
       "      <td>SECLIN</td>\n",
       "      <td>43</td>\n",
       "    </tr>\n",
       "    <tr>\n",
       "      <th>2</th>\n",
       "      <td>LILLE</td>\n",
       "      <td>4513</td>\n",
       "    </tr>\n",
       "    <tr>\n",
       "      <th>3</th>\n",
       "      <td>VILLENEUVE-D'ASCQ</td>\n",
       "      <td>361</td>\n",
       "    </tr>\n",
       "    <tr>\n",
       "      <th>4</th>\n",
       "      <td>ERQUINGHEM-LYS</td>\n",
       "      <td>7</td>\n",
       "    </tr>\n",
       "  </tbody>\n",
       "</table>\n",
       "</div>"
      ],
      "text/plain": [
       "             Commune  count_star()\n",
       "0   MARCQ EN BAROEUL           335\n",
       "1             SECLIN            43\n",
       "2              LILLE          4513\n",
       "3  VILLENEUVE-D'ASCQ           361\n",
       "4     ERQUINGHEM-LYS             7"
      ]
     },
     "execution_count": 25,
     "metadata": {},
     "output_type": "execute_result"
    }
   ],
   "source": [
    "query = \"\"\"\n",
    "SELECT Commune, COUNT(*)\n",
    "FROM appt_nord\n",
    "GROUP BY Commune\n",
    "\"\"\"\n",
    "duckdb.sql(query).df().head()"
   ]
  },
  {
   "cell_type": "markdown",
   "id": "47494e9b",
   "metadata": {},
   "source": [
    "4513 ventes à Lille"
   ]
  },
  {
   "cell_type": "code",
   "execution_count": 28,
   "id": "6eb845f5",
   "metadata": {},
   "outputs": [
    {
     "data": {
      "text/html": [
       "<div>\n",
       "<style scoped>\n",
       "    .dataframe tbody tr th:only-of-type {\n",
       "        vertical-align: middle;\n",
       "    }\n",
       "\n",
       "    .dataframe tbody tr th {\n",
       "        vertical-align: top;\n",
       "    }\n",
       "\n",
       "    .dataframe thead th {\n",
       "        text-align: right;\n",
       "    }\n",
       "</style>\n",
       "<table border=\"1\" class=\"dataframe\">\n",
       "  <thead>\n",
       "    <tr style=\"text-align: right;\">\n",
       "      <th></th>\n",
       "      <th>Date mutation</th>\n",
       "      <th>valeur_fonciere</th>\n",
       "      <th>No voie</th>\n",
       "      <th>Type de voie</th>\n",
       "      <th>Code voie</th>\n",
       "      <th>Voie</th>\n",
       "      <th>Code postal</th>\n",
       "      <th>Commune</th>\n",
       "      <th>Code departement</th>\n",
       "      <th>Code commune</th>\n",
       "      <th>Surface Carrez du 1er lot</th>\n",
       "      <th>Nombre pieces principales</th>\n",
       "      <th>Surface terrain</th>\n",
       "    </tr>\n",
       "  </thead>\n",
       "  <tbody>\n",
       "    <tr>\n",
       "      <th>0</th>\n",
       "      <td>04/01/2022</td>\n",
       "      <td>208000.0</td>\n",
       "      <td>64.0</td>\n",
       "      <td>RUE</td>\n",
       "      <td>0010</td>\n",
       "      <td>DE L ABBE BONPAIN</td>\n",
       "      <td>59700.0</td>\n",
       "      <td>MARCQ EN BAROEUL</td>\n",
       "      <td>59</td>\n",
       "      <td>378</td>\n",
       "      <td>57,69</td>\n",
       "      <td>3.0</td>\n",
       "      <td>NaN</td>\n",
       "    </tr>\n",
       "    <tr>\n",
       "      <th>1</th>\n",
       "      <td>04/01/2022</td>\n",
       "      <td>113000.0</td>\n",
       "      <td>1.0</td>\n",
       "      <td>RUE</td>\n",
       "      <td>0260</td>\n",
       "      <td>GUY MOCQUET</td>\n",
       "      <td>59113.0</td>\n",
       "      <td>SECLIN</td>\n",
       "      <td>59</td>\n",
       "      <td>560</td>\n",
       "      <td>45,72</td>\n",
       "      <td>3.0</td>\n",
       "      <td>NaN</td>\n",
       "    </tr>\n",
       "    <tr>\n",
       "      <th>2</th>\n",
       "      <td>03/01/2022</td>\n",
       "      <td>NaN</td>\n",
       "      <td>22.0</td>\n",
       "      <td>RUE</td>\n",
       "      <td>8749</td>\n",
       "      <td>DE TREVISE</td>\n",
       "      <td>59000.0</td>\n",
       "      <td>LILLE</td>\n",
       "      <td>59</td>\n",
       "      <td>350</td>\n",
       "      <td>62,83</td>\n",
       "      <td>3.0</td>\n",
       "      <td>NaN</td>\n",
       "    </tr>\n",
       "  </tbody>\n",
       "</table>\n",
       "</div>"
      ],
      "text/plain": [
       "  Date mutation  valeur_fonciere  No voie Type de voie Code voie  \\\n",
       "0    04/01/2022         208000.0     64.0          RUE      0010   \n",
       "1    04/01/2022         113000.0      1.0          RUE      0260   \n",
       "2    03/01/2022              NaN     22.0          RUE      8749   \n",
       "\n",
       "                Voie  Code postal           Commune  Code departement  \\\n",
       "0  DE L ABBE BONPAIN      59700.0  MARCQ EN BAROEUL                59   \n",
       "1        GUY MOCQUET      59113.0            SECLIN                59   \n",
       "2         DE TREVISE      59000.0             LILLE                59   \n",
       "\n",
       "   Code commune Surface Carrez du 1er lot  Nombre pieces principales  \\\n",
       "0           378                     57,69                        3.0   \n",
       "1           560                     45,72                        3.0   \n",
       "2           350                     62,83                        3.0   \n",
       "\n",
       "   Surface terrain  \n",
       "0              NaN  \n",
       "1              NaN  \n",
       "2              NaN  "
      ]
     },
     "execution_count": 28,
     "metadata": {},
     "output_type": "execute_result"
    }
   ],
   "source": [
    "# on insère volontairement un NULL \n",
    "appt_nord.loc[2, \"valeur_fonciere\"] = np.NaN\n",
    "appt_nord.head(3)"
   ]
  },
  {
   "cell_type": "code",
   "execution_count": 30,
   "id": "7b5b5174",
   "metadata": {},
   "outputs": [
    {
     "data": {
      "text/html": [
       "<div>\n",
       "<style scoped>\n",
       "    .dataframe tbody tr th:only-of-type {\n",
       "        vertical-align: middle;\n",
       "    }\n",
       "\n",
       "    .dataframe tbody tr th {\n",
       "        vertical-align: top;\n",
       "    }\n",
       "\n",
       "    .dataframe thead th {\n",
       "        text-align: right;\n",
       "    }\n",
       "</style>\n",
       "<table border=\"1\" class=\"dataframe\">\n",
       "  <thead>\n",
       "    <tr style=\"text-align: right;\">\n",
       "      <th></th>\n",
       "      <th>Commune</th>\n",
       "      <th>count_star()</th>\n",
       "    </tr>\n",
       "  </thead>\n",
       "  <tbody>\n",
       "    <tr>\n",
       "      <th>0</th>\n",
       "      <td>MARCQ EN BAROEUL</td>\n",
       "      <td>335</td>\n",
       "    </tr>\n",
       "    <tr>\n",
       "      <th>1</th>\n",
       "      <td>SECLIN</td>\n",
       "      <td>43</td>\n",
       "    </tr>\n",
       "    <tr>\n",
       "      <th>2</th>\n",
       "      <td>LILLE</td>\n",
       "      <td>4513</td>\n",
       "    </tr>\n",
       "    <tr>\n",
       "      <th>3</th>\n",
       "      <td>VILLENEUVE-D'ASCQ</td>\n",
       "      <td>361</td>\n",
       "    </tr>\n",
       "    <tr>\n",
       "      <th>4</th>\n",
       "      <td>ERQUINGHEM-LYS</td>\n",
       "      <td>7</td>\n",
       "    </tr>\n",
       "  </tbody>\n",
       "</table>\n",
       "</div>"
      ],
      "text/plain": [
       "             Commune  count_star()\n",
       "0   MARCQ EN BAROEUL           335\n",
       "1             SECLIN            43\n",
       "2              LILLE          4513\n",
       "3  VILLENEUVE-D'ASCQ           361\n",
       "4     ERQUINGHEM-LYS             7"
      ]
     },
     "execution_count": 30,
     "metadata": {},
     "output_type": "execute_result"
    }
   ],
   "source": [
    "# Le count n'a pas changé\n",
    "query = \"\"\"\n",
    "SELECT Commune, COUNT(*)\n",
    "FROM appt_nord\n",
    "GROUP BY Commune\n",
    "\"\"\"\n",
    "duckdb.sql(query).df().head()"
   ]
  },
  {
   "cell_type": "markdown",
   "id": "2186ccb7",
   "metadata": {},
   "source": [
    "En faisant le count sur une colonne particulière, les NULLS sont exclus du count ;)"
   ]
  },
  {
   "cell_type": "code",
   "execution_count": 32,
   "id": "7d886862",
   "metadata": {},
   "outputs": [
    {
     "data": {
      "text/html": [
       "<div>\n",
       "<style scoped>\n",
       "    .dataframe tbody tr th:only-of-type {\n",
       "        vertical-align: middle;\n",
       "    }\n",
       "\n",
       "    .dataframe tbody tr th {\n",
       "        vertical-align: top;\n",
       "    }\n",
       "\n",
       "    .dataframe thead th {\n",
       "        text-align: right;\n",
       "    }\n",
       "</style>\n",
       "<table border=\"1\" class=\"dataframe\">\n",
       "  <thead>\n",
       "    <tr style=\"text-align: right;\">\n",
       "      <th></th>\n",
       "      <th>Commune</th>\n",
       "      <th>count(valeur_fonciere)</th>\n",
       "    </tr>\n",
       "  </thead>\n",
       "  <tbody>\n",
       "    <tr>\n",
       "      <th>0</th>\n",
       "      <td>MARCQ EN BAROEUL</td>\n",
       "      <td>335</td>\n",
       "    </tr>\n",
       "    <tr>\n",
       "      <th>1</th>\n",
       "      <td>SECLIN</td>\n",
       "      <td>43</td>\n",
       "    </tr>\n",
       "    <tr>\n",
       "      <th>2</th>\n",
       "      <td>LILLE</td>\n",
       "      <td>4512</td>\n",
       "    </tr>\n",
       "    <tr>\n",
       "      <th>3</th>\n",
       "      <td>VILLENEUVE-D'ASCQ</td>\n",
       "      <td>361</td>\n",
       "    </tr>\n",
       "    <tr>\n",
       "      <th>4</th>\n",
       "      <td>ERQUINGHEM-LYS</td>\n",
       "      <td>7</td>\n",
       "    </tr>\n",
       "  </tbody>\n",
       "</table>\n",
       "</div>"
      ],
      "text/plain": [
       "             Commune  count(valeur_fonciere)\n",
       "0   MARCQ EN BAROEUL                     335\n",
       "1             SECLIN                      43\n",
       "2              LILLE                    4512\n",
       "3  VILLENEUVE-D'ASCQ                     361\n",
       "4     ERQUINGHEM-LYS                       7"
      ]
     },
     "execution_count": 32,
     "metadata": {},
     "output_type": "execute_result"
    }
   ],
   "source": [
    "query = \"\"\"\n",
    "SELECT Commune, COUNT(valeur_fonciere)\n",
    "FROM appt_nord\n",
    "GROUP BY Commune\n",
    "\"\"\"\n",
    "duckdb.sql(query).df().head()"
   ]
  },
  {
   "cell_type": "code",
   "execution_count": null,
   "id": "8c9bcf72",
   "metadata": {},
   "outputs": [],
   "source": []
  }
 ],
 "metadata": {
  "kernelspec": {
   "display_name": "Python 3 (ipykernel)",
   "language": "python",
   "name": "python3"
  },
  "language_info": {
   "codemirror_mode": {
    "name": "ipython",
    "version": 3
   },
   "file_extension": ".py",
   "mimetype": "text/x-python",
   "name": "python",
   "nbconvert_exporter": "python",
   "pygments_lexer": "ipython3",
   "version": "3.11.4"
  }
 },
 "nbformat": 4,
 "nbformat_minor": 5
}
