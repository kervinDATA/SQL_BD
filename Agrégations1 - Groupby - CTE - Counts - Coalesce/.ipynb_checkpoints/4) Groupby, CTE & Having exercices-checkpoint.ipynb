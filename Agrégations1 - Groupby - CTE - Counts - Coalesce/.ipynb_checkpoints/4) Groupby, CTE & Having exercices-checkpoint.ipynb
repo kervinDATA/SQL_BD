{
 "cells": [
  {
   "cell_type": "markdown",
   "id": "af439a8e",
   "metadata": {
    "heading_collapsed": true
   },
   "source": [
    "# Trouver les meilleurs clients"
   ]
  },
  {
   "cell_type": "code",
   "execution_count": 1,
   "id": "84262221",
   "metadata": {
    "hidden": true
   },
   "outputs": [],
   "source": [
    "import pandas as pd\n",
    "import duckdb"
   ]
  },
  {
   "cell_type": "code",
   "execution_count": 2,
   "id": "0a41d93a",
   "metadata": {
    "hidden": true
   },
   "outputs": [
    {
     "data": {
      "text/html": [
       "<div>\n",
       "<style scoped>\n",
       "    .dataframe tbody tr th:only-of-type {\n",
       "        vertical-align: middle;\n",
       "    }\n",
       "\n",
       "    .dataframe tbody tr th {\n",
       "        vertical-align: top;\n",
       "    }\n",
       "\n",
       "    .dataframe thead th {\n",
       "        text-align: right;\n",
       "    }\n",
       "</style>\n",
       "<table border=\"1\" class=\"dataframe\">\n",
       "  <thead>\n",
       "    <tr style=\"text-align: right;\">\n",
       "      <th></th>\n",
       "      <th>montant</th>\n",
       "      <th>client</th>\n",
       "    </tr>\n",
       "  </thead>\n",
       "  <tbody>\n",
       "    <tr>\n",
       "      <th>0</th>\n",
       "      <td>110.00</td>\n",
       "      <td>Oussama</td>\n",
       "    </tr>\n",
       "    <tr>\n",
       "      <th>1</th>\n",
       "      <td>49.00</td>\n",
       "      <td>Julie</td>\n",
       "    </tr>\n",
       "    <tr>\n",
       "      <th>2</th>\n",
       "      <td>65.00</td>\n",
       "      <td>Chris</td>\n",
       "    </tr>\n",
       "    <tr>\n",
       "      <th>3</th>\n",
       "      <td>23.00</td>\n",
       "      <td>Tom</td>\n",
       "    </tr>\n",
       "    <tr>\n",
       "      <th>4</th>\n",
       "      <td>24.00</td>\n",
       "      <td>Jean-Nicolas</td>\n",
       "    </tr>\n",
       "    <tr>\n",
       "      <th>5</th>\n",
       "      <td>3.99</td>\n",
       "      <td>Aline</td>\n",
       "    </tr>\n",
       "  </tbody>\n",
       "</table>\n",
       "</div>"
      ],
      "text/plain": [
       "   montant        client\n",
       "0   110.00       Oussama\n",
       "1    49.00         Julie\n",
       "2    65.00         Chris\n",
       "3    23.00           Tom\n",
       "4    24.00  Jean-Nicolas\n",
       "5     3.99         Aline"
      ]
     },
     "execution_count": 2,
     "metadata": {},
     "output_type": "execute_result"
    }
   ],
   "source": [
    "clients = [\"Oussama\", \"Julie\", \"Chris\", \"Tom\", \"Jean-Nicolas\", \"Aline\", \"Ben\", \"Toufik\", \"Sylvie\", \"David\"]\n",
    "ventes = [110, 49, 65, 23, 24, 3.99, 29, 48.77, 44, 10, 60, 12, 62, 19, 75] * 2 \n",
    "\n",
    "ventes = pd.DataFrame(ventes)\n",
    "ventes.columns = [\"montant\"]\n",
    "ventes[\"client\"] = clients * 3\n",
    "ventes.head(6)"
   ]
  },
  {
   "cell_type": "markdown",
   "id": "da51379c",
   "metadata": {
    "hidden": true
   },
   "source": [
    "## Exercice, calculer le panier moyen pour chaque client"
   ]
  },
  {
   "cell_type": "markdown",
   "id": "e86aa542",
   "metadata": {
    "hidden": true
   },
   "source": [
    "C'est à dire, faire simplement la moyenne des achats"
   ]
  },
  {
   "cell_type": "code",
   "execution_count": 4,
   "id": "0f136985",
   "metadata": {},
   "outputs": [
    {
     "data": {
      "text/plain": [
       "client\n",
       "Aline           57\n",
       "Ben             30\n",
       "Chris           58\n",
       "David           36\n",
       "Jean-Nicolas    36\n",
       "Julie           30\n",
       "Oussama         57\n",
       "Sylvie          28\n",
       "Tom             28\n",
       "Toufik          58\n",
       "Name: montant, dtype: int32"
      ]
     },
     "execution_count": 4,
     "metadata": {},
     "output_type": "execute_result"
    }
   ],
   "source": [
    "(\n",
    "    ventes\n",
    "    .groupby(\"client\")[\"montant\"].mean().astype(int)\n",
    ")"
   ]
  },
  {
   "cell_type": "code",
   "execution_count": 6,
   "id": "a257d9cd",
   "metadata": {},
   "outputs": [
    {
     "data": {
      "text/html": [
       "<div>\n",
       "<style scoped>\n",
       "    .dataframe tbody tr th:only-of-type {\n",
       "        vertical-align: middle;\n",
       "    }\n",
       "\n",
       "    .dataframe tbody tr th {\n",
       "        vertical-align: top;\n",
       "    }\n",
       "\n",
       "    .dataframe thead th {\n",
       "        text-align: right;\n",
       "    }\n",
       "</style>\n",
       "<table border=\"1\" class=\"dataframe\">\n",
       "  <thead>\n",
       "    <tr style=\"text-align: right;\">\n",
       "      <th></th>\n",
       "      <th>client</th>\n",
       "      <th>mean_rate</th>\n",
       "    </tr>\n",
       "  </thead>\n",
       "  <tbody>\n",
       "    <tr>\n",
       "      <th>0</th>\n",
       "      <td>Toufik</td>\n",
       "      <td>59</td>\n",
       "    </tr>\n",
       "    <tr>\n",
       "      <th>1</th>\n",
       "      <td>David</td>\n",
       "      <td>36</td>\n",
       "    </tr>\n",
       "    <tr>\n",
       "      <th>2</th>\n",
       "      <td>Ben</td>\n",
       "      <td>30</td>\n",
       "    </tr>\n",
       "    <tr>\n",
       "      <th>3</th>\n",
       "      <td>Sylvie</td>\n",
       "      <td>29</td>\n",
       "    </tr>\n",
       "    <tr>\n",
       "      <th>4</th>\n",
       "      <td>Chris</td>\n",
       "      <td>59</td>\n",
       "    </tr>\n",
       "    <tr>\n",
       "      <th>5</th>\n",
       "      <td>Jean-Nicolas</td>\n",
       "      <td>36</td>\n",
       "    </tr>\n",
       "    <tr>\n",
       "      <th>6</th>\n",
       "      <td>Oussama</td>\n",
       "      <td>58</td>\n",
       "    </tr>\n",
       "    <tr>\n",
       "      <th>7</th>\n",
       "      <td>Julie</td>\n",
       "      <td>30</td>\n",
       "    </tr>\n",
       "    <tr>\n",
       "      <th>8</th>\n",
       "      <td>Tom</td>\n",
       "      <td>29</td>\n",
       "    </tr>\n",
       "    <tr>\n",
       "      <th>9</th>\n",
       "      <td>Aline</td>\n",
       "      <td>58</td>\n",
       "    </tr>\n",
       "  </tbody>\n",
       "</table>\n",
       "</div>"
      ],
      "text/plain": [
       "         client  mean_rate\n",
       "0        Toufik         59\n",
       "1         David         36\n",
       "2           Ben         30\n",
       "3        Sylvie         29\n",
       "4         Chris         59\n",
       "5  Jean-Nicolas         36\n",
       "6       Oussama         58\n",
       "7         Julie         30\n",
       "8           Tom         29\n",
       "9         Aline         58"
      ]
     },
     "execution_count": 6,
     "metadata": {},
     "output_type": "execute_result"
    }
   ],
   "source": [
    "query_mean = \"\"\"\n",
    "select\n",
    "    client,\n",
    "    CAST(AVG(montant) AS INTEGER) AS mean_rate\n",
    "FROM ventes\n",
    "GROUP BY client\n",
    "\"\"\"\n",
    "duckdb.sql(query_mean).df()"
   ]
  },
  {
   "cell_type": "code",
   "execution_count": null,
   "id": "75cabd5e",
   "metadata": {},
   "outputs": [],
   "source": []
  },
  {
   "cell_type": "code",
   "execution_count": 8,
   "id": "edf48e61",
   "metadata": {
    "cell_style": "split",
    "hidden": true
   },
   "outputs": [
    {
     "data": {
      "text/plain": [
       "client\n",
       "Aline           57.996667\n",
       "Ben             30.000000\n",
       "Chris           58.590000\n",
       "David           36.333333\n",
       "Jean-Nicolas    36.333333\n",
       "Julie           30.000000\n",
       "Oussama         57.996667\n",
       "Sylvie          28.666667\n",
       "Tom             28.666667\n",
       "Toufik          58.590000\n",
       "Name: montant, dtype: float64"
      ]
     },
     "execution_count": 8,
     "metadata": {},
     "output_type": "execute_result"
    }
   ],
   "source": [
    "# %load solutions/5panier_moyen_client_python.py\n",
    "(\n",
    "    ventes\n",
    "    .groupby(\"client\")\n",
    "    [\"montant\"].mean()\n",
    ")\n"
   ]
  },
  {
   "cell_type": "code",
   "execution_count": 10,
   "id": "0b167101",
   "metadata": {
    "cell_style": "split",
    "hidden": true
   },
   "outputs": [
    {
     "data": {
      "text/plain": [
       "┌──────────────┬────────────────────┐\n",
       "│    client    │    total_ventes    │\n",
       "│   varchar    │       double       │\n",
       "├──────────────┼────────────────────┤\n",
       "│ Toufik       │              58.59 │\n",
       "│ Aline        │  57.99666666666667 │\n",
       "│ David        │ 36.333333333333336 │\n",
       "│ Ben          │               30.0 │\n",
       "│ Sylvie       │ 28.666666666666668 │\n",
       "│ Chris        │              58.59 │\n",
       "│ Jean-Nicolas │ 36.333333333333336 │\n",
       "│ Oussama      │  57.99666666666667 │\n",
       "│ Julie        │               30.0 │\n",
       "│ Tom          │ 28.666666666666668 │\n",
       "├──────────────┴────────────────────┤\n",
       "│ 10 rows                 2 columns │\n",
       "└───────────────────────────────────┘"
      ]
     },
     "execution_count": 10,
     "metadata": {},
     "output_type": "execute_result"
    }
   ],
   "source": [
    "# %load solutions/6panier_moyen_client_sql.py\n",
    "query = \"\"\"\n",
    "SELECT client, MEAN(montant) as total_ventes\n",
    "FROM ventes\n",
    "GROUP BY client\n",
    "\"\"\"\n",
    "\n",
    "duckdb.sql(query)\n"
   ]
  },
  {
   "cell_type": "markdown",
   "id": "eea6f0b9",
   "metadata": {
    "hidden": true
   },
   "source": [
    "--- "
   ]
  },
  {
   "cell_type": "markdown",
   "id": "11772b08",
   "metadata": {
    "hidden": true
   },
   "source": [
    "Ensuite, votre PO vous demande de sortir la liste des clients qui ont des achats supérieurs à la moyenne "
   ]
  },
  {
   "cell_type": "markdown",
   "id": "ce1e679c",
   "metadata": {
    "hidden": true
   },
   "source": [
    "## Exercice: je triche avec Python, mais si vous étiez en interview SQL ?!"
   ]
  },
  {
   "cell_type": "markdown",
   "id": "fcac1125",
   "metadata": {
    "hidden": true
   },
   "source": []
  },
  {
   "cell_type": "code",
   "execution_count": 11,
   "id": "1f70fdb6",
   "metadata": {
    "hidden": true,
    "scrolled": true
   },
   "outputs": [
    {
     "data": {
      "text/plain": [
       "42.31733333333333"
      ]
     },
     "execution_count": 11,
     "metadata": {},
     "output_type": "execute_result"
    }
   ],
   "source": [
    "mean = (\n",
    "    ventes[\"montant\"].mean()\n",
    ")\n",
    "mean"
   ]
  },
  {
   "cell_type": "code",
   "execution_count": 16,
   "id": "5d67223b",
   "metadata": {
    "cell_style": "split",
    "hidden": true
   },
   "outputs": [
    {
     "data": {
      "text/plain": [
       "┌─────────┬───────────────────┐\n",
       "│ client  │    mean_sales     │\n",
       "│ varchar │      double       │\n",
       "├─────────┼───────────────────┤\n",
       "│ Chris   │             58.59 │\n",
       "│ Toufik  │             58.59 │\n",
       "│ Aline   │ 57.99666666666667 │\n",
       "│ Oussama │ 57.99666666666667 │\n",
       "└─────────┴───────────────────┘"
      ]
     },
     "execution_count": 16,
     "metadata": {},
     "output_type": "execute_result"
    }
   ],
   "source": [
    "query = f\"\"\"\n",
    "SELECT client, \n",
    "MEAN(montant) as mean_sales\n",
    "FROM ventes\n",
    "GROUP BY CLIENT\n",
    "HAVING mean_sales > {mean}\n",
    "\"\"\"\n",
    "\n",
    "duckdb.sql(query)"
   ]
  },
  {
   "cell_type": "code",
   "execution_count": 17,
   "id": "6ab2ed90",
   "metadata": {
    "cell_style": "split",
    "hidden": true
   },
   "outputs": [
    {
     "data": {
      "text/html": [
       "<div>\n",
       "<style scoped>\n",
       "    .dataframe tbody tr th:only-of-type {\n",
       "        vertical-align: middle;\n",
       "    }\n",
       "\n",
       "    .dataframe tbody tr th {\n",
       "        vertical-align: top;\n",
       "    }\n",
       "\n",
       "    .dataframe thead th {\n",
       "        text-align: right;\n",
       "    }\n",
       "</style>\n",
       "<table border=\"1\" class=\"dataframe\">\n",
       "  <thead>\n",
       "    <tr style=\"text-align: right;\">\n",
       "      <th></th>\n",
       "      <th>client</th>\n",
       "      <th>montant</th>\n",
       "    </tr>\n",
       "  </thead>\n",
       "  <tbody>\n",
       "    <tr>\n",
       "      <th>0</th>\n",
       "      <td>Aline</td>\n",
       "      <td>57.996667</td>\n",
       "    </tr>\n",
       "    <tr>\n",
       "      <th>2</th>\n",
       "      <td>Chris</td>\n",
       "      <td>58.590000</td>\n",
       "    </tr>\n",
       "    <tr>\n",
       "      <th>6</th>\n",
       "      <td>Oussama</td>\n",
       "      <td>57.996667</td>\n",
       "    </tr>\n",
       "    <tr>\n",
       "      <th>9</th>\n",
       "      <td>Toufik</td>\n",
       "      <td>58.590000</td>\n",
       "    </tr>\n",
       "  </tbody>\n",
       "</table>\n",
       "</div>"
      ],
      "text/plain": [
       "    client    montant\n",
       "0    Aline  57.996667\n",
       "2    Chris  58.590000\n",
       "6  Oussama  57.996667\n",
       "9   Toufik  58.590000"
      ]
     },
     "execution_count": 17,
     "metadata": {},
     "output_type": "execute_result"
    }
   ],
   "source": [
    "(\n",
    "    ventes\n",
    "    .groupby(\"client\")\n",
    "    [\"montant\"].mean()\n",
    "    .reset_index()\n",
    "    .query(f\"montant > {mean}\")\n",
    ")"
   ]
  },
  {
   "cell_type": "markdown",
   "id": "3616def8",
   "metadata": {
    "hidden": true
   },
   "source": [
    "Faites la même chose en SQL sans utiliser une F-string Python:"
   ]
  },
  {
   "cell_type": "code",
   "execution_count": 18,
   "id": "c751115a",
   "metadata": {
    "cell_style": "split",
    "hidden": true
   },
   "outputs": [
    {
     "data": {
      "text/plain": [
       "┌─────────┬───────────────────┐\n",
       "│ client  │    mean_sales     │\n",
       "│ varchar │      double       │\n",
       "├─────────┼───────────────────┤\n",
       "│ Chris   │             58.59 │\n",
       "│ Aline   │ 57.99666666666667 │\n",
       "│ Toufik  │             58.59 │\n",
       "│ Oussama │ 57.99666666666667 │\n",
       "└─────────┴───────────────────┘"
      ]
     },
     "execution_count": 18,
     "metadata": {},
     "output_type": "execute_result"
    }
   ],
   "source": [
    "# %load solutions/7mean_sales_python.py\n",
    "# Avec une subquery\n",
    "query = f\"\"\"\n",
    "SELECT client, \n",
    "MEAN(montant) as mean_sales\n",
    "FROM ventes\n",
    "GROUP BY CLIENT\n",
    "HAVING mean_sales > \n",
    "(SELECT MEAN(montant) FROM ventes)\n",
    "\"\"\"\n",
    "\n",
    "duckdb.sql(query)\n"
   ]
  },
  {
   "cell_type": "code",
   "execution_count": 20,
   "id": "77f13f62",
   "metadata": {
    "cell_style": "split",
    "hidden": true
   },
   "outputs": [
    {
     "data": {
      "text/plain": [
       "┌─────────┬───────────────────┐\n",
       "│ client  │    total_sales    │\n",
       "│ varchar │      double       │\n",
       "├─────────┼───────────────────┤\n",
       "│ Toufik  │             58.59 │\n",
       "│ Oussama │ 57.99666666666667 │\n",
       "│ Chris   │             58.59 │\n",
       "│ Aline   │ 57.99666666666667 │\n",
       "└─────────┴───────────────────┘"
      ]
     },
     "execution_count": 20,
     "metadata": {},
     "output_type": "execute_result"
    }
   ],
   "source": [
    "# %load solutions/8mean_sales_sql.py\n",
    "query = f\"\"\"\n",
    "WITH mean_sale AS\n",
    "    (SELECT MEAN(montant) FROM ventes)\n",
    "\n",
    "SELECT client, \n",
    "MEAN(montant) as total_sales\n",
    "FROM ventes\n",
    "GROUP BY CLIENT\n",
    "HAVING total_sales > (SELECT * FROM mean_sale)\n",
    "\"\"\"\n",
    "\n",
    "duckdb.sql(query)\n"
   ]
  },
  {
   "cell_type": "markdown",
   "id": "9b2acac2",
   "metadata": {
    "hidden": true
   },
   "source": [
    "## Exercice: la moyenne de la somme des ventes"
   ]
  },
  {
   "cell_type": "markdown",
   "id": "c377d780",
   "metadata": {
    "hidden": true
   },
   "source": [
    "Voici les ventes totales pour chaque client:"
   ]
  },
  {
   "cell_type": "code",
   "execution_count": 21,
   "id": "60073cbc",
   "metadata": {
    "hidden": true
   },
   "outputs": [
    {
     "data": {
      "text/plain": [
       "client\n",
       "Aline           173.99\n",
       "Ben              90.00\n",
       "Chris           175.77\n",
       "David           109.00\n",
       "Jean-Nicolas    109.00\n",
       "Julie            90.00\n",
       "Oussama         173.99\n",
       "Sylvie           86.00\n",
       "Tom              86.00\n",
       "Toufik          175.77\n",
       "Name: montant, dtype: float64"
      ]
     },
     "execution_count": 21,
     "metadata": {},
     "output_type": "execute_result"
    }
   ],
   "source": [
    "ventes.groupby(\"client\")[\"montant\"].sum()"
   ]
  },
  {
   "cell_type": "markdown",
   "id": "fc470b0d",
   "metadata": {
    "hidden": true
   },
   "source": [
    "La moyenne de ces ventes totales est différente de celle de tout à l'heure:"
   ]
  },
  {
   "cell_type": "code",
   "execution_count": 22,
   "id": "307af46b",
   "metadata": {
    "hidden": true
   },
   "outputs": [
    {
     "data": {
      "text/plain": [
       "126.952"
      ]
     },
     "execution_count": 22,
     "metadata": {},
     "output_type": "execute_result"
    }
   ],
   "source": [
    "ventes.groupby(\"client\")[\"montant\"].sum().mean()"
   ]
  },
  {
   "cell_type": "markdown",
   "id": "dc13c675",
   "metadata": {
    "hidden": true
   },
   "source": [
    "Utilisez une CTE pour obtenir les clients qui ont un total d'achat supérieur à la moyenne des totaux d'achats des autres clients:"
   ]
  },
  {
   "cell_type": "markdown",
   "id": "a12c1cd7",
   "metadata": {
    "hidden": true
   },
   "source": [
    "<img src=\"images/pirates-of-the-caribbean-captain-jack-sparrow.gif\" />"
   ]
  },
  {
   "cell_type": "markdown",
   "id": "ff15f8ba",
   "metadata": {
    "hidden": true
   },
   "source": [
    "(On veut les clients qui ont dépensé plus que 126.95€ :p)"
   ]
  },
  {
   "cell_type": "markdown",
   "id": "bacccdf8",
   "metadata": {
    "hidden": true
   },
   "source": [
    "Etapes:\n",
    "- Faire une query pour obtenir les ventes totales par client\n",
    "- La stocker dans une subquery\n",
    "- A partir de cette subquery, faire un query pour obtenir la moyenne de ces ventes totales\n",
    "- La stocker dans une 2nde subquery\n",
    "- A partir de cette deuxième subquery, récupérer les clients et leur somme totales dépensées, et filtrer sur les clients dont la moyenne est supérieure à celle calculée dans la 2e subquery"
   ]
  },
  {
   "cell_type": "code",
   "execution_count": 23,
   "id": "c0995b7e",
   "metadata": {
    "hidden": true,
    "scrolled": true
   },
   "outputs": [
    {
     "data": {
      "text/plain": [
       "┌─────────┬─────────────┐\n",
       "│ client  │ total_sales │\n",
       "│ varchar │   double    │\n",
       "├─────────┼─────────────┤\n",
       "│ Chris   │      175.77 │\n",
       "│ Toufik  │      175.77 │\n",
       "│ Oussama │      173.99 │\n",
       "│ Aline   │      173.99 │\n",
       "└─────────┴─────────────┘"
      ]
     },
     "execution_count": 23,
     "metadata": {},
     "output_type": "execute_result"
    }
   ],
   "source": [
    "query = \"\"\"\n",
    "WITH TOTAL_SALES_PER_CLIENT AS (\n",
    "    SELECT SUM(montant) AS total_sales\n",
    "    FROM ventes\n",
    "    GROUP BY client\n",
    "),\n",
    "\n",
    "MEAN_TOTAL_SALES AS (\n",
    "    SELECT MEAN(total_sales)\n",
    "    FROM TOTAL_SALES_PER_CLIENT\n",
    ")\n",
    "\n",
    "SELECT client, \n",
    "SUM(montant) as total_sales\n",
    "FROM ventes\n",
    "GROUP BY CLIENT\n",
    "HAVING total_sales > \n",
    "(SELECT * FROM MEAN_TOTAL_SALES)\n",
    "\"\"\"\n",
    "\n",
    "duckdb.sql(query)"
   ]
  },
  {
   "cell_type": "markdown",
   "id": "ce9dd5f5",
   "metadata": {},
   "source": [
    "# Les réunions, 2"
   ]
  },
  {
   "cell_type": "markdown",
   "id": "57ff9cf4",
   "metadata": {},
   "source": [
    "Participants aux réunions:"
   ]
  },
  {
   "cell_type": "code",
   "execution_count": 14,
   "id": "d0b64bd5",
   "metadata": {},
   "outputs": [],
   "source": [
    "person_names = [\"Benjamin\", \"Florian\", \"Tarik\", \"Bob\", \"Sirine\", \"Alice\"]"
   ]
  },
  {
   "cell_type": "markdown",
   "id": "3f7266ed",
   "metadata": {},
   "source": [
    "Création de la donnée sur les meetings:"
   ]
  },
  {
   "cell_type": "code",
   "execution_count": 15,
   "id": "9f3c0ad7",
   "metadata": {},
   "outputs": [],
   "source": [
    "import random\n",
    "\n",
    "meetings_data = []\n",
    "for meeting_id in range(150):\n",
    "    persons_in_meet = random.sample(person_names, random.randint(1,5))\n",
    "    for person_name in persons_in_meet:\n",
    "        meetings_data.append((meeting_id, person_name))\n",
    "\n",
    "\n",
    "meetings_df = pd.DataFrame(meetings_data, columns=[\"meeting_id\", \"person_name\"])"
   ]
  },
  {
   "cell_type": "markdown",
   "id": "7aafa0ca",
   "metadata": {},
   "source": [
    "Durées des meetings:"
   ]
  },
  {
   "cell_type": "code",
   "execution_count": 16,
   "id": "4dbc0a7f",
   "metadata": {},
   "outputs": [],
   "source": [
    "meeting_durations = []\n",
    "for meeting_id in meetings_df[\"meeting_id\"].unique():\n",
    "    duration = random.randint(10, 45)  # You can adjust the range as needed\n",
    "    meeting_durations.append((meeting_id, duration))\n",
    "\n",
    "durations_df = pd.DataFrame(meeting_durations, columns=[\"meeting_id\", \"duration_minutes\"])"
   ]
  },
  {
   "cell_type": "markdown",
   "id": "17e88b5a",
   "metadata": {},
   "source": [
    "Tweak de la donnée pour rendre l'exercice plus fun ;)"
   ]
  },
  {
   "cell_type": "code",
   "execution_count": 17,
   "id": "7cbd5c05",
   "metadata": {},
   "outputs": [],
   "source": [
    "average_duration = durations_df[\"duration_minutes\"].mean()\n",
    "meetings_with_flo = meetings_df[meetings_df[\"person_name\"] == \"Florian\"][\"meeting_id\"].unique()\n",
    "# meetings_with_ben = meetings_df[meetings_df[\"person_name\"] == \"Benjamin\"][\"meeting_id\"].unique()\n",
    "# s=set(meetings_with_ben) & set(meetings_with_flo)\n",
    "for _, row in durations_df.iterrows():\n",
    "    if row[\"meeting_id\"] in meetings_with_flo:\n",
    "        row[\"duration_minutes\"] += random.randint(50, 65)  # Add extra minutes to meet the condition"
   ]
  },
  {
   "cell_type": "markdown",
   "id": "f4f6f701",
   "metadata": {},
   "source": [
    "Total:"
   ]
  },
  {
   "cell_type": "code",
   "execution_count": 18,
   "id": "6071869d",
   "metadata": {},
   "outputs": [
    {
     "data": {
      "text/html": [
       "<div>\n",
       "<style scoped>\n",
       "    .dataframe tbody tr th:only-of-type {\n",
       "        vertical-align: middle;\n",
       "    }\n",
       "\n",
       "    .dataframe tbody tr th {\n",
       "        vertical-align: top;\n",
       "    }\n",
       "\n",
       "    .dataframe thead th {\n",
       "        text-align: right;\n",
       "    }\n",
       "</style>\n",
       "<table border=\"1\" class=\"dataframe\">\n",
       "  <thead>\n",
       "    <tr style=\"text-align: right;\">\n",
       "      <th></th>\n",
       "      <th>meeting_id</th>\n",
       "      <th>person_name</th>\n",
       "      <th>duration_minutes</th>\n",
       "    </tr>\n",
       "  </thead>\n",
       "  <tbody>\n",
       "    <tr>\n",
       "      <th>0</th>\n",
       "      <td>0</td>\n",
       "      <td>Bob</td>\n",
       "      <td>34</td>\n",
       "    </tr>\n",
       "    <tr>\n",
       "      <th>1</th>\n",
       "      <td>0</td>\n",
       "      <td>Benjamin</td>\n",
       "      <td>34</td>\n",
       "    </tr>\n",
       "    <tr>\n",
       "      <th>2</th>\n",
       "      <td>1</td>\n",
       "      <td>Benjamin</td>\n",
       "      <td>86</td>\n",
       "    </tr>\n",
       "    <tr>\n",
       "      <th>3</th>\n",
       "      <td>1</td>\n",
       "      <td>Florian</td>\n",
       "      <td>86</td>\n",
       "    </tr>\n",
       "    <tr>\n",
       "      <th>4</th>\n",
       "      <td>1</td>\n",
       "      <td>Sirine</td>\n",
       "      <td>86</td>\n",
       "    </tr>\n",
       "    <tr>\n",
       "      <th>...</th>\n",
       "      <td>...</td>\n",
       "      <td>...</td>\n",
       "      <td>...</td>\n",
       "    </tr>\n",
       "    <tr>\n",
       "      <th>467</th>\n",
       "      <td>148</td>\n",
       "      <td>Alice</td>\n",
       "      <td>42</td>\n",
       "    </tr>\n",
       "    <tr>\n",
       "      <th>468</th>\n",
       "      <td>149</td>\n",
       "      <td>Sirine</td>\n",
       "      <td>98</td>\n",
       "    </tr>\n",
       "    <tr>\n",
       "      <th>469</th>\n",
       "      <td>149</td>\n",
       "      <td>Benjamin</td>\n",
       "      <td>98</td>\n",
       "    </tr>\n",
       "    <tr>\n",
       "      <th>470</th>\n",
       "      <td>149</td>\n",
       "      <td>Tarik</td>\n",
       "      <td>98</td>\n",
       "    </tr>\n",
       "    <tr>\n",
       "      <th>471</th>\n",
       "      <td>149</td>\n",
       "      <td>Florian</td>\n",
       "      <td>98</td>\n",
       "    </tr>\n",
       "  </tbody>\n",
       "</table>\n",
       "<p>472 rows × 3 columns</p>\n",
       "</div>"
      ],
      "text/plain": [
       "     meeting_id person_name  duration_minutes\n",
       "0             0         Bob                34\n",
       "1             0    Benjamin                34\n",
       "2             1    Benjamin                86\n",
       "3             1     Florian                86\n",
       "4             1      Sirine                86\n",
       "..          ...         ...               ...\n",
       "467         148       Alice                42\n",
       "468         149      Sirine                98\n",
       "469         149    Benjamin                98\n",
       "470         149       Tarik                98\n",
       "471         149     Florian                98\n",
       "\n",
       "[472 rows x 3 columns]"
      ]
     },
     "execution_count": 18,
     "metadata": {},
     "output_type": "execute_result"
    }
   ],
   "source": [
    "merged_df = meetings_df.merge(durations_df, on=\"meeting_id\")\n",
    "merged_df"
   ]
  },
  {
   "cell_type": "markdown",
   "id": "63e44770",
   "metadata": {},
   "source": [
    "## Exercice 1: refaites le self join "
   ]
  },
  {
   "cell_type": "code",
   "execution_count": 19,
   "id": "46dc90cf",
   "metadata": {},
   "outputs": [],
   "source": [
    "# on veut récup toutes les réunions qui concernent Bejamin"
   ]
  },
  {
   "cell_type": "code",
   "execution_count": 20,
   "id": "9738dbe3",
   "metadata": {},
   "outputs": [
    {
     "data": {
      "text/plain": [
       "┌────────────┬───────────┬──────────────────┐\n",
       "│ meeting_id │ colleague │ duration_minutes │\n",
       "│   int64    │  varchar  │      int64       │\n",
       "├────────────┼───────────┼──────────────────┤\n",
       "│          0 │ Bob       │               34 │\n",
       "│          1 │ Florian   │               86 │\n",
       "│          1 │ Sirine    │               86 │\n",
       "│          1 │ Tarik     │               86 │\n",
       "│          1 │ Bob       │               86 │\n",
       "│          2 │ Sirine    │               23 │\n",
       "│          2 │ Bob       │               23 │\n",
       "│          2 │ Alice     │               23 │\n",
       "│          4 │ Tarik     │               75 │\n",
       "│          4 │ Florian   │               75 │\n",
       "│          · │    ·      │                · │\n",
       "│          · │    ·      │                · │\n",
       "│          · │    ·      │                · │\n",
       "│        145 │ Florian   │               70 │\n",
       "│        145 │ Alice     │               70 │\n",
       "│        145 │ Bob       │               70 │\n",
       "│        145 │ Tarik     │               70 │\n",
       "│        148 │ Tarik     │               42 │\n",
       "│        148 │ Sirine    │               42 │\n",
       "│        148 │ Alice     │               42 │\n",
       "│        149 │ Sirine    │               98 │\n",
       "│        149 │ Tarik     │               98 │\n",
       "│        149 │ Florian   │               98 │\n",
       "├────────────┴───────────┴──────────────────┤\n",
       "│ 243 rows (20 shown)             3 columns │\n",
       "└───────────────────────────────────────────┘"
      ]
     },
     "execution_count": 20,
     "metadata": {},
     "output_type": "execute_result"
    }
   ],
   "source": [
    "benjamin_meeting = \"\"\"\n",
    "SELECT\n",
    "    meeting_id,\n",
    "    b.person_name AS colleague,\n",
    "    a.duration_minutes\n",
    "FROM merged_df a\n",
    "INNER JOIN merged_df b\n",
    "USING (meeting_id)\n",
    "WHERE a.person_name = 'Benjamin'\n",
    "    AND b.person_name != 'Benjamin'\n",
    "\n",
    "\"\"\"\n",
    "\n",
    "duckdb.sql(benjamin_meeting)"
   ]
  },
  {
   "cell_type": "code",
   "execution_count": null,
   "id": "292203b5",
   "metadata": {},
   "outputs": [],
   "source": []
  },
  {
   "cell_type": "markdown",
   "id": "684137f7",
   "metadata": {},
   "source": [
    "- créer une table avec toutes les combinaisons de personnes ayant assisté au même meeting\n",
    "- ne garder que les records qui me concernent (Benjamin)\n",
    "- enlever les records où je suis en réunion \"avec moi-même\""
   ]
  },
  {
   "cell_type": "code",
   "execution_count": 21,
   "id": "50ec49cc",
   "metadata": {},
   "outputs": [
    {
     "data": {
      "text/plain": [
       "┌────────────┬───────────┬──────────────────┐\n",
       "│ meeting_id │ colleague │ duration_minutes │\n",
       "│   int64    │  varchar  │      int64       │\n",
       "├────────────┼───────────┼──────────────────┤\n",
       "│          0 │ Bob       │               34 │\n",
       "│          1 │ Florian   │               86 │\n",
       "│          1 │ Sirine    │               86 │\n",
       "│          1 │ Tarik     │               86 │\n",
       "│          1 │ Bob       │               86 │\n",
       "│          2 │ Sirine    │               23 │\n",
       "│          2 │ Bob       │               23 │\n",
       "│          2 │ Alice     │               23 │\n",
       "│          4 │ Tarik     │               75 │\n",
       "│          4 │ Florian   │               75 │\n",
       "│          · │    ·      │                · │\n",
       "│          · │    ·      │                · │\n",
       "│          · │    ·      │                · │\n",
       "│        145 │ Florian   │               70 │\n",
       "│        145 │ Alice     │               70 │\n",
       "│        145 │ Bob       │               70 │\n",
       "│        145 │ Tarik     │               70 │\n",
       "│        148 │ Tarik     │               42 │\n",
       "│        148 │ Sirine    │               42 │\n",
       "│        148 │ Alice     │               42 │\n",
       "│        149 │ Sirine    │               98 │\n",
       "│        149 │ Tarik     │               98 │\n",
       "│        149 │ Florian   │               98 │\n",
       "├────────────┴───────────┴──────────────────┤\n",
       "│ 243 rows (20 shown)             3 columns │\n",
       "└───────────────────────────────────────────┘"
      ]
     },
     "execution_count": 21,
     "metadata": {},
     "output_type": "execute_result"
    }
   ],
   "source": [
    "# %load solutions/9self_join_review.py\n",
    "query = \"\"\"\n",
    "SELECT meeting_id, \n",
    "rdf.person_name as colleague,\n",
    "ldf.duration_minutes\n",
    "FROM merged_df ldf\n",
    "INNER JOIN merged_df rdf\n",
    "USING (meeting_id)\n",
    "WHERE ldf.person_name == 'Benjamin'\n",
    "AND rdf.person_name != 'Benjamin'\n",
    "\"\"\"\n",
    "\n",
    "duckdb.sql(query)\n"
   ]
  },
  {
   "cell_type": "markdown",
   "id": "d647d8fe",
   "metadata": {},
   "source": [
    "## Exercice 2: calculez la durée moyenne des meetings avec chaque collegue "
   ]
  },
  {
   "cell_type": "markdown",
   "id": "b2c76e1e",
   "metadata": {},
   "source": [
    "Ensuite, faire un group by pour savoir la durée moyenne de mes meetings avec chaque personne\n",
    "- [optionnel]: ne garder que les résultats pour lesquels la moyenne est > à 1h"
   ]
  },
  {
   "cell_type": "markdown",
   "id": "23822139",
   "metadata": {},
   "source": [
    "#### AVEC SUBQUERY"
   ]
  },
  {
   "cell_type": "code",
   "execution_count": 22,
   "id": "9633fa40",
   "metadata": {},
   "outputs": [
    {
     "data": {
      "text/plain": [
       "┌───────────┬───────────────┐\n",
       "│ colleague │ mean_duration │\n",
       "│  varchar  │    double     │\n",
       "├───────────┼───────────────┤\n",
       "│ Bob       │         60.44 │\n",
       "│ Sirine    │         61.96 │\n",
       "│ Florian   │         84.33 │\n",
       "└───────────┴───────────────┘"
      ]
     },
     "execution_count": 22,
     "metadata": {},
     "output_type": "execute_result"
    }
   ],
   "source": [
    "query_mean_duration = \"\"\"\n",
    "\n",
    "SELECT\n",
    "    colleague,\n",
    "    ROUND(AVG(duration_minutes),2) AS mean_duration\n",
    "FROM (\n",
    "\n",
    "SELECT meeting_id, \n",
    "rdf.person_name as colleague,\n",
    "ldf.duration_minutes\n",
    "FROM merged_df ldf\n",
    "INNER JOIN merged_df rdf\n",
    "USING (meeting_id)\n",
    "WHERE ldf.person_name == 'Benjamin'\n",
    "AND rdf.person_name != 'Benjamin'\n",
    "\n",
    "\n",
    ")\n",
    "\n",
    "GROUP BY colleague\n",
    "HAVING mean_duration > 60\n",
    "\n",
    "\n",
    "\"\"\"\n",
    "\n",
    "duckdb.sql(query_mean_duration)"
   ]
  },
  {
   "cell_type": "code",
   "execution_count": null,
   "id": "eb738f6e",
   "metadata": {},
   "outputs": [],
   "source": []
  },
  {
   "cell_type": "markdown",
   "id": "fdd2e4ec",
   "metadata": {},
   "source": [
    "#### AVEC CTE"
   ]
  },
  {
   "cell_type": "code",
   "execution_count": 26,
   "id": "26fbe735",
   "metadata": {},
   "outputs": [
    {
     "data": {
      "text/plain": [
       "┌───────────┬──────────────────┐\n",
       "│ colleague │ mean_duration_mn │\n",
       "│  varchar  │      double      │\n",
       "├───────────┼──────────────────┤\n",
       "│ Sirine    │            61.96 │\n",
       "│ Florian   │            84.33 │\n",
       "│ Bob       │            60.44 │\n",
       "└───────────┴──────────────────┘"
      ]
     },
     "execution_count": 26,
     "metadata": {},
     "output_type": "execute_result"
    }
   ],
   "source": [
    "query_mean_duration_CTE =\"\"\"\n",
    "WITH inner_join_query AS(\n",
    "SELECT meeting_id, \n",
    "rdf.person_name as colleague,\n",
    "ldf.duration_minutes\n",
    "FROM merged_df ldf\n",
    "INNER JOIN merged_df rdf\n",
    "USING (meeting_id)\n",
    "WHERE ldf.person_name == 'Benjamin'\n",
    "AND rdf.person_name != 'Benjamin'\n",
    ")\n",
    "\n",
    "SELECT \n",
    "    colleague,\n",
    "    ROUND(AVG(duration_minutes), 2) AS mean_duration_mn\n",
    "FROM inner_join_query\n",
    "GROUP BY colleague\n",
    "HAVING mean_duration_mn > 60\n",
    "\"\"\"\n",
    "\n",
    "duckdb.sql(query_mean_duration_CTE)"
   ]
  },
  {
   "cell_type": "code",
   "execution_count": null,
   "id": "a1be70d5",
   "metadata": {},
   "outputs": [],
   "source": []
  },
  {
   "cell_type": "code",
   "execution_count": 25,
   "id": "70518914",
   "metadata": {},
   "outputs": [
    {
     "data": {
      "text/plain": [
       "┌───────────┬──────────────────────┐\n",
       "│ colleague │ avg_meeting_duration │\n",
       "│  varchar  │        double        │\n",
       "├───────────┼──────────────────────┤\n",
       "│ Sirine    │    61.95918367346939 │\n",
       "│ Tarik     │   59.285714285714285 │\n",
       "│ Florian   │    84.32608695652173 │\n",
       "│ Alice     │   58.680851063829785 │\n",
       "│ Bob       │    60.44230769230769 │\n",
       "└───────────┴──────────────────────┘"
      ]
     },
     "execution_count": 25,
     "metadata": {},
     "output_type": "execute_result"
    }
   ],
   "source": [
    "# %load solutions/10reunions_solution.py\n",
    "query = \"\"\" \n",
    "WITH meetings_benjamin AS (\n",
    "    SELECT meeting_id, \n",
    "    rdf.person_name as colleague,\n",
    "    ldf.duration_minutes\n",
    "    FROM merged_df ldf\n",
    "    INNER JOIN merged_df rdf\n",
    "    USING (meeting_id)\n",
    "    WHERE ldf.person_name == 'Benjamin'\n",
    "    AND rdf.person_name != 'Benjamin'\n",
    ")\n",
    "\n",
    "SELECT colleague,\n",
    "MEAN(duration_minutes) as avg_meeting_duration\n",
    "FROM meetings_benjamin\n",
    "GROUP BY colleague\n",
    "\"\"\"\n",
    "\n",
    "duckdb.sql(query)\n"
   ]
  },
  {
   "cell_type": "code",
   "execution_count": null,
   "id": "9b407d8e",
   "metadata": {},
   "outputs": [],
   "source": []
  }
 ],
 "metadata": {
  "kernelspec": {
   "display_name": "Python 3 (ipykernel)",
   "language": "python",
   "name": "python3"
  },
  "language_info": {
   "codemirror_mode": {
    "name": "ipython",
    "version": 3
   },
   "file_extension": ".py",
   "mimetype": "text/x-python",
   "name": "python",
   "nbconvert_exporter": "python",
   "pygments_lexer": "ipython3",
   "version": "3.9.13"
  }
 },
 "nbformat": 4,
 "nbformat_minor": 5
}
