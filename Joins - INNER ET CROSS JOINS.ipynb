{
 "cells": [
  {
   "cell_type": "markdown",
   "id": "35760018",
   "metadata": {},
   "source": [
    "# Faire un cross join avec un inner join"
   ]
  },
  {
   "cell_type": "code",
   "execution_count": 2,
   "id": "43c9f93e",
   "metadata": {},
   "outputs": [],
   "source": [
    "import pandas as pd\n",
    "import io\n",
    "import duckdb"
   ]
  },
  {
   "cell_type": "markdown",
   "id": "497ce28e",
   "metadata": {},
   "source": [
    "## Data"
   ]
  },
  {
   "cell_type": "code",
   "execution_count": 3,
   "id": "37ffb761",
   "metadata": {
    "cell_style": "split"
   },
   "outputs": [],
   "source": [
    "csv = '''\n",
    "beverage,price\n",
    "orange juice,2.5\n",
    "Expresso,2\n",
    "Tea,3\n",
    "'''\n",
    "\n",
    "beverages = pd.read_csv(io.StringIO(csv))"
   ]
  },
  {
   "cell_type": "code",
   "execution_count": 4,
   "id": "af57cb63",
   "metadata": {
    "cell_style": "split"
   },
   "outputs": [],
   "source": [
    "csv2 = '''\n",
    "food_item,food_price\n",
    "cookie,2.5\n",
    "chocolatine,2\n",
    "muffin,3\n",
    "'''\n",
    "\n",
    "food_items = pd.read_csv(io.StringIO(csv2))"
   ]
  },
  {
   "cell_type": "code",
   "execution_count": 5,
   "id": "b5d2cfa9",
   "metadata": {
    "cell_style": "split"
   },
   "outputs": [
    {
     "data": {
      "text/plain": [
       "┌──────────────┬────────┐\n",
       "│   beverage   │ price  │\n",
       "│   varchar    │ double │\n",
       "├──────────────┼────────┤\n",
       "│ orange juice │    2.5 │\n",
       "│ Expresso     │    2.0 │\n",
       "│ Tea          │    3.0 │\n",
       "└──────────────┴────────┘"
      ]
     },
     "execution_count": 5,
     "metadata": {},
     "output_type": "execute_result"
    }
   ],
   "source": [
    "# checks\n",
    "query_beverages = \"\"\"\n",
    "SELECT * FROM beverages\n",
    "\"\"\"\n",
    "duckdb.sql(query_beverages)"
   ]
  },
  {
   "cell_type": "code",
   "execution_count": 6,
   "id": "c6a6ebbe",
   "metadata": {
    "cell_style": "split"
   },
   "outputs": [
    {
     "data": {
      "text/plain": [
       "┌─────────────┬────────────┐\n",
       "│  food_item  │ food_price │\n",
       "│   varchar   │   double   │\n",
       "├─────────────┼────────────┤\n",
       "│ cookie      │        2.5 │\n",
       "│ chocolatine │        2.0 │\n",
       "│ muffin      │        3.0 │\n",
       "└─────────────┴────────────┘"
      ]
     },
     "execution_count": 6,
     "metadata": {},
     "output_type": "execute_result"
    }
   ],
   "source": [
    "query_food_items = \"\"\"\n",
    "SELECT * FROM food_items\n",
    "\"\"\"\n",
    "duckdb.sql(query_food_items)"
   ]
  },
  {
   "cell_type": "markdown",
   "id": "6666b58e",
   "metadata": {},
   "source": [
    "## Cross join"
   ]
  },
  {
   "cell_type": "code",
   "execution_count": 7,
   "id": "299e8613",
   "metadata": {
    "cell_style": "split"
   },
   "outputs": [
    {
     "data": {
      "text/plain": [
       "┌──────────────┬────────┬─────────────┬────────────┐\n",
       "│   beverage   │ price  │  food_item  │ food_price │\n",
       "│   varchar    │ double │   varchar   │   double   │\n",
       "├──────────────┼────────┼─────────────┼────────────┤\n",
       "│ orange juice │    2.5 │ cookie      │        2.5 │\n",
       "│ orange juice │    2.5 │ chocolatine │        2.0 │\n",
       "│ orange juice │    2.5 │ muffin      │        3.0 │\n",
       "│ Expresso     │    2.0 │ cookie      │        2.5 │\n",
       "│ Expresso     │    2.0 │ chocolatine │        2.0 │\n",
       "│ Expresso     │    2.0 │ muffin      │        3.0 │\n",
       "│ Tea          │    3.0 │ cookie      │        2.5 │\n",
       "│ Tea          │    3.0 │ chocolatine │        2.0 │\n",
       "│ Tea          │    3.0 │ muffin      │        3.0 │\n",
       "└──────────────┴────────┴─────────────┴────────────┘"
      ]
     },
     "execution_count": 7,
     "metadata": {},
     "output_type": "execute_result"
    }
   ],
   "source": [
    "cross_join_query = \"\"\"\n",
    "SELECT * FROM beverages\n",
    "CROSS JOIN food_items\n",
    "\"\"\"\n",
    "duckdb.sql(cross_join_query)"
   ]
  },
  {
   "cell_type": "code",
   "execution_count": 8,
   "id": "7a0515f2",
   "metadata": {
    "cell_style": "split",
    "scrolled": true
   },
   "outputs": [
    {
     "data": {
      "text/html": [
       "<div>\n",
       "<style scoped>\n",
       "    .dataframe tbody tr th:only-of-type {\n",
       "        vertical-align: middle;\n",
       "    }\n",
       "\n",
       "    .dataframe tbody tr th {\n",
       "        vertical-align: top;\n",
       "    }\n",
       "\n",
       "    .dataframe thead th {\n",
       "        text-align: right;\n",
       "    }\n",
       "</style>\n",
       "<table border=\"1\" class=\"dataframe\">\n",
       "  <thead>\n",
       "    <tr style=\"text-align: right;\">\n",
       "      <th></th>\n",
       "      <th>beverage</th>\n",
       "      <th>price</th>\n",
       "      <th>food_item</th>\n",
       "      <th>food_price</th>\n",
       "    </tr>\n",
       "  </thead>\n",
       "  <tbody>\n",
       "    <tr>\n",
       "      <th>0</th>\n",
       "      <td>orange juice</td>\n",
       "      <td>2.5</td>\n",
       "      <td>cookie</td>\n",
       "      <td>2.5</td>\n",
       "    </tr>\n",
       "    <tr>\n",
       "      <th>1</th>\n",
       "      <td>orange juice</td>\n",
       "      <td>2.5</td>\n",
       "      <td>chocolatine</td>\n",
       "      <td>2.0</td>\n",
       "    </tr>\n",
       "    <tr>\n",
       "      <th>2</th>\n",
       "      <td>orange juice</td>\n",
       "      <td>2.5</td>\n",
       "      <td>muffin</td>\n",
       "      <td>3.0</td>\n",
       "    </tr>\n",
       "    <tr>\n",
       "      <th>3</th>\n",
       "      <td>Expresso</td>\n",
       "      <td>2.0</td>\n",
       "      <td>cookie</td>\n",
       "      <td>2.5</td>\n",
       "    </tr>\n",
       "    <tr>\n",
       "      <th>4</th>\n",
       "      <td>Expresso</td>\n",
       "      <td>2.0</td>\n",
       "      <td>chocolatine</td>\n",
       "      <td>2.0</td>\n",
       "    </tr>\n",
       "    <tr>\n",
       "      <th>5</th>\n",
       "      <td>Expresso</td>\n",
       "      <td>2.0</td>\n",
       "      <td>muffin</td>\n",
       "      <td>3.0</td>\n",
       "    </tr>\n",
       "    <tr>\n",
       "      <th>6</th>\n",
       "      <td>Tea</td>\n",
       "      <td>3.0</td>\n",
       "      <td>cookie</td>\n",
       "      <td>2.5</td>\n",
       "    </tr>\n",
       "    <tr>\n",
       "      <th>7</th>\n",
       "      <td>Tea</td>\n",
       "      <td>3.0</td>\n",
       "      <td>chocolatine</td>\n",
       "      <td>2.0</td>\n",
       "    </tr>\n",
       "    <tr>\n",
       "      <th>8</th>\n",
       "      <td>Tea</td>\n",
       "      <td>3.0</td>\n",
       "      <td>muffin</td>\n",
       "      <td>3.0</td>\n",
       "    </tr>\n",
       "  </tbody>\n",
       "</table>\n",
       "</div>"
      ],
      "text/plain": [
       "       beverage  price    food_item  food_price\n",
       "0  orange juice    2.5       cookie         2.5\n",
       "1  orange juice    2.5  chocolatine         2.0\n",
       "2  orange juice    2.5       muffin         3.0\n",
       "3      Expresso    2.0       cookie         2.5\n",
       "4      Expresso    2.0  chocolatine         2.0\n",
       "5      Expresso    2.0       muffin         3.0\n",
       "6           Tea    3.0       cookie         2.5\n",
       "7           Tea    3.0  chocolatine         2.0\n",
       "8           Tea    3.0       muffin         3.0"
      ]
     },
     "execution_count": 8,
     "metadata": {},
     "output_type": "execute_result"
    }
   ],
   "source": [
    "output = (\n",
    "    beverages\n",
    "    .merge(food_items, how=\"cross\")\n",
    ")\n",
    "output"
   ]
  },
  {
   "cell_type": "markdown",
   "id": "6a161e83",
   "metadata": {},
   "source": [
    "## Inner join"
   ]
  },
  {
   "cell_type": "markdown",
   "id": "4f6e2838",
   "metadata": {},
   "source": [
    "<blockquote> \"Sur quelle colonne tu veux que je fasse un inner join ?!\" </blockquote>\n",
    "=> Il n'y a pas de colonne en commun. On va donc en créer une ;)"
   ]
  },
  {
   "cell_type": "code",
   "execution_count": 9,
   "id": "bae59154",
   "metadata": {
    "cell_style": "split"
   },
   "outputs": [
    {
     "data": {
      "text/html": [
       "<div>\n",
       "<style scoped>\n",
       "    .dataframe tbody tr th:only-of-type {\n",
       "        vertical-align: middle;\n",
       "    }\n",
       "\n",
       "    .dataframe tbody tr th {\n",
       "        vertical-align: top;\n",
       "    }\n",
       "\n",
       "    .dataframe thead th {\n",
       "        text-align: right;\n",
       "    }\n",
       "</style>\n",
       "<table border=\"1\" class=\"dataframe\">\n",
       "  <thead>\n",
       "    <tr style=\"text-align: right;\">\n",
       "      <th></th>\n",
       "      <th>beverage</th>\n",
       "      <th>price</th>\n",
       "      <th>id</th>\n",
       "    </tr>\n",
       "  </thead>\n",
       "  <tbody>\n",
       "    <tr>\n",
       "      <th>0</th>\n",
       "      <td>orange juice</td>\n",
       "      <td>2.5</td>\n",
       "      <td>1</td>\n",
       "    </tr>\n",
       "    <tr>\n",
       "      <th>1</th>\n",
       "      <td>Expresso</td>\n",
       "      <td>2.0</td>\n",
       "      <td>1</td>\n",
       "    </tr>\n",
       "    <tr>\n",
       "      <th>2</th>\n",
       "      <td>Tea</td>\n",
       "      <td>3.0</td>\n",
       "      <td>1</td>\n",
       "    </tr>\n",
       "  </tbody>\n",
       "</table>\n",
       "</div>"
      ],
      "text/plain": [
       "       beverage  price  id\n",
       "0  orange juice    2.5   1\n",
       "1      Expresso    2.0   1\n",
       "2           Tea    3.0   1"
      ]
     },
     "execution_count": 9,
     "metadata": {},
     "output_type": "execute_result"
    }
   ],
   "source": [
    "beverages[\"id\"] = [1, 1, 1]\n",
    "beverages"
   ]
  },
  {
   "cell_type": "code",
   "execution_count": 10,
   "id": "258fe7c4",
   "metadata": {
    "cell_style": "split"
   },
   "outputs": [
    {
     "data": {
      "text/html": [
       "<div>\n",
       "<style scoped>\n",
       "    .dataframe tbody tr th:only-of-type {\n",
       "        vertical-align: middle;\n",
       "    }\n",
       "\n",
       "    .dataframe tbody tr th {\n",
       "        vertical-align: top;\n",
       "    }\n",
       "\n",
       "    .dataframe thead th {\n",
       "        text-align: right;\n",
       "    }\n",
       "</style>\n",
       "<table border=\"1\" class=\"dataframe\">\n",
       "  <thead>\n",
       "    <tr style=\"text-align: right;\">\n",
       "      <th></th>\n",
       "      <th>food_item</th>\n",
       "      <th>food_price</th>\n",
       "      <th>id</th>\n",
       "    </tr>\n",
       "  </thead>\n",
       "  <tbody>\n",
       "    <tr>\n",
       "      <th>0</th>\n",
       "      <td>cookie</td>\n",
       "      <td>2.5</td>\n",
       "      <td>1</td>\n",
       "    </tr>\n",
       "    <tr>\n",
       "      <th>1</th>\n",
       "      <td>chocolatine</td>\n",
       "      <td>2.0</td>\n",
       "      <td>1</td>\n",
       "    </tr>\n",
       "    <tr>\n",
       "      <th>2</th>\n",
       "      <td>muffin</td>\n",
       "      <td>3.0</td>\n",
       "      <td>1</td>\n",
       "    </tr>\n",
       "  </tbody>\n",
       "</table>\n",
       "</div>"
      ],
      "text/plain": [
       "     food_item  food_price  id\n",
       "0       cookie         2.5   1\n",
       "1  chocolatine         2.0   1\n",
       "2       muffin         3.0   1"
      ]
     },
     "execution_count": 10,
     "metadata": {},
     "output_type": "execute_result"
    }
   ],
   "source": [
    "food_items[\"id\"] = [1, 1, 1]\n",
    "food_items"
   ]
  },
  {
   "cell_type": "code",
   "execution_count": 11,
   "id": "a649ef1f",
   "metadata": {
    "cell_style": "split"
   },
   "outputs": [
    {
     "data": {
      "text/html": [
       "<div>\n",
       "<style scoped>\n",
       "    .dataframe tbody tr th:only-of-type {\n",
       "        vertical-align: middle;\n",
       "    }\n",
       "\n",
       "    .dataframe tbody tr th {\n",
       "        vertical-align: top;\n",
       "    }\n",
       "\n",
       "    .dataframe thead th {\n",
       "        text-align: right;\n",
       "    }\n",
       "</style>\n",
       "<table border=\"1\" class=\"dataframe\">\n",
       "  <thead>\n",
       "    <tr style=\"text-align: right;\">\n",
       "      <th></th>\n",
       "      <th>beverage</th>\n",
       "      <th>price</th>\n",
       "      <th>id</th>\n",
       "      <th>food_item</th>\n",
       "      <th>food_price</th>\n",
       "    </tr>\n",
       "  </thead>\n",
       "  <tbody>\n",
       "    <tr>\n",
       "      <th>0</th>\n",
       "      <td>orange juice</td>\n",
       "      <td>2.5</td>\n",
       "      <td>1</td>\n",
       "      <td>cookie</td>\n",
       "      <td>2.5</td>\n",
       "    </tr>\n",
       "    <tr>\n",
       "      <th>1</th>\n",
       "      <td>orange juice</td>\n",
       "      <td>2.5</td>\n",
       "      <td>1</td>\n",
       "      <td>chocolatine</td>\n",
       "      <td>2.0</td>\n",
       "    </tr>\n",
       "    <tr>\n",
       "      <th>2</th>\n",
       "      <td>orange juice</td>\n",
       "      <td>2.5</td>\n",
       "      <td>1</td>\n",
       "      <td>muffin</td>\n",
       "      <td>3.0</td>\n",
       "    </tr>\n",
       "    <tr>\n",
       "      <th>3</th>\n",
       "      <td>Expresso</td>\n",
       "      <td>2.0</td>\n",
       "      <td>1</td>\n",
       "      <td>cookie</td>\n",
       "      <td>2.5</td>\n",
       "    </tr>\n",
       "    <tr>\n",
       "      <th>4</th>\n",
       "      <td>Expresso</td>\n",
       "      <td>2.0</td>\n",
       "      <td>1</td>\n",
       "      <td>chocolatine</td>\n",
       "      <td>2.0</td>\n",
       "    </tr>\n",
       "    <tr>\n",
       "      <th>5</th>\n",
       "      <td>Expresso</td>\n",
       "      <td>2.0</td>\n",
       "      <td>1</td>\n",
       "      <td>muffin</td>\n",
       "      <td>3.0</td>\n",
       "    </tr>\n",
       "    <tr>\n",
       "      <th>6</th>\n",
       "      <td>Tea</td>\n",
       "      <td>3.0</td>\n",
       "      <td>1</td>\n",
       "      <td>cookie</td>\n",
       "      <td>2.5</td>\n",
       "    </tr>\n",
       "    <tr>\n",
       "      <th>7</th>\n",
       "      <td>Tea</td>\n",
       "      <td>3.0</td>\n",
       "      <td>1</td>\n",
       "      <td>chocolatine</td>\n",
       "      <td>2.0</td>\n",
       "    </tr>\n",
       "    <tr>\n",
       "      <th>8</th>\n",
       "      <td>Tea</td>\n",
       "      <td>3.0</td>\n",
       "      <td>1</td>\n",
       "      <td>muffin</td>\n",
       "      <td>3.0</td>\n",
       "    </tr>\n",
       "  </tbody>\n",
       "</table>\n",
       "</div>"
      ],
      "text/plain": [
       "       beverage  price  id    food_item  food_price\n",
       "0  orange juice    2.5   1       cookie         2.5\n",
       "1  orange juice    2.5   1  chocolatine         2.0\n",
       "2  orange juice    2.5   1       muffin         3.0\n",
       "3      Expresso    2.0   1       cookie         2.5\n",
       "4      Expresso    2.0   1  chocolatine         2.0\n",
       "5      Expresso    2.0   1       muffin         3.0\n",
       "6           Tea    3.0   1       cookie         2.5\n",
       "7           Tea    3.0   1  chocolatine         2.0\n",
       "8           Tea    3.0   1       muffin         3.0"
      ]
     },
     "execution_count": 11,
     "metadata": {},
     "output_type": "execute_result"
    }
   ],
   "source": [
    "output = (\n",
    "    beverages\n",
    "    .merge(food_items, on=\"id\")\n",
    ")\n",
    "output"
   ]
  },
  {
   "cell_type": "code",
   "execution_count": 12,
   "id": "a36fb9de",
   "metadata": {
    "cell_style": "split"
   },
   "outputs": [
    {
     "data": {
      "text/html": [
       "<div>\n",
       "<style scoped>\n",
       "    .dataframe tbody tr th:only-of-type {\n",
       "        vertical-align: middle;\n",
       "    }\n",
       "\n",
       "    .dataframe tbody tr th {\n",
       "        vertical-align: top;\n",
       "    }\n",
       "\n",
       "    .dataframe thead th {\n",
       "        text-align: right;\n",
       "    }\n",
       "</style>\n",
       "<table border=\"1\" class=\"dataframe\">\n",
       "  <thead>\n",
       "    <tr style=\"text-align: right;\">\n",
       "      <th></th>\n",
       "      <th>beverage</th>\n",
       "      <th>price</th>\n",
       "      <th>id</th>\n",
       "      <th>food_item</th>\n",
       "      <th>food_price</th>\n",
       "    </tr>\n",
       "  </thead>\n",
       "  <tbody>\n",
       "    <tr>\n",
       "      <th>0</th>\n",
       "      <td>Tea</td>\n",
       "      <td>3.0</td>\n",
       "      <td>1</td>\n",
       "      <td>cookie</td>\n",
       "      <td>2.5</td>\n",
       "    </tr>\n",
       "    <tr>\n",
       "      <th>1</th>\n",
       "      <td>Tea</td>\n",
       "      <td>3.0</td>\n",
       "      <td>1</td>\n",
       "      <td>chocolatine</td>\n",
       "      <td>2.0</td>\n",
       "    </tr>\n",
       "    <tr>\n",
       "      <th>2</th>\n",
       "      <td>Tea</td>\n",
       "      <td>3.0</td>\n",
       "      <td>1</td>\n",
       "      <td>muffin</td>\n",
       "      <td>3.0</td>\n",
       "    </tr>\n",
       "    <tr>\n",
       "      <th>3</th>\n",
       "      <td>Expresso</td>\n",
       "      <td>2.0</td>\n",
       "      <td>1</td>\n",
       "      <td>cookie</td>\n",
       "      <td>2.5</td>\n",
       "    </tr>\n",
       "    <tr>\n",
       "      <th>4</th>\n",
       "      <td>Expresso</td>\n",
       "      <td>2.0</td>\n",
       "      <td>1</td>\n",
       "      <td>chocolatine</td>\n",
       "      <td>2.0</td>\n",
       "    </tr>\n",
       "    <tr>\n",
       "      <th>5</th>\n",
       "      <td>Expresso</td>\n",
       "      <td>2.0</td>\n",
       "      <td>1</td>\n",
       "      <td>muffin</td>\n",
       "      <td>3.0</td>\n",
       "    </tr>\n",
       "    <tr>\n",
       "      <th>6</th>\n",
       "      <td>orange juice</td>\n",
       "      <td>2.5</td>\n",
       "      <td>1</td>\n",
       "      <td>cookie</td>\n",
       "      <td>2.5</td>\n",
       "    </tr>\n",
       "    <tr>\n",
       "      <th>7</th>\n",
       "      <td>orange juice</td>\n",
       "      <td>2.5</td>\n",
       "      <td>1</td>\n",
       "      <td>chocolatine</td>\n",
       "      <td>2.0</td>\n",
       "    </tr>\n",
       "    <tr>\n",
       "      <th>8</th>\n",
       "      <td>orange juice</td>\n",
       "      <td>2.5</td>\n",
       "      <td>1</td>\n",
       "      <td>muffin</td>\n",
       "      <td>3.0</td>\n",
       "    </tr>\n",
       "  </tbody>\n",
       "</table>\n",
       "</div>"
      ],
      "text/plain": [
       "       beverage  price  id    food_item  food_price\n",
       "0           Tea    3.0   1       cookie         2.5\n",
       "1           Tea    3.0   1  chocolatine         2.0\n",
       "2           Tea    3.0   1       muffin         3.0\n",
       "3      Expresso    2.0   1       cookie         2.5\n",
       "4      Expresso    2.0   1  chocolatine         2.0\n",
       "5      Expresso    2.0   1       muffin         3.0\n",
       "6  orange juice    2.5   1       cookie         2.5\n",
       "7  orange juice    2.5   1  chocolatine         2.0\n",
       "8  orange juice    2.5   1       muffin         3.0"
      ]
     },
     "execution_count": 12,
     "metadata": {},
     "output_type": "execute_result"
    }
   ],
   "source": [
    "cross_join_query = \"\"\"\n",
    "SELECT * FROM beverages\n",
    "INNER JOIN food_items\n",
    "USING (id)\n",
    "\"\"\"\n",
    "duckdb.sql(cross_join_query).df()"
   ]
  },
  {
   "cell_type": "markdown",
   "id": "6388a478",
   "metadata": {},
   "source": [
    "<blockquote> \"Ca donne pas le même résultat qu'un CROSS JOIN ton truc !\" </ blockquote> \n"
   ]
  },
  {
   "cell_type": "markdown",
   "id": "dbad965a",
   "metadata": {},
   "source": [
    "## Exercice: que pourrait-on changer ?"
   ]
  },
  {
   "cell_type": "code",
   "execution_count": 13,
   "id": "097784f0",
   "metadata": {},
   "outputs": [
    {
     "data": {
      "text/html": [
       "<div>\n",
       "<style scoped>\n",
       "    .dataframe tbody tr th:only-of-type {\n",
       "        vertical-align: middle;\n",
       "    }\n",
       "\n",
       "    .dataframe tbody tr th {\n",
       "        vertical-align: top;\n",
       "    }\n",
       "\n",
       "    .dataframe thead th {\n",
       "        text-align: right;\n",
       "    }\n",
       "</style>\n",
       "<table border=\"1\" class=\"dataframe\">\n",
       "  <thead>\n",
       "    <tr style=\"text-align: right;\">\n",
       "      <th></th>\n",
       "      <th>beverage</th>\n",
       "      <th>price</th>\n",
       "      <th>id</th>\n",
       "      <th>food_item</th>\n",
       "      <th>food_price</th>\n",
       "    </tr>\n",
       "  </thead>\n",
       "  <tbody>\n",
       "    <tr>\n",
       "      <th>0</th>\n",
       "      <td>Tea</td>\n",
       "      <td>3.0</td>\n",
       "      <td>1</td>\n",
       "      <td>cookie</td>\n",
       "      <td>2.5</td>\n",
       "    </tr>\n",
       "    <tr>\n",
       "      <th>1</th>\n",
       "      <td>Tea</td>\n",
       "      <td>3.0</td>\n",
       "      <td>1</td>\n",
       "      <td>chocolatine</td>\n",
       "      <td>2.0</td>\n",
       "    </tr>\n",
       "    <tr>\n",
       "      <th>2</th>\n",
       "      <td>Tea</td>\n",
       "      <td>3.0</td>\n",
       "      <td>1</td>\n",
       "      <td>muffin</td>\n",
       "      <td>3.0</td>\n",
       "    </tr>\n",
       "    <tr>\n",
       "      <th>3</th>\n",
       "      <td>Expresso</td>\n",
       "      <td>2.0</td>\n",
       "      <td>1</td>\n",
       "      <td>cookie</td>\n",
       "      <td>2.5</td>\n",
       "    </tr>\n",
       "    <tr>\n",
       "      <th>4</th>\n",
       "      <td>Expresso</td>\n",
       "      <td>2.0</td>\n",
       "      <td>1</td>\n",
       "      <td>chocolatine</td>\n",
       "      <td>2.0</td>\n",
       "    </tr>\n",
       "    <tr>\n",
       "      <th>5</th>\n",
       "      <td>Expresso</td>\n",
       "      <td>2.0</td>\n",
       "      <td>1</td>\n",
       "      <td>muffin</td>\n",
       "      <td>3.0</td>\n",
       "    </tr>\n",
       "    <tr>\n",
       "      <th>6</th>\n",
       "      <td>orange juice</td>\n",
       "      <td>2.5</td>\n",
       "      <td>1</td>\n",
       "      <td>cookie</td>\n",
       "      <td>2.5</td>\n",
       "    </tr>\n",
       "    <tr>\n",
       "      <th>7</th>\n",
       "      <td>orange juice</td>\n",
       "      <td>2.5</td>\n",
       "      <td>1</td>\n",
       "      <td>chocolatine</td>\n",
       "      <td>2.0</td>\n",
       "    </tr>\n",
       "    <tr>\n",
       "      <th>8</th>\n",
       "      <td>orange juice</td>\n",
       "      <td>2.5</td>\n",
       "      <td>1</td>\n",
       "      <td>muffin</td>\n",
       "      <td>3.0</td>\n",
       "    </tr>\n",
       "  </tbody>\n",
       "</table>\n",
       "</div>"
      ],
      "text/plain": [
       "       beverage  price  id    food_item  food_price\n",
       "0           Tea    3.0   1       cookie         2.5\n",
       "1           Tea    3.0   1  chocolatine         2.0\n",
       "2           Tea    3.0   1       muffin         3.0\n",
       "3      Expresso    2.0   1       cookie         2.5\n",
       "4      Expresso    2.0   1  chocolatine         2.0\n",
       "5      Expresso    2.0   1       muffin         3.0\n",
       "6  orange juice    2.5   1       cookie         2.5\n",
       "7  orange juice    2.5   1  chocolatine         2.0\n",
       "8  orange juice    2.5   1       muffin         3.0"
      ]
     },
     "execution_count": 13,
     "metadata": {},
     "output_type": "execute_result"
    }
   ],
   "source": [
    "# %load solutions/5exercice_cross_with_inner.py\n",
    "food_items[\"id\"] = beverages[\"id\"] = [1, 1, 1]\n",
    "cross_join_query = \"\"\"\n",
    "SELECT * FROM beverages\n",
    "INNER JOIN food_items\n",
    "USING (id)\n",
    "\"\"\"\n",
    "duckdb.sql(cross_join_query).df()\n"
   ]
  },
  {
   "cell_type": "markdown",
   "id": "f29f43c0",
   "metadata": {},
   "source": [
    "---"
   ]
  },
  {
   "cell_type": "markdown",
   "id": "138c1078",
   "metadata": {},
   "source": [
    "<img src=\"images/cross_product.jpg\" />"
   ]
  },
  {
   "cell_type": "markdown",
   "id": "99b6e290",
   "metadata": {},
   "source": [
    "Au début, il n'y avait pas d'implémentation du cross_join dans pandas, et quand les gens en avaient besoin, ils l'implémentaient \"à la mano\":"
   ]
  },
  {
   "cell_type": "markdown",
   "id": "91eaf098",
   "metadata": {},
   "source": [
    "<img src=\"images/cross_join_with_inner_so.png\" />"
   ]
  },
  {
   "cell_type": "code",
   "execution_count": null,
   "id": "4931926a",
   "metadata": {},
   "outputs": [],
   "source": []
  },
  {
   "cell_type": "code",
   "execution_count": null,
   "id": "6e46bcd2",
   "metadata": {},
   "outputs": [],
   "source": []
  },
  {
   "cell_type": "code",
   "execution_count": null,
   "id": "c120143f",
   "metadata": {},
   "outputs": [],
   "source": []
  },
  {
   "cell_type": "code",
   "execution_count": null,
   "id": "6de820ce",
   "metadata": {},
   "outputs": [],
   "source": []
  },
  {
   "cell_type": "code",
   "execution_count": null,
   "id": "de0ee85c",
   "metadata": {},
   "outputs": [],
   "source": []
  },
  {
   "cell_type": "code",
   "execution_count": null,
   "id": "e1df71ce",
   "metadata": {},
   "outputs": [],
   "source": []
  },
  {
   "cell_type": "code",
   "execution_count": null,
   "id": "ced81fc6",
   "metadata": {},
   "outputs": [],
   "source": []
  }
 ],
 "metadata": {
  "kernelspec": {
   "display_name": "Python 3 (ipykernel)",
   "language": "python",
   "name": "python3"
  },
  "language_info": {
   "codemirror_mode": {
    "name": "ipython",
    "version": 3
   },
   "file_extension": ".py",
   "mimetype": "text/x-python",
   "name": "python",
   "nbconvert_exporter": "python",
   "pygments_lexer": "ipython3",
   "version": "3.9.13"
  }
 },
 "nbformat": 4,
 "nbformat_minor": 5
}
