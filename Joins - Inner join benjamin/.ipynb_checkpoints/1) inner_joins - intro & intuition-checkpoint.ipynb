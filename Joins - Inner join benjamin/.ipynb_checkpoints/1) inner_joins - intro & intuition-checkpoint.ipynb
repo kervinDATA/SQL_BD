{
 "cells": [
  {
   "cell_type": "markdown",
   "id": "d784b649",
   "metadata": {},
   "source": [
    "# Inner join - intuition"
   ]
  },
  {
   "cell_type": "markdown",
   "id": "a6c6b8ce",
   "metadata": {},
   "source": [
    "Dans la partie précédente, on a découvert les cross joins.\n",
    "\n",
    "On a démarré par les cross joins parce que ça permet de bâtir de l'intuition sur les autres formes de joins.\n",
    "\n",
    "Dans ce notebook, on va découvrir que tous les autres joins peuvent être imaginés comme des cross_joins avec un filtre"
   ]
  },
  {
   "cell_type": "code",
   "execution_count": 1,
   "id": "1e4475bd",
   "metadata": {},
   "outputs": [],
   "source": [
    "import pandas as pd\n",
    "import duckdb\n",
    "import io"
   ]
  },
  {
   "cell_type": "markdown",
   "id": "d651c229",
   "metadata": {},
   "source": [
    "## Cross join avec plusieurs colonnes dans la table"
   ]
  },
  {
   "cell_type": "markdown",
   "id": "b09d9fdb",
   "metadata": {},
   "source": [
    "Imaginons qu'on ait deux tables, salaries & seniorities:"
   ]
  },
  {
   "cell_type": "code",
   "execution_count": 2,
   "id": "7525b534",
   "metadata": {},
   "outputs": [],
   "source": [
    "csv = '''\n",
    "salary,employee_id\n",
    "2000,1\n",
    "2500,2\n",
    "2200,3\n",
    "'''\n",
    "\n",
    "csv2 = '''\n",
    "employee_id,seniority\n",
    "1,2ans\n",
    "2,4ans\n",
    "'''\n",
    "\n",
    "\n",
    "salaries = pd.read_csv(io.StringIO(csv))\n",
    "seniorities = pd.read_csv(io.StringIO(csv2))"
   ]
  },
  {
   "cell_type": "code",
   "execution_count": 3,
   "id": "89084c82",
   "metadata": {},
   "outputs": [
    {
     "data": {
      "text/html": [
       "<div>\n",
       "<style scoped>\n",
       "    .dataframe tbody tr th:only-of-type {\n",
       "        vertical-align: middle;\n",
       "    }\n",
       "\n",
       "    .dataframe tbody tr th {\n",
       "        vertical-align: top;\n",
       "    }\n",
       "\n",
       "    .dataframe thead th {\n",
       "        text-align: right;\n",
       "    }\n",
       "</style>\n",
       "<table border=\"1\" class=\"dataframe\">\n",
       "  <thead>\n",
       "    <tr style=\"text-align: right;\">\n",
       "      <th></th>\n",
       "      <th>salary</th>\n",
       "      <th>employee_id</th>\n",
       "    </tr>\n",
       "  </thead>\n",
       "  <tbody>\n",
       "    <tr>\n",
       "      <th>0</th>\n",
       "      <td>2000</td>\n",
       "      <td>1</td>\n",
       "    </tr>\n",
       "    <tr>\n",
       "      <th>1</th>\n",
       "      <td>2500</td>\n",
       "      <td>2</td>\n",
       "    </tr>\n",
       "    <tr>\n",
       "      <th>2</th>\n",
       "      <td>2200</td>\n",
       "      <td>3</td>\n",
       "    </tr>\n",
       "  </tbody>\n",
       "</table>\n",
       "</div>"
      ],
      "text/plain": [
       "   salary  employee_id\n",
       "0    2000            1\n",
       "1    2500            2\n",
       "2    2200            3"
      ]
     },
     "metadata": {},
     "output_type": "display_data"
    },
    {
     "data": {
      "text/html": [
       "<div>\n",
       "<style scoped>\n",
       "    .dataframe tbody tr th:only-of-type {\n",
       "        vertical-align: middle;\n",
       "    }\n",
       "\n",
       "    .dataframe tbody tr th {\n",
       "        vertical-align: top;\n",
       "    }\n",
       "\n",
       "    .dataframe thead th {\n",
       "        text-align: right;\n",
       "    }\n",
       "</style>\n",
       "<table border=\"1\" class=\"dataframe\">\n",
       "  <thead>\n",
       "    <tr style=\"text-align: right;\">\n",
       "      <th></th>\n",
       "      <th>employee_id</th>\n",
       "      <th>seniority</th>\n",
       "    </tr>\n",
       "  </thead>\n",
       "  <tbody>\n",
       "    <tr>\n",
       "      <th>0</th>\n",
       "      <td>1</td>\n",
       "      <td>2ans</td>\n",
       "    </tr>\n",
       "    <tr>\n",
       "      <th>1</th>\n",
       "      <td>2</td>\n",
       "      <td>4ans</td>\n",
       "    </tr>\n",
       "  </tbody>\n",
       "</table>\n",
       "</div>"
      ],
      "text/plain": [
       "   employee_id seniority\n",
       "0            1      2ans\n",
       "1            2      4ans"
      ]
     },
     "execution_count": 3,
     "metadata": {},
     "output_type": "execute_result"
    }
   ],
   "source": [
    "display(salaries)\n",
    "seniorities"
   ]
  },
  {
   "cell_type": "markdown",
   "id": "71989aba",
   "metadata": {},
   "source": [
    "Comme ces deux tables contiennent respectivement 3 entrées et 2 entrées, on s'attends à ce qu'un cross join nous donne une table avec 6 entrées:"
   ]
  },
  {
   "cell_type": "markdown",
   "id": "081500aa",
   "metadata": {},
   "source": [
    "<img src=\"images/cross_join_before_filter.png\" />"
   ]
  },
  {
   "cell_type": "code",
   "execution_count": 4,
   "id": "64e303a9",
   "metadata": {},
   "outputs": [
    {
     "data": {
      "text/plain": [
       "┌────────┬─────────────┬─────────────┬───────────┐\n",
       "│ salary │ employee_id │ employee_id │ seniority │\n",
       "│ int64  │    int64    │    int64    │  varchar  │\n",
       "├────────┼─────────────┼─────────────┼───────────┤\n",
       "│   2000 │           1 │           1 │ 2ans      │\n",
       "│   2500 │           2 │           1 │ 2ans      │\n",
       "│   2200 │           3 │           1 │ 2ans      │\n",
       "│   2000 │           1 │           2 │ 4ans      │\n",
       "│   2500 │           2 │           2 │ 4ans      │\n",
       "│   2200 │           3 │           2 │ 4ans      │\n",
       "└────────┴─────────────┴─────────────┴───────────┘"
      ]
     },
     "execution_count": 4,
     "metadata": {},
     "output_type": "execute_result"
    }
   ],
   "source": [
    "cross_join_query = \"\"\"\n",
    "SELECT * FROM salaries\n",
    "CROSS JOIN seniorities\n",
    "\"\"\"\n",
    "duckdb.sql(cross_join_query)"
   ]
  },
  {
   "cell_type": "markdown",
   "id": "c2bb7607",
   "metadata": {},
   "source": [
    "## Cross join avec un filtre = inner join !"
   ]
  },
  {
   "cell_type": "markdown",
   "id": "10fdaa4f",
   "metadata": {},
   "source": [
    "Si on décide maintenant d'appliquer un filtre avec la clause WHERE, on peut se limiter aux entrées pour lesquelles les deux colonnes employee_id sont égales:"
   ]
  },
  {
   "cell_type": "code",
   "execution_count": 5,
   "id": "9a8ad794",
   "metadata": {},
   "outputs": [
    {
     "data": {
      "text/plain": [
       "┌────────┬─────────────┬─────────────┬───────────┐\n",
       "│ salary │ employee_id │ employee_id │ seniority │\n",
       "│ int64  │    int64    │    int64    │  varchar  │\n",
       "├────────┼─────────────┼─────────────┼───────────┤\n",
       "│   2000 │           1 │           1 │ 2ans      │\n",
       "│   2500 │           2 │           2 │ 4ans      │\n",
       "└────────┴─────────────┴─────────────┴───────────┘"
      ]
     },
     "execution_count": 5,
     "metadata": {},
     "output_type": "execute_result"
    }
   ],
   "source": [
    "cross_join_query_where = \"\"\"\n",
    "SELECT * FROM salaries\n",
    "CROSS JOIN seniorities\n",
    "WHERE salaries.employee_id = seniorities.employee_id\n",
    "\"\"\"\n",
    "duckdb.sql(cross_join_query_where)"
   ]
  },
  {
   "cell_type": "markdown",
   "id": "217a36bf",
   "metadata": {},
   "source": [
    "<img src=\"images/cross_join_after_filter.png\" />"
   ]
  },
  {
   "cell_type": "markdown",
   "id": "b89ed53e",
   "metadata": {},
   "source": [
    "Un exemple plus propre qui ne garde qu'une seule colonne \"employee_id\":"
   ]
  },
  {
   "cell_type": "markdown",
   "id": "adf73e15",
   "metadata": {},
   "source": [
    "## Plus clean:"
   ]
  },
  {
   "cell_type": "code",
   "execution_count": 6,
   "id": "c340f6e5",
   "metadata": {},
   "outputs": [
    {
     "data": {
      "text/plain": [
       "┌────────┬─────────────┬───────────┐\n",
       "│ salary │ employee_id │ seniority │\n",
       "│ int64  │    int64    │  varchar  │\n",
       "├────────┼─────────────┼───────────┤\n",
       "│   2000 │           1 │ 2ans      │\n",
       "│   2500 │           2 │ 4ans      │\n",
       "└────────┴─────────────┴───────────┘"
      ]
     },
     "execution_count": 6,
     "metadata": {},
     "output_type": "execute_result"
    }
   ],
   "source": [
    "cross_join_query_where = \"\"\"\n",
    "SELECT salary, salaries.employee_id, seniority \n",
    "FROM salaries\n",
    "CROSS JOIN seniorities\n",
    "WHERE salaries.employee_id = seniorities.employee_id\n",
    "\"\"\"\n",
    "duckdb.sql(cross_join_query_where)"
   ]
  },
  {
   "cell_type": "markdown",
   "id": "dac7029b",
   "metadata": {},
   "source": [
    "L'utilisation de la syntaxe de l'INNER JOIN nous donne exactement le même résultat que le CROSS JOIN avec un FILTRE:"
   ]
  },
  {
   "cell_type": "code",
   "execution_count": 7,
   "id": "a8e5b5d0",
   "metadata": {},
   "outputs": [
    {
     "data": {
      "text/plain": [
       "┌────────┬─────────────┬───────────┐\n",
       "│ salary │ employee_id │ seniority │\n",
       "│ int64  │    int64    │  varchar  │\n",
       "├────────┼─────────────┼───────────┤\n",
       "│   2000 │           1 │ 2ans      │\n",
       "│   2500 │           2 │ 4ans      │\n",
       "└────────┴─────────────┴───────────┘"
      ]
     },
     "execution_count": 7,
     "metadata": {},
     "output_type": "execute_result"
    }
   ],
   "source": [
    "cross_join_query_where = \"\"\"\n",
    "SELECT salary, salaries.employee_id, seniority \n",
    "FROM salaries\n",
    "INNER JOIN seniorities\n",
    "ON salaries.employee_id = seniorities.employee_id\n",
    "\"\"\"\n",
    "duckdb.sql(cross_join_query_where)"
   ]
  },
  {
   "cell_type": "markdown",
   "id": "745fdb27",
   "metadata": {},
   "source": [
    "⇒ En définitive, toutes les sortes de joins peuvent être ramenées à un produit cartésien auquel on applique un filtre.\n",
    "\n",
    "\n",
    "Dans le prochain notebook, on va voir quelques exemples d'INNER JOIN"
   ]
  }
 ],
 "metadata": {
  "kernelspec": {
   "display_name": "Python 3 (ipykernel)",
   "language": "python",
   "name": "python3"
  },
  "language_info": {
   "codemirror_mode": {
    "name": "ipython",
    "version": 3
   },
   "file_extension": ".py",
   "mimetype": "text/x-python",
   "name": "python",
   "nbconvert_exporter": "python",
   "pygments_lexer": "ipython3",
   "version": "3.9.13"
  }
 },
 "nbformat": 4,
 "nbformat_minor": 5
}
