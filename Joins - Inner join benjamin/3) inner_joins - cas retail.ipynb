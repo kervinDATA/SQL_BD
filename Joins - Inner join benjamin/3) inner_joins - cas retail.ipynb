{
 "cells": [
  {
   "cell_type": "code",
   "execution_count": 2,
   "id": "631c1920",
   "metadata": {},
   "outputs": [],
   "source": [
    "import random\n",
    "import pandas as pd\n",
    "import duckdb\n",
    "from datetime import datetime, timedelta"
   ]
  },
  {
   "cell_type": "markdown",
   "id": "e0edf63a",
   "metadata": {},
   "source": [
    "# Création de la donnée"
   ]
  },
  {
   "cell_type": "code",
   "execution_count": 5,
   "id": "c6ad5849",
   "metadata": {},
   "outputs": [
    {
     "data": {
      "text/plain": [
       "(81733, 5)"
      ]
     },
     "execution_count": 5,
     "metadata": {},
     "output_type": "execute_result"
    }
   ],
   "source": [
    "univers = [\"Électronique\", \"Mode\", \"Maison\"]\n",
    "\n",
    "categories_par_univers = {\n",
    "    \"Électronique\": [\"Téléphones\", \"Ordinateurs\"],\n",
    "    \"Mode\": [\"Vêtements\", \"Accessoires\"],\n",
    "    \"Maison\": [\"Meubles\", \"Décoration\"]\n",
    "}\n",
    "\n",
    "noms_produits = {\n",
    "    \"Téléphones\": [\"iPhone 13\", \"Samsung Galaxy S21\", \"Google Pixel 6\", \"OnePlus 9\", \"Xiaomi Mi 11\", \"Sony Xperia 5 III\", \"Huawei P40 Pro\", \"LG Velvet\", \"Motorola Edge\", \"Nokia 8.3\"],\n",
    "    \"Ordinateurs\": [\"MacBook Pro\", \"Dell XPS 15\", \"HP Spectre x360\", \"Lenovo ThinkPad\", \"Asus ROG Zephyrus\", \"Microsoft Surface Laptop\", \"Acer Predator Helios\", \"Razer Blade\", \"MSI Prestige\", \"LG Gram\"],\n",
    "    \"Vêtements\": [\"Chemise en lin\", \"Robe d'été\", \"Jeans slim\", \"Veste en cuir\", \"Pull en laine\", \"Pantalon chino\", \"T-shirt graphique\", \"Blouse à volants\", \"Blazer ajusté\", \"Short en denim\"],\n",
    "    \"Accessoires\": [\"Montre élégante\", \"Sac à dos moderne\", \"Lunettes de soleil\", \"Ceinture en cuir\", \"Écharpe en soie\", \"Boucles d'oreilles\", \"Chapeau en feutre\", \"Bracelet en métal\", \"Cravate en soie\", \"Portefeuille en cuir\"],\n",
    "    \"Meubles\": [\"Canapé modulaire\", \"Table à manger en bois\", \"Lit king-size\", \"Chaise ergonomique\", \"Bureau en verre\", \"Étagère murale\", \"Buffet en bois\", \"Fauteuil inclinable\", \"Table basse moderne\", \"Commode à tiroirs\"],\n",
    "    \"Décoration\": [\"Vase en céramique\", \"Tableau abstrait\", \"Bougie parfumée\", \"Coussins décoratifs\", \"Horloge murale\", \"Plante d'intérieur\", \"Suspension lumineuse\", \"Miroir encadré\", \"Tapis tissé\", \"Statuette en bronze\"]\n",
    "}\n",
    "\n",
    "donnees = []\n",
    "produit_id_counter = 1\n",
    "categorie_id = 0\n",
    "\n",
    "for univers_id, univers_name in enumerate(univers):\n",
    "    for categorie in categories_par_univers[univers_name]:\n",
    "        categorie_id += 1\n",
    "        for _ in range(15):  # Créer 15 exemples de produits par catégorie\n",
    "            produit = {\n",
    "                \"produit_id\": produit_id_counter,\n",
    "                \"univers_id\": univers_id,\n",
    "                \"univers_name\": univers_name,\n",
    "                \"categorie_name\": categorie,\n",
    "                \"categorie_id\": categorie_id,\n",
    "                \"nom\": random.choice(noms_produits[categorie]),\n",
    "                \"prix_unitaire\": round(random.uniform(10, 1000), 2)\n",
    "            }\n",
    "            donnees.append(produit)\n",
    "            produit_id_counter += 1\n",
    "\n",
    "df = pd.DataFrame(donnees)\n",
    "products = df[[\"produit_id\", \"prix_unitaire\", \"nom\"]]\n",
    "categorie_produit = df[[\"categorie_id\", \"categorie_name\", \"produit_id\"]]\n",
    "univers_categorie = df[[\"univers_id\", \"univers_name\", \"categorie_id\"]].drop_duplicates()\n",
    "\n",
    "\n",
    "# Un mois de ventes:\n",
    "\n",
    "date_debut = datetime(2023, 7, 1)\n",
    "date_fin = datetime(2023, 7, 31)\n",
    "jours_dans_le_mois = (date_fin - date_debut).days + 1\n",
    "\n",
    "ventes = []\n",
    "\n",
    "for jour in range(jours_dans_le_mois):\n",
    "    date_vente = date_debut + timedelta(days=jour)\n",
    "    n_sales_that_day = range(1, random.randint(10, 300))\n",
    "    for vente in n_sales_that_day:\n",
    "        products_in_that_sale = products.sample(random.randint(1, 36))\n",
    "        for _, row in products_in_that_sale.iterrows():\n",
    "            quantite_vendue = random.randint(1, 10)\n",
    "            montant_total = row[\"prix_unitaire\"] * quantite_vendue\n",
    "            ventes.append({\n",
    "                \"date\": date_vente,\n",
    "                \"produit_id\": row[\"produit_id\"],\n",
    "                \"quantite_vendue\": quantite_vendue,\n",
    "                \"prix_unitaire\": row[\"prix_unitaire\"],\n",
    "                \"montant_total\": montant_total\n",
    "            })\n",
    "del(df)\n",
    "# Créer une DataFrame Pandas pour les ventes\n",
    "ventes_df = pd.DataFrame(ventes)\n",
    "ventes_df.shape"
   ]
  },
  {
   "cell_type": "markdown",
   "id": "1a6312e1",
   "metadata": {},
   "source": [
    "# Présentation de la donnée"
   ]
  },
  {
   "cell_type": "markdown",
   "id": "31a30d93",
   "metadata": {
    "cell_style": "split"
   },
   "source": [
    "Vous avez à votre disposition une table de ventes:"
   ]
  },
  {
   "cell_type": "markdown",
   "id": "7f155a81",
   "metadata": {
    "cell_style": "split"
   },
   "source": [
    "Une table produits:"
   ]
  },
  {
   "cell_type": "code",
   "execution_count": 3,
   "id": "731192fe",
   "metadata": {
    "cell_style": "split"
   },
   "outputs": [
    {
     "data": {
      "text/html": [
       "<div>\n",
       "<style scoped>\n",
       "    .dataframe tbody tr th:only-of-type {\n",
       "        vertical-align: middle;\n",
       "    }\n",
       "\n",
       "    .dataframe tbody tr th {\n",
       "        vertical-align: top;\n",
       "    }\n",
       "\n",
       "    .dataframe thead th {\n",
       "        text-align: right;\n",
       "    }\n",
       "</style>\n",
       "<table border=\"1\" class=\"dataframe\">\n",
       "  <thead>\n",
       "    <tr style=\"text-align: right;\">\n",
       "      <th></th>\n",
       "      <th>date</th>\n",
       "      <th>produit_id</th>\n",
       "      <th>quantite_vendue</th>\n",
       "      <th>prix_unitaire</th>\n",
       "      <th>montant_total</th>\n",
       "    </tr>\n",
       "  </thead>\n",
       "  <tbody>\n",
       "    <tr>\n",
       "      <th>0</th>\n",
       "      <td>2023-07-01</td>\n",
       "      <td>88</td>\n",
       "      <td>3</td>\n",
       "      <td>944.84</td>\n",
       "      <td>2834.52</td>\n",
       "    </tr>\n",
       "    <tr>\n",
       "      <th>1</th>\n",
       "      <td>2023-07-01</td>\n",
       "      <td>82</td>\n",
       "      <td>8</td>\n",
       "      <td>66.92</td>\n",
       "      <td>535.36</td>\n",
       "    </tr>\n",
       "    <tr>\n",
       "      <th>2</th>\n",
       "      <td>2023-07-01</td>\n",
       "      <td>18</td>\n",
       "      <td>10</td>\n",
       "      <td>777.42</td>\n",
       "      <td>7774.20</td>\n",
       "    </tr>\n",
       "    <tr>\n",
       "      <th>3</th>\n",
       "      <td>2023-07-01</td>\n",
       "      <td>27</td>\n",
       "      <td>3</td>\n",
       "      <td>718.35</td>\n",
       "      <td>2155.05</td>\n",
       "    </tr>\n",
       "    <tr>\n",
       "      <th>4</th>\n",
       "      <td>2023-07-01</td>\n",
       "      <td>80</td>\n",
       "      <td>7</td>\n",
       "      <td>238.99</td>\n",
       "      <td>1672.93</td>\n",
       "    </tr>\n",
       "    <tr>\n",
       "      <th>...</th>\n",
       "      <td>...</td>\n",
       "      <td>...</td>\n",
       "      <td>...</td>\n",
       "      <td>...</td>\n",
       "      <td>...</td>\n",
       "    </tr>\n",
       "    <tr>\n",
       "      <th>82399</th>\n",
       "      <td>2023-07-31</td>\n",
       "      <td>18</td>\n",
       "      <td>1</td>\n",
       "      <td>777.42</td>\n",
       "      <td>777.42</td>\n",
       "    </tr>\n",
       "    <tr>\n",
       "      <th>82400</th>\n",
       "      <td>2023-07-31</td>\n",
       "      <td>21</td>\n",
       "      <td>8</td>\n",
       "      <td>81.01</td>\n",
       "      <td>648.08</td>\n",
       "    </tr>\n",
       "    <tr>\n",
       "      <th>82401</th>\n",
       "      <td>2023-07-31</td>\n",
       "      <td>83</td>\n",
       "      <td>10</td>\n",
       "      <td>416.18</td>\n",
       "      <td>4161.80</td>\n",
       "    </tr>\n",
       "    <tr>\n",
       "      <th>82402</th>\n",
       "      <td>2023-07-31</td>\n",
       "      <td>48</td>\n",
       "      <td>7</td>\n",
       "      <td>42.60</td>\n",
       "      <td>298.20</td>\n",
       "    </tr>\n",
       "    <tr>\n",
       "      <th>82403</th>\n",
       "      <td>2023-07-31</td>\n",
       "      <td>72</td>\n",
       "      <td>3</td>\n",
       "      <td>674.73</td>\n",
       "      <td>2024.19</td>\n",
       "    </tr>\n",
       "  </tbody>\n",
       "</table>\n",
       "<p>82404 rows × 5 columns</p>\n",
       "</div>"
      ],
      "text/plain": [
       "            date  produit_id  quantite_vendue  prix_unitaire  montant_total\n",
       "0     2023-07-01          88                3         944.84        2834.52\n",
       "1     2023-07-01          82                8          66.92         535.36\n",
       "2     2023-07-01          18               10         777.42        7774.20\n",
       "3     2023-07-01          27                3         718.35        2155.05\n",
       "4     2023-07-01          80                7         238.99        1672.93\n",
       "...          ...         ...              ...            ...            ...\n",
       "82399 2023-07-31          18                1         777.42         777.42\n",
       "82400 2023-07-31          21                8          81.01         648.08\n",
       "82401 2023-07-31          83               10         416.18        4161.80\n",
       "82402 2023-07-31          48                7          42.60         298.20\n",
       "82403 2023-07-31          72                3         674.73        2024.19\n",
       "\n",
       "[82404 rows x 5 columns]"
      ]
     },
     "execution_count": 3,
     "metadata": {},
     "output_type": "execute_result"
    }
   ],
   "source": [
    "ventes_df"
   ]
  },
  {
   "cell_type": "code",
   "execution_count": 4,
   "id": "e920ce62",
   "metadata": {
    "cell_style": "split"
   },
   "outputs": [
    {
     "data": {
      "text/html": [
       "<div>\n",
       "<style scoped>\n",
       "    .dataframe tbody tr th:only-of-type {\n",
       "        vertical-align: middle;\n",
       "    }\n",
       "\n",
       "    .dataframe tbody tr th {\n",
       "        vertical-align: top;\n",
       "    }\n",
       "\n",
       "    .dataframe thead th {\n",
       "        text-align: right;\n",
       "    }\n",
       "</style>\n",
       "<table border=\"1\" class=\"dataframe\">\n",
       "  <thead>\n",
       "    <tr style=\"text-align: right;\">\n",
       "      <th></th>\n",
       "      <th>produit_id</th>\n",
       "      <th>prix_unitaire</th>\n",
       "      <th>nom</th>\n",
       "    </tr>\n",
       "  </thead>\n",
       "  <tbody>\n",
       "    <tr>\n",
       "      <th>0</th>\n",
       "      <td>1</td>\n",
       "      <td>254.18</td>\n",
       "      <td>iPhone 13</td>\n",
       "    </tr>\n",
       "    <tr>\n",
       "      <th>1</th>\n",
       "      <td>2</td>\n",
       "      <td>764.00</td>\n",
       "      <td>LG Velvet</td>\n",
       "    </tr>\n",
       "    <tr>\n",
       "      <th>2</th>\n",
       "      <td>3</td>\n",
       "      <td>253.54</td>\n",
       "      <td>OnePlus 9</td>\n",
       "    </tr>\n",
       "    <tr>\n",
       "      <th>3</th>\n",
       "      <td>4</td>\n",
       "      <td>536.09</td>\n",
       "      <td>OnePlus 9</td>\n",
       "    </tr>\n",
       "    <tr>\n",
       "      <th>4</th>\n",
       "      <td>5</td>\n",
       "      <td>848.36</td>\n",
       "      <td>LG Velvet</td>\n",
       "    </tr>\n",
       "    <tr>\n",
       "      <th>...</th>\n",
       "      <td>...</td>\n",
       "      <td>...</td>\n",
       "      <td>...</td>\n",
       "    </tr>\n",
       "    <tr>\n",
       "      <th>85</th>\n",
       "      <td>86</td>\n",
       "      <td>82.84</td>\n",
       "      <td>Suspension lumineuse</td>\n",
       "    </tr>\n",
       "    <tr>\n",
       "      <th>86</th>\n",
       "      <td>87</td>\n",
       "      <td>366.36</td>\n",
       "      <td>Miroir encadré</td>\n",
       "    </tr>\n",
       "    <tr>\n",
       "      <th>87</th>\n",
       "      <td>88</td>\n",
       "      <td>944.84</td>\n",
       "      <td>Statuette en bronze</td>\n",
       "    </tr>\n",
       "    <tr>\n",
       "      <th>88</th>\n",
       "      <td>89</td>\n",
       "      <td>805.86</td>\n",
       "      <td>Horloge murale</td>\n",
       "    </tr>\n",
       "    <tr>\n",
       "      <th>89</th>\n",
       "      <td>90</td>\n",
       "      <td>941.83</td>\n",
       "      <td>Vase en céramique</td>\n",
       "    </tr>\n",
       "  </tbody>\n",
       "</table>\n",
       "<p>90 rows × 3 columns</p>\n",
       "</div>"
      ],
      "text/plain": [
       "    produit_id  prix_unitaire                   nom\n",
       "0            1         254.18             iPhone 13\n",
       "1            2         764.00             LG Velvet\n",
       "2            3         253.54             OnePlus 9\n",
       "3            4         536.09             OnePlus 9\n",
       "4            5         848.36             LG Velvet\n",
       "..         ...            ...                   ...\n",
       "85          86          82.84  Suspension lumineuse\n",
       "86          87         366.36        Miroir encadré\n",
       "87          88         944.84   Statuette en bronze\n",
       "88          89         805.86        Horloge murale\n",
       "89          90         941.83     Vase en céramique\n",
       "\n",
       "[90 rows x 3 columns]"
      ]
     },
     "execution_count": 4,
     "metadata": {},
     "output_type": "execute_result"
    }
   ],
   "source": [
    "products"
   ]
  },
  {
   "cell_type": "markdown",
   "id": "86154aa5",
   "metadata": {},
   "source": [
    "---"
   ]
  },
  {
   "cell_type": "markdown",
   "id": "5180e416",
   "metadata": {
    "cell_style": "split"
   },
   "source": [
    "Une table avec les catégories:"
   ]
  },
  {
   "cell_type": "markdown",
   "id": "9e17d698",
   "metadata": {
    "cell_style": "split"
   },
   "source": [
    "Une table avec les univers"
   ]
  },
  {
   "cell_type": "code",
   "execution_count": 5,
   "id": "bc8b9aa6",
   "metadata": {
    "cell_style": "split"
   },
   "outputs": [
    {
     "data": {
      "text/html": [
       "<div>\n",
       "<style scoped>\n",
       "    .dataframe tbody tr th:only-of-type {\n",
       "        vertical-align: middle;\n",
       "    }\n",
       "\n",
       "    .dataframe tbody tr th {\n",
       "        vertical-align: top;\n",
       "    }\n",
       "\n",
       "    .dataframe thead th {\n",
       "        text-align: right;\n",
       "    }\n",
       "</style>\n",
       "<table border=\"1\" class=\"dataframe\">\n",
       "  <thead>\n",
       "    <tr style=\"text-align: right;\">\n",
       "      <th></th>\n",
       "      <th>categorie_id</th>\n",
       "      <th>categorie_name</th>\n",
       "      <th>produit_id</th>\n",
       "    </tr>\n",
       "  </thead>\n",
       "  <tbody>\n",
       "    <tr>\n",
       "      <th>0</th>\n",
       "      <td>1</td>\n",
       "      <td>Téléphones</td>\n",
       "      <td>1</td>\n",
       "    </tr>\n",
       "    <tr>\n",
       "      <th>1</th>\n",
       "      <td>1</td>\n",
       "      <td>Téléphones</td>\n",
       "      <td>2</td>\n",
       "    </tr>\n",
       "    <tr>\n",
       "      <th>2</th>\n",
       "      <td>1</td>\n",
       "      <td>Téléphones</td>\n",
       "      <td>3</td>\n",
       "    </tr>\n",
       "    <tr>\n",
       "      <th>3</th>\n",
       "      <td>1</td>\n",
       "      <td>Téléphones</td>\n",
       "      <td>4</td>\n",
       "    </tr>\n",
       "    <tr>\n",
       "      <th>4</th>\n",
       "      <td>1</td>\n",
       "      <td>Téléphones</td>\n",
       "      <td>5</td>\n",
       "    </tr>\n",
       "    <tr>\n",
       "      <th>...</th>\n",
       "      <td>...</td>\n",
       "      <td>...</td>\n",
       "      <td>...</td>\n",
       "    </tr>\n",
       "    <tr>\n",
       "      <th>85</th>\n",
       "      <td>6</td>\n",
       "      <td>Décoration</td>\n",
       "      <td>86</td>\n",
       "    </tr>\n",
       "    <tr>\n",
       "      <th>86</th>\n",
       "      <td>6</td>\n",
       "      <td>Décoration</td>\n",
       "      <td>87</td>\n",
       "    </tr>\n",
       "    <tr>\n",
       "      <th>87</th>\n",
       "      <td>6</td>\n",
       "      <td>Décoration</td>\n",
       "      <td>88</td>\n",
       "    </tr>\n",
       "    <tr>\n",
       "      <th>88</th>\n",
       "      <td>6</td>\n",
       "      <td>Décoration</td>\n",
       "      <td>89</td>\n",
       "    </tr>\n",
       "    <tr>\n",
       "      <th>89</th>\n",
       "      <td>6</td>\n",
       "      <td>Décoration</td>\n",
       "      <td>90</td>\n",
       "    </tr>\n",
       "  </tbody>\n",
       "</table>\n",
       "<p>90 rows × 3 columns</p>\n",
       "</div>"
      ],
      "text/plain": [
       "    categorie_id categorie_name  produit_id\n",
       "0              1     Téléphones           1\n",
       "1              1     Téléphones           2\n",
       "2              1     Téléphones           3\n",
       "3              1     Téléphones           4\n",
       "4              1     Téléphones           5\n",
       "..           ...            ...         ...\n",
       "85             6     Décoration          86\n",
       "86             6     Décoration          87\n",
       "87             6     Décoration          88\n",
       "88             6     Décoration          89\n",
       "89             6     Décoration          90\n",
       "\n",
       "[90 rows x 3 columns]"
      ]
     },
     "execution_count": 5,
     "metadata": {},
     "output_type": "execute_result"
    }
   ],
   "source": [
    "categorie_produit"
   ]
  },
  {
   "cell_type": "code",
   "execution_count": 6,
   "id": "870cb20c",
   "metadata": {
    "cell_style": "split"
   },
   "outputs": [
    {
     "data": {
      "text/html": [
       "<div>\n",
       "<style scoped>\n",
       "    .dataframe tbody tr th:only-of-type {\n",
       "        vertical-align: middle;\n",
       "    }\n",
       "\n",
       "    .dataframe tbody tr th {\n",
       "        vertical-align: top;\n",
       "    }\n",
       "\n",
       "    .dataframe thead th {\n",
       "        text-align: right;\n",
       "    }\n",
       "</style>\n",
       "<table border=\"1\" class=\"dataframe\">\n",
       "  <thead>\n",
       "    <tr style=\"text-align: right;\">\n",
       "      <th></th>\n",
       "      <th>univers_id</th>\n",
       "      <th>univers_name</th>\n",
       "      <th>categorie_id</th>\n",
       "    </tr>\n",
       "  </thead>\n",
       "  <tbody>\n",
       "    <tr>\n",
       "      <th>0</th>\n",
       "      <td>0</td>\n",
       "      <td>Électronique</td>\n",
       "      <td>1</td>\n",
       "    </tr>\n",
       "    <tr>\n",
       "      <th>15</th>\n",
       "      <td>0</td>\n",
       "      <td>Électronique</td>\n",
       "      <td>2</td>\n",
       "    </tr>\n",
       "    <tr>\n",
       "      <th>30</th>\n",
       "      <td>1</td>\n",
       "      <td>Mode</td>\n",
       "      <td>3</td>\n",
       "    </tr>\n",
       "    <tr>\n",
       "      <th>45</th>\n",
       "      <td>1</td>\n",
       "      <td>Mode</td>\n",
       "      <td>4</td>\n",
       "    </tr>\n",
       "    <tr>\n",
       "      <th>60</th>\n",
       "      <td>2</td>\n",
       "      <td>Maison</td>\n",
       "      <td>5</td>\n",
       "    </tr>\n",
       "    <tr>\n",
       "      <th>75</th>\n",
       "      <td>2</td>\n",
       "      <td>Maison</td>\n",
       "      <td>6</td>\n",
       "    </tr>\n",
       "  </tbody>\n",
       "</table>\n",
       "</div>"
      ],
      "text/plain": [
       "    univers_id  univers_name  categorie_id\n",
       "0            0  Électronique             1\n",
       "15           0  Électronique             2\n",
       "30           1          Mode             3\n",
       "45           1          Mode             4\n",
       "60           2        Maison             5\n",
       "75           2        Maison             6"
      ]
     },
     "execution_count": 6,
     "metadata": {},
     "output_type": "execute_result"
    }
   ],
   "source": [
    "univers_categorie"
   ]
  },
  {
   "cell_type": "markdown",
   "id": "0212fd20",
   "metadata": {},
   "source": [
    "<br />\n",
    "<br />\n",
    "<br />\n",
    "<br /><br />"
   ]
  },
  {
   "cell_type": "markdown",
   "id": "2e537d64",
   "metadata": {},
   "source": [
    "<img src=\"images/our_whole_universe_was_in_a_hot_dense_state.gif\" />"
   ]
  },
  {
   "cell_type": "markdown",
   "id": "cfb0ebbc",
   "metadata": {},
   "source": [
    "<br /><br /><br /><br /><br /><br />"
   ]
  },
  {
   "cell_type": "markdown",
   "id": "c3240933",
   "metadata": {},
   "source": [
    "## Exercice: savoir à quel univers correspond chaque vente\n",
    "(plus tard, cette jointure servira à savoir quels sont les univers qui rapportent le plus...)"
   ]
  },
  {
   "cell_type": "code",
   "execution_count": 2,
   "id": "5598f3e5",
   "metadata": {},
   "outputs": [
    {
     "ename": "NameError",
     "evalue": "name 'ventes_df' is not defined",
     "output_type": "error",
     "traceback": [
      "\u001b[1;31m---------------------------------------------------------------------------\u001b[0m",
      "\u001b[1;31mNameError\u001b[0m                                 Traceback (most recent call last)",
      "Cell \u001b[1;32mIn[2], line 3\u001b[0m\n\u001b[0;32m      1\u001b[0m \u001b[38;5;66;03m# %load solutions/exercice_retail.py\u001b[39;00m\n\u001b[0;32m      2\u001b[0m (\n\u001b[1;32m----> 3\u001b[0m     \u001b[43mventes_df\u001b[49m\n\u001b[0;32m      4\u001b[0m     \u001b[38;5;241m.\u001b[39mmerge(categorie_produit, on\u001b[38;5;241m=\u001b[39m\u001b[38;5;124m\"\u001b[39m\u001b[38;5;124mproduit_id\u001b[39m\u001b[38;5;124m\"\u001b[39m, how\u001b[38;5;241m=\u001b[39m\u001b[38;5;124m\"\u001b[39m\u001b[38;5;124minner\u001b[39m\u001b[38;5;124m\"\u001b[39m)\n\u001b[0;32m      5\u001b[0m     \u001b[38;5;241m.\u001b[39mmerge(univers_categorie, on\u001b[38;5;241m=\u001b[39m\u001b[38;5;124m\"\u001b[39m\u001b[38;5;124mcategorie_id\u001b[39m\u001b[38;5;124m\"\u001b[39m, how\u001b[38;5;241m=\u001b[39m\u001b[38;5;124m\"\u001b[39m\u001b[38;5;124minner\u001b[39m\u001b[38;5;124m\"\u001b[39m)\n\u001b[0;32m      6\u001b[0m )\n",
      "\u001b[1;31mNameError\u001b[0m: name 'ventes_df' is not defined"
     ]
    }
   ],
   "source": [
    "# %load solutions/exercice_retail.py\n",
    "(\n",
    "    ventes_df\n",
    "    .merge(categorie_produit, on=\"produit_id\", how=\"inner\")\n",
    "    .merge(univers_categorie, on=\"categorie_id\", how=\"inner\")\n",
    ")\n"
   ]
  },
  {
   "cell_type": "code",
   "execution_count": null,
   "id": "2cf8ee02",
   "metadata": {},
   "outputs": [],
   "source": []
  }
 ],
 "metadata": {
  "kernelspec": {
   "display_name": "Python 3 (ipykernel)",
   "language": "python",
   "name": "python3"
  },
  "language_info": {
   "codemirror_mode": {
    "name": "ipython",
    "version": 3
   },
   "file_extension": ".py",
   "mimetype": "text/x-python",
   "name": "python",
   "nbconvert_exporter": "python",
   "pygments_lexer": "ipython3",
   "version": "3.9.13"
  }
 },
 "nbformat": 4,
 "nbformat_minor": 5
}
