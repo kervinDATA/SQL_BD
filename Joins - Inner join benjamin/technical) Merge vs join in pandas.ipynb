{
 "cells": [
  {
   "cell_type": "markdown",
   "id": "90d809e4",
   "metadata": {},
   "source": [
    "# Merge vs Join in Pandas"
   ]
  },
  {
   "cell_type": "markdown",
   "id": "6a7104b9",
   "metadata": {},
   "source": [
    "## data"
   ]
  },
  {
   "cell_type": "code",
   "execution_count": 1,
   "id": "bba1f9ed",
   "metadata": {},
   "outputs": [],
   "source": [
    "import pandas as pd\n",
    "import io\n",
    "\n",
    "csv = '''\n",
    "salary,employee_id\n",
    "2000,2\n",
    "2500,3\n",
    "2200,4\n",
    "'''\n",
    "\n",
    "csv2 = '''\n",
    "employee_id,seniority\n",
    "1,0ans\n",
    "2,2ans\n",
    "3,4ans\n",
    "'''\n",
    "\n",
    "\n",
    "salaries = pd.read_csv(io.StringIO(csv))\n",
    "seniorities = pd.read_csv(io.StringIO(csv2))"
   ]
  },
  {
   "cell_type": "code",
   "execution_count": 2,
   "id": "b984121b",
   "metadata": {
    "cell_style": "split"
   },
   "outputs": [
    {
     "data": {
      "text/html": [
       "<div>\n",
       "<style scoped>\n",
       "    .dataframe tbody tr th:only-of-type {\n",
       "        vertical-align: middle;\n",
       "    }\n",
       "\n",
       "    .dataframe tbody tr th {\n",
       "        vertical-align: top;\n",
       "    }\n",
       "\n",
       "    .dataframe thead th {\n",
       "        text-align: right;\n",
       "    }\n",
       "</style>\n",
       "<table border=\"1\" class=\"dataframe\">\n",
       "  <thead>\n",
       "    <tr style=\"text-align: right;\">\n",
       "      <th></th>\n",
       "      <th>salary</th>\n",
       "      <th>employee_id</th>\n",
       "    </tr>\n",
       "  </thead>\n",
       "  <tbody>\n",
       "    <tr>\n",
       "      <th>0</th>\n",
       "      <td>2000</td>\n",
       "      <td>2</td>\n",
       "    </tr>\n",
       "    <tr>\n",
       "      <th>1</th>\n",
       "      <td>2500</td>\n",
       "      <td>3</td>\n",
       "    </tr>\n",
       "    <tr>\n",
       "      <th>2</th>\n",
       "      <td>2200</td>\n",
       "      <td>4</td>\n",
       "    </tr>\n",
       "  </tbody>\n",
       "</table>\n",
       "</div>"
      ],
      "text/plain": [
       "   salary  employee_id\n",
       "0    2000            2\n",
       "1    2500            3\n",
       "2    2200            4"
      ]
     },
     "execution_count": 2,
     "metadata": {},
     "output_type": "execute_result"
    }
   ],
   "source": [
    "salaries"
   ]
  },
  {
   "cell_type": "code",
   "execution_count": 3,
   "id": "36a1dd2b",
   "metadata": {
    "cell_style": "split"
   },
   "outputs": [
    {
     "data": {
      "text/html": [
       "<div>\n",
       "<style scoped>\n",
       "    .dataframe tbody tr th:only-of-type {\n",
       "        vertical-align: middle;\n",
       "    }\n",
       "\n",
       "    .dataframe tbody tr th {\n",
       "        vertical-align: top;\n",
       "    }\n",
       "\n",
       "    .dataframe thead th {\n",
       "        text-align: right;\n",
       "    }\n",
       "</style>\n",
       "<table border=\"1\" class=\"dataframe\">\n",
       "  <thead>\n",
       "    <tr style=\"text-align: right;\">\n",
       "      <th></th>\n",
       "      <th>employee_id</th>\n",
       "      <th>seniority</th>\n",
       "    </tr>\n",
       "  </thead>\n",
       "  <tbody>\n",
       "    <tr>\n",
       "      <th>0</th>\n",
       "      <td>1</td>\n",
       "      <td>0ans</td>\n",
       "    </tr>\n",
       "    <tr>\n",
       "      <th>1</th>\n",
       "      <td>2</td>\n",
       "      <td>2ans</td>\n",
       "    </tr>\n",
       "    <tr>\n",
       "      <th>2</th>\n",
       "      <td>3</td>\n",
       "      <td>4ans</td>\n",
       "    </tr>\n",
       "  </tbody>\n",
       "</table>\n",
       "</div>"
      ],
      "text/plain": [
       "   employee_id seniority\n",
       "0            1      0ans\n",
       "1            2      2ans\n",
       "2            3      4ans"
      ]
     },
     "execution_count": 3,
     "metadata": {},
     "output_type": "execute_result"
    }
   ],
   "source": [
    "seniorities"
   ]
  },
  {
   "cell_type": "markdown",
   "id": "28a6db40",
   "metadata": {},
   "source": [
    "## test join:"
   ]
  },
  {
   "cell_type": "code",
   "execution_count": 4,
   "id": "0e6616f3",
   "metadata": {},
   "outputs": [
    {
     "data": {
      "text/html": [
       "<div>\n",
       "<style scoped>\n",
       "    .dataframe tbody tr th:only-of-type {\n",
       "        vertical-align: middle;\n",
       "    }\n",
       "\n",
       "    .dataframe tbody tr th {\n",
       "        vertical-align: top;\n",
       "    }\n",
       "\n",
       "    .dataframe thead th {\n",
       "        text-align: right;\n",
       "    }\n",
       "</style>\n",
       "<table border=\"1\" class=\"dataframe\">\n",
       "  <thead>\n",
       "    <tr style=\"text-align: right;\">\n",
       "      <th></th>\n",
       "      <th>salary</th>\n",
       "      <th>employee_id_</th>\n",
       "      <th>employee_id</th>\n",
       "      <th>seniority</th>\n",
       "    </tr>\n",
       "  </thead>\n",
       "  <tbody>\n",
       "    <tr>\n",
       "      <th>0</th>\n",
       "      <td>2000</td>\n",
       "      <td>2</td>\n",
       "      <td>3</td>\n",
       "      <td>4ans</td>\n",
       "    </tr>\n",
       "  </tbody>\n",
       "</table>\n",
       "</div>"
      ],
      "text/plain": [
       "   salary  employee_id_  employee_id seniority\n",
       "0    2000             2            3      4ans"
      ]
     },
     "execution_count": 4,
     "metadata": {},
     "output_type": "execute_result"
    }
   ],
   "source": [
    "salaries.join(seniorities,\n",
    "              on=\"employee_id\",\n",
    "              how=\"inner\",\n",
    "              lsuffix=\"_\")  # sans lsuffix, la méthode va fail"
   ]
  },
  {
   "cell_type": "markdown",
   "id": "0d969bba",
   "metadata": {},
   "source": [
    "Mais pourquoi on obtient un résultat aberrant comme celui-ci ?"
   ]
  },
  {
   "cell_type": "markdown",
   "id": "7dbca6df",
   "metadata": {},
   "source": [
    "On lui demande d'utiliser la colonne employee_id. Donc pandas va chercher dans la table seniorities\n",
    "des valeurs pour 2-3-4:"
   ]
  },
  {
   "cell_type": "code",
   "execution_count": 5,
   "id": "9ecf06b0",
   "metadata": {
    "scrolled": false
   },
   "outputs": [
    {
     "data": {
      "text/html": [
       "<div>\n",
       "<style scoped>\n",
       "    .dataframe tbody tr th:only-of-type {\n",
       "        vertical-align: middle;\n",
       "    }\n",
       "\n",
       "    .dataframe tbody tr th {\n",
       "        vertical-align: top;\n",
       "    }\n",
       "\n",
       "    .dataframe thead th {\n",
       "        text-align: right;\n",
       "    }\n",
       "</style>\n",
       "<table border=\"1\" class=\"dataframe\">\n",
       "  <thead>\n",
       "    <tr style=\"text-align: right;\">\n",
       "      <th></th>\n",
       "      <th>salary</th>\n",
       "      <th>employee_id</th>\n",
       "    </tr>\n",
       "  </thead>\n",
       "  <tbody>\n",
       "    <tr>\n",
       "      <th>0</th>\n",
       "      <td>2000</td>\n",
       "      <td>2</td>\n",
       "    </tr>\n",
       "    <tr>\n",
       "      <th>1</th>\n",
       "      <td>2500</td>\n",
       "      <td>3</td>\n",
       "    </tr>\n",
       "    <tr>\n",
       "      <th>2</th>\n",
       "      <td>2200</td>\n",
       "      <td>4</td>\n",
       "    </tr>\n",
       "  </tbody>\n",
       "</table>\n",
       "</div>"
      ],
      "text/plain": [
       "   salary  employee_id\n",
       "0    2000            2\n",
       "1    2500            3\n",
       "2    2200            4"
      ]
     },
     "execution_count": 5,
     "metadata": {},
     "output_type": "execute_result"
    }
   ],
   "source": [
    "salaries"
   ]
  },
  {
   "cell_type": "markdown",
   "id": "ac7b708b",
   "metadata": {},
   "source": [
    "Mais il ne va pas les chercher dans la colonne employee_id de seniorities, il va les chercher dans l'index !\n",
    "\n",
    "Or, l'index (les chiffres sur la gauche de la dataframe) de seniorities s'arrête à 2!"
   ]
  },
  {
   "cell_type": "code",
   "execution_count": 6,
   "id": "1a999c50",
   "metadata": {},
   "outputs": [
    {
     "data": {
      "text/html": [
       "<div>\n",
       "<style scoped>\n",
       "    .dataframe tbody tr th:only-of-type {\n",
       "        vertical-align: middle;\n",
       "    }\n",
       "\n",
       "    .dataframe tbody tr th {\n",
       "        vertical-align: top;\n",
       "    }\n",
       "\n",
       "    .dataframe thead th {\n",
       "        text-align: right;\n",
       "    }\n",
       "</style>\n",
       "<table border=\"1\" class=\"dataframe\">\n",
       "  <thead>\n",
       "    <tr style=\"text-align: right;\">\n",
       "      <th></th>\n",
       "      <th>employee_id</th>\n",
       "      <th>seniority</th>\n",
       "    </tr>\n",
       "  </thead>\n",
       "  <tbody>\n",
       "    <tr>\n",
       "      <th>0</th>\n",
       "      <td>1</td>\n",
       "      <td>0ans</td>\n",
       "    </tr>\n",
       "    <tr>\n",
       "      <th>1</th>\n",
       "      <td>2</td>\n",
       "      <td>2ans</td>\n",
       "    </tr>\n",
       "    <tr>\n",
       "      <th>2</th>\n",
       "      <td>3</td>\n",
       "      <td>4ans</td>\n",
       "    </tr>\n",
       "    <tr>\n",
       "      <th>4</th>\n",
       "      <td>who cares ?</td>\n",
       "      <td>doesn't matter</td>\n",
       "    </tr>\n",
       "  </tbody>\n",
       "</table>\n",
       "</div>"
      ],
      "text/plain": [
       "   employee_id       seniority\n",
       "0            1            0ans\n",
       "1            2            2ans\n",
       "2            3            4ans\n",
       "4  who cares ?  doesn't matter"
      ]
     },
     "execution_count": 6,
     "metadata": {},
     "output_type": "execute_result"
    }
   ],
   "source": [
    "new_row = pd.DataFrame(\n",
    "    {\"employee_id\": \"who cares ?\",\n",
    "     \"seniority\": \"doesn't matter\"},\n",
    "    index=[4]  # on rajoute une ligne qui contient un index 4 pour matcher avec l'employee_id=4 de la table salaries\n",
    ")\n",
    "seniorities_four_lines = pd.concat([seniorities, new_row])\n",
    "seniorities_four_lines"
   ]
  },
  {
   "cell_type": "code",
   "execution_count": 7,
   "id": "cda5b086",
   "metadata": {
    "cell_style": "split"
   },
   "outputs": [
    {
     "data": {
      "text/html": [
       "<div>\n",
       "<style scoped>\n",
       "    .dataframe tbody tr th:only-of-type {\n",
       "        vertical-align: middle;\n",
       "    }\n",
       "\n",
       "    .dataframe tbody tr th {\n",
       "        vertical-align: top;\n",
       "    }\n",
       "\n",
       "    .dataframe thead th {\n",
       "        text-align: right;\n",
       "    }\n",
       "</style>\n",
       "<table border=\"1\" class=\"dataframe\">\n",
       "  <thead>\n",
       "    <tr style=\"text-align: right;\">\n",
       "      <th></th>\n",
       "      <th>salary</th>\n",
       "      <th>employee_id_</th>\n",
       "      <th>employee_id</th>\n",
       "      <th>seniority</th>\n",
       "    </tr>\n",
       "  </thead>\n",
       "  <tbody>\n",
       "    <tr>\n",
       "      <th>0</th>\n",
       "      <td>2000</td>\n",
       "      <td>2</td>\n",
       "      <td>3</td>\n",
       "      <td>4ans</td>\n",
       "    </tr>\n",
       "    <tr>\n",
       "      <th>2</th>\n",
       "      <td>2200</td>\n",
       "      <td>4</td>\n",
       "      <td>who cares ?</td>\n",
       "      <td>doesn't matter</td>\n",
       "    </tr>\n",
       "  </tbody>\n",
       "</table>\n",
       "</div>"
      ],
      "text/plain": [
       "   salary  employee_id_  employee_id       seniority\n",
       "0    2000             2            3            4ans\n",
       "2    2200             4  who cares ?  doesn't matter"
      ]
     },
     "execution_count": 7,
     "metadata": {},
     "output_type": "execute_result"
    }
   ],
   "source": [
    "salaries.join(\n",
    "    seniorities_four_lines,\n",
    "    on=\"employee_id\",\n",
    "    how=\"inner\",\n",
    "    lsuffix=\"_\",\n",
    ")  "
   ]
  },
  {
   "cell_type": "markdown",
   "id": "e037fc1c",
   "metadata": {
    "cell_style": "split"
   },
   "source": [
    "<br />\n",
    "\n",
    "<br />\n",
    "<br />\n",
    "\n",
    "Conclusion: la méthode .join() utilise les index pour faire les jointures.\n"
   ]
  },
  {
   "cell_type": "markdown",
   "id": "38c8d159",
   "metadata": {},
   "source": [
    "## Joindre sur une colonne en utilisant .join()"
   ]
  },
  {
   "cell_type": "markdown",
   "id": "3f772303",
   "metadata": {},
   "source": [
    "\n",
    "\n",
    "Si on veut joindre sur une colonne, il faut mettre celle-ci en index:"
   ]
  },
  {
   "cell_type": "code",
   "execution_count": 8,
   "id": "1cd7676f",
   "metadata": {
    "cell_style": "split"
   },
   "outputs": [
    {
     "data": {
      "text/html": [
       "<div>\n",
       "<style scoped>\n",
       "    .dataframe tbody tr th:only-of-type {\n",
       "        vertical-align: middle;\n",
       "    }\n",
       "\n",
       "    .dataframe tbody tr th {\n",
       "        vertical-align: top;\n",
       "    }\n",
       "\n",
       "    .dataframe thead th {\n",
       "        text-align: right;\n",
       "    }\n",
       "</style>\n",
       "<table border=\"1\" class=\"dataframe\">\n",
       "  <thead>\n",
       "    <tr style=\"text-align: right;\">\n",
       "      <th></th>\n",
       "      <th>seniority</th>\n",
       "    </tr>\n",
       "    <tr>\n",
       "      <th>employee_id</th>\n",
       "      <th></th>\n",
       "    </tr>\n",
       "  </thead>\n",
       "  <tbody>\n",
       "    <tr>\n",
       "      <th>1</th>\n",
       "      <td>0ans</td>\n",
       "    </tr>\n",
       "    <tr>\n",
       "      <th>2</th>\n",
       "      <td>2ans</td>\n",
       "    </tr>\n",
       "    <tr>\n",
       "      <th>3</th>\n",
       "      <td>4ans</td>\n",
       "    </tr>\n",
       "  </tbody>\n",
       "</table>\n",
       "</div>"
      ],
      "text/plain": [
       "            seniority\n",
       "employee_id          \n",
       "1                0ans\n",
       "2                2ans\n",
       "3                4ans"
      ]
     },
     "execution_count": 8,
     "metadata": {},
     "output_type": "execute_result"
    }
   ],
   "source": [
    "seniorities_idx = seniorities.set_index(\"employee_id\")\n",
    "seniorities_idx"
   ]
  },
  {
   "cell_type": "code",
   "execution_count": 9,
   "id": "556e5a45",
   "metadata": {
    "cell_style": "split",
    "scrolled": false
   },
   "outputs": [
    {
     "data": {
      "text/html": [
       "<div>\n",
       "<style scoped>\n",
       "    .dataframe tbody tr th:only-of-type {\n",
       "        vertical-align: middle;\n",
       "    }\n",
       "\n",
       "    .dataframe tbody tr th {\n",
       "        vertical-align: top;\n",
       "    }\n",
       "\n",
       "    .dataframe thead th {\n",
       "        text-align: right;\n",
       "    }\n",
       "</style>\n",
       "<table border=\"1\" class=\"dataframe\">\n",
       "  <thead>\n",
       "    <tr style=\"text-align: right;\">\n",
       "      <th></th>\n",
       "      <th>salary</th>\n",
       "    </tr>\n",
       "    <tr>\n",
       "      <th>employee_id</th>\n",
       "      <th></th>\n",
       "    </tr>\n",
       "  </thead>\n",
       "  <tbody>\n",
       "    <tr>\n",
       "      <th>2</th>\n",
       "      <td>2000</td>\n",
       "    </tr>\n",
       "    <tr>\n",
       "      <th>3</th>\n",
       "      <td>2500</td>\n",
       "    </tr>\n",
       "    <tr>\n",
       "      <th>4</th>\n",
       "      <td>2200</td>\n",
       "    </tr>\n",
       "  </tbody>\n",
       "</table>\n",
       "</div>"
      ],
      "text/plain": [
       "             salary\n",
       "employee_id        \n",
       "2              2000\n",
       "3              2500\n",
       "4              2200"
      ]
     },
     "execution_count": 9,
     "metadata": {},
     "output_type": "execute_result"
    }
   ],
   "source": [
    "salaries_idx = salaries.set_index(\"employee_id\")\n",
    "salaries_idx"
   ]
  },
  {
   "cell_type": "code",
   "execution_count": 10,
   "id": "53c78832",
   "metadata": {},
   "outputs": [
    {
     "data": {
      "text/html": [
       "<div>\n",
       "<style scoped>\n",
       "    .dataframe tbody tr th:only-of-type {\n",
       "        vertical-align: middle;\n",
       "    }\n",
       "\n",
       "    .dataframe tbody tr th {\n",
       "        vertical-align: top;\n",
       "    }\n",
       "\n",
       "    .dataframe thead th {\n",
       "        text-align: right;\n",
       "    }\n",
       "</style>\n",
       "<table border=\"1\" class=\"dataframe\">\n",
       "  <thead>\n",
       "    <tr style=\"text-align: right;\">\n",
       "      <th></th>\n",
       "      <th>seniority</th>\n",
       "      <th>salary</th>\n",
       "    </tr>\n",
       "    <tr>\n",
       "      <th>employee_id</th>\n",
       "      <th></th>\n",
       "      <th></th>\n",
       "    </tr>\n",
       "  </thead>\n",
       "  <tbody>\n",
       "    <tr>\n",
       "      <th>2</th>\n",
       "      <td>2ans</td>\n",
       "      <td>2000</td>\n",
       "    </tr>\n",
       "    <tr>\n",
       "      <th>3</th>\n",
       "      <td>4ans</td>\n",
       "      <td>2500</td>\n",
       "    </tr>\n",
       "  </tbody>\n",
       "</table>\n",
       "</div>"
      ],
      "text/plain": [
       "            seniority  salary\n",
       "employee_id                  \n",
       "2                2ans    2000\n",
       "3                4ans    2500"
      ]
     },
     "execution_count": 10,
     "metadata": {},
     "output_type": "execute_result"
    }
   ],
   "source": [
    "seniorities_idx.join(salaries_idx, how=\"inner\")"
   ]
  },
  {
   "cell_type": "markdown",
   "id": "7862c6d0",
   "metadata": {},
   "source": [
    "## Joindre sur une colonne en utilisant merge"
   ]
  },
  {
   "cell_type": "markdown",
   "id": "57e13d7d",
   "metadata": {},
   "source": [
    "<img src=\"images/merge_chandler.gif\" />"
   ]
  },
  {
   "cell_type": "markdown",
   "id": "c6f057e2",
   "metadata": {},
   "source": [
    "Documentation pandas pour .merge(): \n",
    "\n",
    "<blockquote>Merge DataFrame or named Series objects with a <i>database-style <b><u>join</u></b></i>. </blockquote>"
   ]
  },
  {
   "cell_type": "code",
   "execution_count": 11,
   "id": "10e92ae0",
   "metadata": {},
   "outputs": [
    {
     "data": {
      "text/html": [
       "<div>\n",
       "<style scoped>\n",
       "    .dataframe tbody tr th:only-of-type {\n",
       "        vertical-align: middle;\n",
       "    }\n",
       "\n",
       "    .dataframe tbody tr th {\n",
       "        vertical-align: top;\n",
       "    }\n",
       "\n",
       "    .dataframe thead th {\n",
       "        text-align: right;\n",
       "    }\n",
       "</style>\n",
       "<table border=\"1\" class=\"dataframe\">\n",
       "  <thead>\n",
       "    <tr style=\"text-align: right;\">\n",
       "      <th></th>\n",
       "      <th>salary</th>\n",
       "      <th>employee_id</th>\n",
       "      <th>seniority</th>\n",
       "    </tr>\n",
       "  </thead>\n",
       "  <tbody>\n",
       "    <tr>\n",
       "      <th>0</th>\n",
       "      <td>2000</td>\n",
       "      <td>2</td>\n",
       "      <td>2ans</td>\n",
       "    </tr>\n",
       "    <tr>\n",
       "      <th>1</th>\n",
       "      <td>2500</td>\n",
       "      <td>3</td>\n",
       "      <td>4ans</td>\n",
       "    </tr>\n",
       "  </tbody>\n",
       "</table>\n",
       "</div>"
      ],
      "text/plain": [
       "   salary  employee_id seniority\n",
       "0    2000            2      2ans\n",
       "1    2500            3      4ans"
      ]
     },
     "execution_count": 11,
     "metadata": {},
     "output_type": "execute_result"
    }
   ],
   "source": [
    "salaries.merge(seniorities, on=\"employee_id\", how=\"inner\")"
   ]
  },
  {
   "cell_type": "markdown",
   "id": "98621956",
   "metadata": {},
   "source": [
    "Pourquoi ils ont pas décidé de mettre le \"database-style join\" dans .join() plutôt que dans .merge() ? \n",
    "\n",
    "Honnêtement aucune idée; Personnellement je trouve que c'est un défaut d'API qui fait buguer les débutants. Mais bon, c'est comme ça donc il faut le savoir ;)"
   ]
  },
  {
   "cell_type": "markdown",
   "id": "2a919403",
   "metadata": {},
   "source": [
    "Conclusion: merge permet de joindre en utilisant une colonne, join demande à ce que la \"colonne\" utilisée pour joindre soit l'index. L'immense majorité du temps, j'utilise merge parce que c'est plus intuitif pour moi."
   ]
  },
  {
   "cell_type": "code",
   "execution_count": null,
   "id": "e4d0b267",
   "metadata": {},
   "outputs": [],
   "source": []
  }
 ],
 "metadata": {
  "kernelspec": {
   "display_name": "Python 3 (ipykernel)",
   "language": "python",
   "name": "python3"
  },
  "language_info": {
   "codemirror_mode": {
    "name": "ipython",
    "version": 3
   },
   "file_extension": ".py",
   "mimetype": "text/x-python",
   "name": "python",
   "nbconvert_exporter": "python",
   "pygments_lexer": "ipython3",
   "version": "3.9.13"
  }
 },
 "nbformat": 4,
 "nbformat_minor": 5
}
