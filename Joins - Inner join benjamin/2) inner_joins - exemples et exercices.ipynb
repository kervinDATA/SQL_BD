{
 "cells": [
  {
   "cell_type": "markdown",
   "id": "d784b649",
   "metadata": {},
   "source": [
    "# Inner join - exemples"
   ]
  },
  {
   "cell_type": "markdown",
   "id": "a6c6b8ce",
   "metadata": {},
   "source": [
    "Dans le notebook précédent, on a bâti autour de l'intuition qu'un inner join peut-être conceptualisé comme un cross join avec un where.\n",
    "\n",
    "Maintenant, on va passer à la pratique pour progresser sur la syntaxe"
   ]
  },
  {
   "cell_type": "code",
   "execution_count": 1,
   "id": "1e4475bd",
   "metadata": {},
   "outputs": [],
   "source": [
    "import pandas as pd\n",
    "import duckdb\n",
    "import io"
   ]
  },
  {
   "cell_type": "markdown",
   "id": "83aedac0",
   "metadata": {},
   "source": [
    "## Data"
   ]
  },
  {
   "cell_type": "code",
   "execution_count": 2,
   "id": "f3d3a9bd",
   "metadata": {
    "cell_style": "split"
   },
   "outputs": [
    {
     "data": {
      "text/html": [
       "<div>\n",
       "<style scoped>\n",
       "    .dataframe tbody tr th:only-of-type {\n",
       "        vertical-align: middle;\n",
       "    }\n",
       "\n",
       "    .dataframe tbody tr th {\n",
       "        vertical-align: top;\n",
       "    }\n",
       "\n",
       "    .dataframe thead th {\n",
       "        text-align: right;\n",
       "    }\n",
       "</style>\n",
       "<table border=\"1\" class=\"dataframe\">\n",
       "  <thead>\n",
       "    <tr style=\"text-align: right;\">\n",
       "      <th></th>\n",
       "      <th>order_id</th>\n",
       "      <th>customer_id</th>\n",
       "    </tr>\n",
       "  </thead>\n",
       "  <tbody>\n",
       "    <tr>\n",
       "      <th>0</th>\n",
       "      <td>1</td>\n",
       "      <td>101</td>\n",
       "    </tr>\n",
       "    <tr>\n",
       "      <th>1</th>\n",
       "      <td>2</td>\n",
       "      <td>102</td>\n",
       "    </tr>\n",
       "    <tr>\n",
       "      <th>2</th>\n",
       "      <td>3</td>\n",
       "      <td>103</td>\n",
       "    </tr>\n",
       "    <tr>\n",
       "      <th>3</th>\n",
       "      <td>4</td>\n",
       "      <td>104</td>\n",
       "    </tr>\n",
       "    <tr>\n",
       "      <th>4</th>\n",
       "      <td>5</td>\n",
       "      <td>105</td>\n",
       "    </tr>\n",
       "  </tbody>\n",
       "</table>\n",
       "</div>"
      ],
      "text/plain": [
       "   order_id  customer_id\n",
       "0         1          101\n",
       "1         2          102\n",
       "2         3          103\n",
       "3         4          104\n",
       "4         5          105"
      ]
     },
     "execution_count": 2,
     "metadata": {},
     "output_type": "execute_result"
    }
   ],
   "source": [
    "# Table des commandes:\n",
    "orders_data = {\n",
    "    'order_id': [1, 2, 3, 4, 5],\n",
    "    'customer_id': [101, 102, 103, 104, 105]\n",
    "}\n",
    "\n",
    "df_orders = pd.DataFrame(orders_data)\n",
    "df_orders"
   ]
  },
  {
   "cell_type": "code",
   "execution_count": 3,
   "id": "5b1ca57a",
   "metadata": {
    "cell_style": "split"
   },
   "outputs": [
    {
     "data": {
      "text/html": [
       "<div>\n",
       "<style scoped>\n",
       "    .dataframe tbody tr th:only-of-type {\n",
       "        vertical-align: middle;\n",
       "    }\n",
       "\n",
       "    .dataframe tbody tr th {\n",
       "        vertical-align: top;\n",
       "    }\n",
       "\n",
       "    .dataframe thead th {\n",
       "        text-align: right;\n",
       "    }\n",
       "</style>\n",
       "<table border=\"1\" class=\"dataframe\">\n",
       "  <thead>\n",
       "    <tr style=\"text-align: right;\">\n",
       "      <th></th>\n",
       "      <th>customer_id</th>\n",
       "      <th>customer_name</th>\n",
       "    </tr>\n",
       "  </thead>\n",
       "  <tbody>\n",
       "    <tr>\n",
       "      <th>0</th>\n",
       "      <td>101</td>\n",
       "      <td>Toufik</td>\n",
       "    </tr>\n",
       "    <tr>\n",
       "      <th>1</th>\n",
       "      <td>102</td>\n",
       "      <td>Daniel</td>\n",
       "    </tr>\n",
       "    <tr>\n",
       "      <th>2</th>\n",
       "      <td>103</td>\n",
       "      <td>Tancrède</td>\n",
       "    </tr>\n",
       "    <tr>\n",
       "      <th>3</th>\n",
       "      <td>104</td>\n",
       "      <td>Kaouter</td>\n",
       "    </tr>\n",
       "    <tr>\n",
       "      <th>4</th>\n",
       "      <td>105</td>\n",
       "      <td>Jean-Nicolas</td>\n",
       "    </tr>\n",
       "    <tr>\n",
       "      <th>5</th>\n",
       "      <td>106</td>\n",
       "      <td>David</td>\n",
       "    </tr>\n",
       "  </tbody>\n",
       "</table>\n",
       "</div>"
      ],
      "text/plain": [
       "   customer_id customer_name\n",
       "0          101        Toufik\n",
       "1          102        Daniel\n",
       "2          103      Tancrède\n",
       "3          104       Kaouter\n",
       "4          105  Jean-Nicolas\n",
       "5          106         David"
      ]
     },
     "execution_count": 3,
     "metadata": {},
     "output_type": "execute_result"
    }
   ],
   "source": [
    "# Table des clients\n",
    "customers_data = {\n",
    "    'customer_id': [101, 102, 103, 104, 105, 106],\n",
    "    'customer_name': [\"Toufik\", \"Daniel\", \"Tancrède\", \"Kaouter\", \"Jean-Nicolas\", \"David\"]\n",
    "}\n",
    "\n",
    "df_customers = pd.DataFrame(customers_data)\n",
    "df_customers"
   ]
  },
  {
   "cell_type": "code",
   "execution_count": 4,
   "id": "4a0bd0d1",
   "metadata": {
    "cell_style": "split"
   },
   "outputs": [
    {
     "data": {
      "text/html": [
       "<div>\n",
       "<style scoped>\n",
       "    .dataframe tbody tr th:only-of-type {\n",
       "        vertical-align: middle;\n",
       "    }\n",
       "\n",
       "    .dataframe tbody tr th {\n",
       "        vertical-align: top;\n",
       "    }\n",
       "\n",
       "    .dataframe thead th {\n",
       "        text-align: right;\n",
       "    }\n",
       "</style>\n",
       "<table border=\"1\" class=\"dataframe\">\n",
       "  <thead>\n",
       "    <tr style=\"text-align: right;\">\n",
       "      <th></th>\n",
       "      <th>product_id</th>\n",
       "      <th>product_name</th>\n",
       "      <th>product_price</th>\n",
       "    </tr>\n",
       "  </thead>\n",
       "  <tbody>\n",
       "    <tr>\n",
       "      <th>0</th>\n",
       "      <td>101</td>\n",
       "      <td>Laptop</td>\n",
       "      <td>800</td>\n",
       "    </tr>\n",
       "    <tr>\n",
       "      <th>1</th>\n",
       "      <td>103</td>\n",
       "      <td>Ipad</td>\n",
       "      <td>400</td>\n",
       "    </tr>\n",
       "    <tr>\n",
       "      <th>2</th>\n",
       "      <td>104</td>\n",
       "      <td>Livre</td>\n",
       "      <td>30</td>\n",
       "    </tr>\n",
       "    <tr>\n",
       "      <th>3</th>\n",
       "      <td>105</td>\n",
       "      <td>Petitos</td>\n",
       "      <td>2</td>\n",
       "    </tr>\n",
       "  </tbody>\n",
       "</table>\n",
       "</div>"
      ],
      "text/plain": [
       "   product_id product_name  product_price\n",
       "0         101       Laptop            800\n",
       "1         103         Ipad            400\n",
       "2         104        Livre             30\n",
       "3         105      Petitos              2"
      ]
     },
     "execution_count": 4,
     "metadata": {},
     "output_type": "execute_result"
    }
   ],
   "source": [
    "# Table des produits\n",
    "p_names = [\"Laptop\", \"Ipad\", \"Livre\", \"Petitos\"]\n",
    "products_data = {\n",
    "    'product_id': [101, 103, 104, 105],\n",
    "    'product_name': p_names,\n",
    "    'product_price': [800, 400, 30, 2]\n",
    "}\n",
    "\n",
    "df_products = pd.DataFrame(products_data)\n",
    "df_products"
   ]
  },
  {
   "cell_type": "code",
   "execution_count": 5,
   "id": "1eb6ff1e",
   "metadata": {
    "cell_style": "split"
   },
   "outputs": [
    {
     "data": {
      "text/html": [
       "<div>\n",
       "<style scoped>\n",
       "    .dataframe tbody tr th:only-of-type {\n",
       "        vertical-align: middle;\n",
       "    }\n",
       "\n",
       "    .dataframe tbody tr th {\n",
       "        vertical-align: top;\n",
       "    }\n",
       "\n",
       "    .dataframe thead th {\n",
       "        text-align: right;\n",
       "    }\n",
       "</style>\n",
       "<table border=\"1\" class=\"dataframe\">\n",
       "  <thead>\n",
       "    <tr style=\"text-align: right;\">\n",
       "      <th></th>\n",
       "      <th>order_id</th>\n",
       "      <th>product_id</th>\n",
       "      <th>quantity</th>\n",
       "    </tr>\n",
       "  </thead>\n",
       "  <tbody>\n",
       "    <tr>\n",
       "      <th>0</th>\n",
       "      <td>1</td>\n",
       "      <td>102</td>\n",
       "      <td>2</td>\n",
       "    </tr>\n",
       "    <tr>\n",
       "      <th>1</th>\n",
       "      <td>2</td>\n",
       "      <td>104</td>\n",
       "      <td>1</td>\n",
       "    </tr>\n",
       "    <tr>\n",
       "      <th>2</th>\n",
       "      <td>3</td>\n",
       "      <td>101</td>\n",
       "      <td>3</td>\n",
       "    </tr>\n",
       "    <tr>\n",
       "      <th>3</th>\n",
       "      <td>4</td>\n",
       "      <td>103</td>\n",
       "      <td>2</td>\n",
       "    </tr>\n",
       "    <tr>\n",
       "      <th>4</th>\n",
       "      <td>5</td>\n",
       "      <td>105</td>\n",
       "      <td>1</td>\n",
       "    </tr>\n",
       "  </tbody>\n",
       "</table>\n",
       "</div>"
      ],
      "text/plain": [
       "   order_id  product_id  quantity\n",
       "0         1         102         2\n",
       "1         2         104         1\n",
       "2         3         101         3\n",
       "3         4         103         2\n",
       "4         5         105         1"
      ]
     },
     "execution_count": 5,
     "metadata": {},
     "output_type": "execute_result"
    }
   ],
   "source": [
    "# Détail des commandes\n",
    "order_details_data = {\n",
    "    'order_id': [1, 2, 3, 4, 5],\n",
    "    'product_id': [102, 104, 101, 103, 105],\n",
    "    'quantity': [2, 1, 3, 2, 1]\n",
    "}\n",
    "\n",
    "df_order_details = pd.DataFrame(order_details_data)\n",
    "df_order_details"
   ]
  },
  {
   "cell_type": "markdown",
   "id": "d651c229",
   "metadata": {},
   "source": [
    "## Inner joins pour rassembler les tables"
   ]
  },
  {
   "cell_type": "markdown",
   "id": "b652f7ee",
   "metadata": {},
   "source": [
    "### Exercice 1: inner join pour rassembler les commandes avec les détails"
   ]
  },
  {
   "cell_type": "code",
   "execution_count": 6,
   "id": "4f1ed811",
   "metadata": {
    "cell_style": "split"
   },
   "outputs": [
    {
     "data": {
      "text/html": [
       "<div>\n",
       "<style scoped>\n",
       "    .dataframe tbody tr th:only-of-type {\n",
       "        vertical-align: middle;\n",
       "    }\n",
       "\n",
       "    .dataframe tbody tr th {\n",
       "        vertical-align: top;\n",
       "    }\n",
       "\n",
       "    .dataframe thead th {\n",
       "        text-align: right;\n",
       "    }\n",
       "</style>\n",
       "<table border=\"1\" class=\"dataframe\">\n",
       "  <thead>\n",
       "    <tr style=\"text-align: right;\">\n",
       "      <th></th>\n",
       "      <th>order_id</th>\n",
       "      <th>customer_id</th>\n",
       "      <th>product_id</th>\n",
       "      <th>quantity</th>\n",
       "    </tr>\n",
       "  </thead>\n",
       "  <tbody>\n",
       "    <tr>\n",
       "      <th>0</th>\n",
       "      <td>1</td>\n",
       "      <td>101</td>\n",
       "      <td>102</td>\n",
       "      <td>2</td>\n",
       "    </tr>\n",
       "    <tr>\n",
       "      <th>1</th>\n",
       "      <td>2</td>\n",
       "      <td>102</td>\n",
       "      <td>104</td>\n",
       "      <td>1</td>\n",
       "    </tr>\n",
       "    <tr>\n",
       "      <th>2</th>\n",
       "      <td>3</td>\n",
       "      <td>103</td>\n",
       "      <td>101</td>\n",
       "      <td>3</td>\n",
       "    </tr>\n",
       "    <tr>\n",
       "      <th>3</th>\n",
       "      <td>4</td>\n",
       "      <td>104</td>\n",
       "      <td>103</td>\n",
       "      <td>2</td>\n",
       "    </tr>\n",
       "    <tr>\n",
       "      <th>4</th>\n",
       "      <td>5</td>\n",
       "      <td>105</td>\n",
       "      <td>105</td>\n",
       "      <td>1</td>\n",
       "    </tr>\n",
       "  </tbody>\n",
       "</table>\n",
       "</div>"
      ],
      "text/plain": [
       "   order_id  customer_id  product_id  quantity\n",
       "0         1          101         102         2\n",
       "1         2          102         104         1\n",
       "2         3          103         101         3\n",
       "3         4          104         103         2\n",
       "4         5          105         105         1"
      ]
     },
     "execution_count": 6,
     "metadata": {},
     "output_type": "execute_result"
    }
   ],
   "source": [
    "detailed_order = pd.merge(\n",
    "    df_orders,\n",
    "    df_order_details,\n",
    "    on='order_id',\n",
    "    how='inner'\n",
    ")\n",
    "detailed_order"
   ]
  },
  {
   "cell_type": "code",
   "execution_count": 7,
   "id": "450f34b0",
   "metadata": {
    "cell_style": "split"
   },
   "outputs": [
    {
     "data": {
      "text/plain": [
       "┌──────────┬─────────────┬────────────┬──────────┐\n",
       "│ order_id │ customer_id │ product_id │ quantity │\n",
       "│  int64   │    int64    │   int64    │  int64   │\n",
       "├──────────┼─────────────┼────────────┼──────────┤\n",
       "│        1 │         101 │        102 │        2 │\n",
       "│        2 │         102 │        104 │        1 │\n",
       "│        3 │         103 │        101 │        3 │\n",
       "│        4 │         104 │        103 │        2 │\n",
       "│        5 │         105 │        105 │        1 │\n",
       "└──────────┴─────────────┴────────────┴──────────┘"
      ]
     },
     "execution_count": 7,
     "metadata": {},
     "output_type": "execute_result"
    }
   ],
   "source": [
    "query = \"\"\"\n",
    "SELECT * FROM df_orders\n",
    "INNER JOIN df_order_details\n",
    "USING (order_id)\n",
    "\"\"\"\n",
    "\n",
    "# on df_orders.order_id = df_order_details.order_id\n",
    "\n",
    "duckdb.query(query)"
   ]
  },
  {
   "cell_type": "markdown",
   "id": "73802c41",
   "metadata": {},
   "source": [
    "### Exercice 2:  inner join pour rassembler les commandes détaillées avec les clients"
   ]
  },
  {
   "cell_type": "code",
   "execution_count": null,
   "id": "0314a20f",
   "metadata": {
    "cell_style": "split"
   },
   "outputs": [],
   "source": [
    "# %load solutions/1exercice2_python.py\n",
    "order_client = pd.merge(\n",
    "    df_customers,\n",
    "    detailed_order,\n",
    "    on='customer_id',\n",
    "    how='inner'\n",
    ")\n",
    "order_client\n"
   ]
  },
  {
   "cell_type": "code",
   "execution_count": null,
   "id": "7ffaf3b3",
   "metadata": {
    "cell_style": "split"
   },
   "outputs": [],
   "source": [
    "# %load solutions/2exercice2_sql.py\n",
    "query = \"\"\"\n",
    "SELECT df_customers.customer_id,\n",
    "customer_name,\n",
    "order_id,\n",
    "product_id,\n",
    "quantity\n",
    "FROM df_customers\n",
    "INNER JOIN detailed_order\n",
    "on df_customers.customer_id = detailed_order.customer_id\n",
    "\"\"\"\n",
    "\n",
    "duckdb.query(query).df()\n"
   ]
  },
  {
   "cell_type": "markdown",
   "id": "f8efb949",
   "metadata": {},
   "source": [
    "### Exercice 3: inner join pour rassembler les commandes client détaillées avec les produits"
   ]
  },
  {
   "cell_type": "code",
   "execution_count": null,
   "id": "2cf92645",
   "metadata": {
    "cell_style": "split"
   },
   "outputs": [],
   "source": [
    "# %load solutions/3exercice3_python.py\n",
    "order_w_products = pd.merge(\n",
    "    order_client,\n",
    "    df_products,\n",
    "    on='product_id',\n",
    "    how='inner'\n",
    ")\n",
    "order_w_products\n"
   ]
  },
  {
   "cell_type": "code",
   "execution_count": null,
   "id": "27a8e391",
   "metadata": {
    "cell_style": "split"
   },
   "outputs": [],
   "source": [
    "# %load solutions/4exercice3_sql.py\n",
    "query = \"\"\"\n",
    "SELECT * \n",
    "FROM order_client cc\n",
    "INNER JOIN df_products products\n",
    "on cc.product_id = products.product_id\n",
    "\"\"\"\n",
    "\n",
    "duckdb.query(query).df()\n"
   ]
  },
  {
   "cell_type": "markdown",
   "id": "05755a96",
   "metadata": {},
   "source": [
    "<br />\n",
    "<br />\n",
    "<br />"
   ]
  },
  {
   "cell_type": "markdown",
   "id": "8324c0de",
   "metadata": {},
   "source": [
    "--- "
   ]
  },
  {
   "cell_type": "markdown",
   "id": "cef7a4db",
   "metadata": {},
   "source": [
    "<br />"
   ]
  },
  {
   "cell_type": "markdown",
   "id": "3320b5a1",
   "metadata": {},
   "source": [
    "<img src=\"images/inner_peace.gif\" />"
   ]
  },
  {
   "cell_type": "code",
   "execution_count": null,
   "id": "baeab904",
   "metadata": {},
   "outputs": [],
   "source": []
  }
 ],
 "metadata": {
  "kernelspec": {
   "display_name": "Python 3 (ipykernel)",
   "language": "python",
   "name": "python3"
  },
  "language_info": {
   "codemirror_mode": {
    "name": "ipython",
    "version": 3
   },
   "file_extension": ".py",
   "mimetype": "text/x-python",
   "name": "python",
   "nbconvert_exporter": "python",
   "pygments_lexer": "ipython3",
   "version": "3.9.13"
  }
 },
 "nbformat": 4,
 "nbformat_minor": 5
}
