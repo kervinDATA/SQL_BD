{
 "cells": [
  {
   "cell_type": "code",
   "execution_count": 1,
   "id": "409c9d6e",
   "metadata": {},
   "outputs": [],
   "source": [
    "!pip install pandas >> /dev/null\n",
    "!pip install duckdb >> /dev/null"
   ]
  },
  {
   "cell_type": "code",
   "execution_count": 2,
   "id": "5c2db97e",
   "metadata": {},
   "outputs": [],
   "source": [
    "import pandas as pd\n",
    "import duckdb\n",
    "import io"
   ]
  },
  {
   "cell_type": "markdown",
   "id": "497ce28e",
   "metadata": {},
   "source": [
    "# Data"
   ]
  },
  {
   "cell_type": "code",
   "execution_count": 3,
   "id": "37ffb761",
   "metadata": {
    "cell_style": "split"
   },
   "outputs": [],
   "source": [
    "csv = '''\n",
    "beverage,price\n",
    "orange juice,2.5\n",
    "Expresso,2\n",
    "Tea,3\n",
    "'''\n",
    "\n",
    "beverages = pd.read_csv(io.StringIO(csv))"
   ]
  },
  {
   "cell_type": "code",
   "execution_count": 4,
   "id": "af57cb63",
   "metadata": {
    "cell_style": "split"
   },
   "outputs": [],
   "source": [
    "csv2 = '''\n",
    "food_item,food_price\n",
    "cookie juice,2.5\n",
    "chocolatine,2\n",
    "muffin,3\n",
    "'''\n",
    "\n",
    "food_items = pd.read_csv(io.StringIO(csv2))"
   ]
  },
  {
   "cell_type": "code",
   "execution_count": 5,
   "id": "b5d2cfa9",
   "metadata": {
    "cell_style": "split"
   },
   "outputs": [
    {
     "data": {
      "text/plain": [
       "┌──────────────┬────────┐\n",
       "│   beverage   │ price  │\n",
       "│   varchar    │ double │\n",
       "├──────────────┼────────┤\n",
       "│ orange juice │    2.5 │\n",
       "│ Expresso     │    2.0 │\n",
       "│ Tea          │    3.0 │\n",
       "└──────────────┴────────┘"
      ]
     },
     "execution_count": 5,
     "metadata": {},
     "output_type": "execute_result"
    }
   ],
   "source": [
    "# checks\n",
    "query_beverages = \"\"\"\n",
    "SELECT * FROM beverages\n",
    "\"\"\"\n",
    "duckdb.sql(query_beverages)"
   ]
  },
  {
   "cell_type": "code",
   "execution_count": 6,
   "id": "c6a6ebbe",
   "metadata": {
    "cell_style": "split"
   },
   "outputs": [
    {
     "data": {
      "text/plain": [
       "┌──────────────┬────────────┐\n",
       "│  food_item   │ food_price │\n",
       "│   varchar    │   double   │\n",
       "├──────────────┼────────────┤\n",
       "│ cookie juice │        2.5 │\n",
       "│ chocolatine  │        2.0 │\n",
       "│ muffin       │        3.0 │\n",
       "└──────────────┴────────────┘"
      ]
     },
     "execution_count": 6,
     "metadata": {},
     "output_type": "execute_result"
    }
   ],
   "source": [
    "query_food_items = \"\"\"\n",
    "SELECT * FROM food_items\n",
    "\"\"\"\n",
    "duckdb.sql(query_food_items)"
   ]
  },
  {
   "cell_type": "markdown",
   "id": "c86d7833",
   "metadata": {},
   "source": [
    "# Cross join (SQL et Python)"
   ]
  },
  {
   "cell_type": "code",
   "execution_count": 7,
   "id": "299e8613",
   "metadata": {
    "cell_style": "split"
   },
   "outputs": [
    {
     "data": {
      "text/plain": [
       "┌──────────────┬────────┬──────────────┬────────────┐\n",
       "│   beverage   │ price  │  food_item   │ food_price │\n",
       "│   varchar    │ double │   varchar    │   double   │\n",
       "├──────────────┼────────┼──────────────┼────────────┤\n",
       "│ orange juice │    2.5 │ cookie juice │        2.5 │\n",
       "│ Expresso     │    2.0 │ cookie juice │        2.5 │\n",
       "│ Tea          │    3.0 │ cookie juice │        2.5 │\n",
       "│ orange juice │    2.5 │ chocolatine  │        2.0 │\n",
       "│ Expresso     │    2.0 │ chocolatine  │        2.0 │\n",
       "│ Tea          │    3.0 │ chocolatine  │        2.0 │\n",
       "│ orange juice │    2.5 │ muffin       │        3.0 │\n",
       "│ Expresso     │    2.0 │ muffin       │        3.0 │\n",
       "│ Tea          │    3.0 │ muffin       │        3.0 │\n",
       "└──────────────┴────────┴──────────────┴────────────┘"
      ]
     },
     "execution_count": 7,
     "metadata": {},
     "output_type": "execute_result"
    }
   ],
   "source": [
    "cross_join_query = \"\"\"\n",
    "SELECT * FROM beverages\n",
    "CROSS JOIN food_items\n",
    "\"\"\"\n",
    "duckdb.sql(cross_join_query)"
   ]
  },
  {
   "cell_type": "code",
   "execution_count": 8,
   "id": "7a0515f2",
   "metadata": {
    "cell_style": "split"
   },
   "outputs": [
    {
     "data": {
      "text/html": [
       "<div>\n",
       "<style scoped>\n",
       "    .dataframe tbody tr th:only-of-type {\n",
       "        vertical-align: middle;\n",
       "    }\n",
       "\n",
       "    .dataframe tbody tr th {\n",
       "        vertical-align: top;\n",
       "    }\n",
       "\n",
       "    .dataframe thead th {\n",
       "        text-align: right;\n",
       "    }\n",
       "</style>\n",
       "<table border=\"1\" class=\"dataframe\">\n",
       "  <thead>\n",
       "    <tr style=\"text-align: right;\">\n",
       "      <th></th>\n",
       "      <th>beverage</th>\n",
       "      <th>price</th>\n",
       "      <th>food_item</th>\n",
       "      <th>food_price</th>\n",
       "    </tr>\n",
       "  </thead>\n",
       "  <tbody>\n",
       "    <tr>\n",
       "      <th>0</th>\n",
       "      <td>orange juice</td>\n",
       "      <td>2.5</td>\n",
       "      <td>cookie juice</td>\n",
       "      <td>2.5</td>\n",
       "    </tr>\n",
       "    <tr>\n",
       "      <th>1</th>\n",
       "      <td>orange juice</td>\n",
       "      <td>2.5</td>\n",
       "      <td>chocolatine</td>\n",
       "      <td>2.0</td>\n",
       "    </tr>\n",
       "    <tr>\n",
       "      <th>2</th>\n",
       "      <td>orange juice</td>\n",
       "      <td>2.5</td>\n",
       "      <td>muffin</td>\n",
       "      <td>3.0</td>\n",
       "    </tr>\n",
       "    <tr>\n",
       "      <th>3</th>\n",
       "      <td>Expresso</td>\n",
       "      <td>2.0</td>\n",
       "      <td>cookie juice</td>\n",
       "      <td>2.5</td>\n",
       "    </tr>\n",
       "    <tr>\n",
       "      <th>4</th>\n",
       "      <td>Expresso</td>\n",
       "      <td>2.0</td>\n",
       "      <td>chocolatine</td>\n",
       "      <td>2.0</td>\n",
       "    </tr>\n",
       "    <tr>\n",
       "      <th>5</th>\n",
       "      <td>Expresso</td>\n",
       "      <td>2.0</td>\n",
       "      <td>muffin</td>\n",
       "      <td>3.0</td>\n",
       "    </tr>\n",
       "    <tr>\n",
       "      <th>6</th>\n",
       "      <td>Tea</td>\n",
       "      <td>3.0</td>\n",
       "      <td>cookie juice</td>\n",
       "      <td>2.5</td>\n",
       "    </tr>\n",
       "    <tr>\n",
       "      <th>7</th>\n",
       "      <td>Tea</td>\n",
       "      <td>3.0</td>\n",
       "      <td>chocolatine</td>\n",
       "      <td>2.0</td>\n",
       "    </tr>\n",
       "    <tr>\n",
       "      <th>8</th>\n",
       "      <td>Tea</td>\n",
       "      <td>3.0</td>\n",
       "      <td>muffin</td>\n",
       "      <td>3.0</td>\n",
       "    </tr>\n",
       "  </tbody>\n",
       "</table>\n",
       "</div>"
      ],
      "text/plain": [
       "       beverage  price     food_item  food_price\n",
       "0  orange juice    2.5  cookie juice         2.5\n",
       "1  orange juice    2.5   chocolatine         2.0\n",
       "2  orange juice    2.5        muffin         3.0\n",
       "3      Expresso    2.0  cookie juice         2.5\n",
       "4      Expresso    2.0   chocolatine         2.0\n",
       "5      Expresso    2.0        muffin         3.0\n",
       "6           Tea    3.0  cookie juice         2.5\n",
       "7           Tea    3.0   chocolatine         2.0\n",
       "8           Tea    3.0        muffin         3.0"
      ]
     },
     "execution_count": 8,
     "metadata": {},
     "output_type": "execute_result"
    }
   ],
   "source": [
    "output = (\n",
    "    beverages\n",
    "    .join(food_items, how=\"cross\")\n",
    ")\n",
    "output"
   ]
  },
  {
   "cell_type": "code",
   "execution_count": 9,
   "id": "d953f804",
   "metadata": {},
   "outputs": [
    {
     "data": {
      "text/html": [
       "<div>\n",
       "<style scoped>\n",
       "    .dataframe tbody tr th:only-of-type {\n",
       "        vertical-align: middle;\n",
       "    }\n",
       "\n",
       "    .dataframe tbody tr th {\n",
       "        vertical-align: top;\n",
       "    }\n",
       "\n",
       "    .dataframe thead th {\n",
       "        text-align: right;\n",
       "    }\n",
       "</style>\n",
       "<table border=\"1\" class=\"dataframe\">\n",
       "  <thead>\n",
       "    <tr style=\"text-align: right;\">\n",
       "      <th></th>\n",
       "      <th>beverage</th>\n",
       "      <th>price</th>\n",
       "      <th>food_item</th>\n",
       "      <th>food_price</th>\n",
       "    </tr>\n",
       "  </thead>\n",
       "  <tbody>\n",
       "    <tr>\n",
       "      <th>0</th>\n",
       "      <td>orange juice</td>\n",
       "      <td>2.5</td>\n",
       "      <td>cookie juice</td>\n",
       "      <td>2.5</td>\n",
       "    </tr>\n",
       "    <tr>\n",
       "      <th>1</th>\n",
       "      <td>Expresso</td>\n",
       "      <td>2.0</td>\n",
       "      <td>cookie juice</td>\n",
       "      <td>2.5</td>\n",
       "    </tr>\n",
       "    <tr>\n",
       "      <th>2</th>\n",
       "      <td>Tea</td>\n",
       "      <td>3.0</td>\n",
       "      <td>cookie juice</td>\n",
       "      <td>2.5</td>\n",
       "    </tr>\n",
       "    <tr>\n",
       "      <th>3</th>\n",
       "      <td>orange juice</td>\n",
       "      <td>2.5</td>\n",
       "      <td>chocolatine</td>\n",
       "      <td>2.0</td>\n",
       "    </tr>\n",
       "    <tr>\n",
       "      <th>4</th>\n",
       "      <td>Expresso</td>\n",
       "      <td>2.0</td>\n",
       "      <td>chocolatine</td>\n",
       "      <td>2.0</td>\n",
       "    </tr>\n",
       "    <tr>\n",
       "      <th>5</th>\n",
       "      <td>Tea</td>\n",
       "      <td>3.0</td>\n",
       "      <td>chocolatine</td>\n",
       "      <td>2.0</td>\n",
       "    </tr>\n",
       "    <tr>\n",
       "      <th>6</th>\n",
       "      <td>orange juice</td>\n",
       "      <td>2.5</td>\n",
       "      <td>muffin</td>\n",
       "      <td>3.0</td>\n",
       "    </tr>\n",
       "    <tr>\n",
       "      <th>7</th>\n",
       "      <td>Expresso</td>\n",
       "      <td>2.0</td>\n",
       "      <td>muffin</td>\n",
       "      <td>3.0</td>\n",
       "    </tr>\n",
       "    <tr>\n",
       "      <th>8</th>\n",
       "      <td>Tea</td>\n",
       "      <td>3.0</td>\n",
       "      <td>muffin</td>\n",
       "      <td>3.0</td>\n",
       "    </tr>\n",
       "  </tbody>\n",
       "</table>\n",
       "</div>"
      ],
      "text/plain": [
       "       beverage  price     food_item  food_price\n",
       "0  orange juice    2.5  cookie juice         2.5\n",
       "1      Expresso    2.0  cookie juice         2.5\n",
       "2           Tea    3.0  cookie juice         2.5\n",
       "3  orange juice    2.5   chocolatine         2.0\n",
       "4      Expresso    2.0   chocolatine         2.0\n",
       "5           Tea    3.0   chocolatine         2.0\n",
       "6  orange juice    2.5        muffin         3.0\n",
       "7      Expresso    2.0        muffin         3.0\n",
       "8           Tea    3.0        muffin         3.0"
      ]
     },
     "execution_count": 9,
     "metadata": {},
     "output_type": "execute_result"
    }
   ],
   "source": [
    "duckdb.sql(cross_join_query).df()"
   ]
  },
  {
   "cell_type": "code",
   "execution_count": 31,
   "id": "06085450",
   "metadata": {
    "scrolled": false
   },
   "outputs": [
    {
     "ename": "AssertionError",
     "evalue": "DataFrame.columns are different\n\nDataFrame.columns values are different (100.0 %)\n[left]:  Index(['beverage', 'beverage_price', 'food_item', 'food_price'], dtype='object')\n[right]: Index(['food_item', 'food_price', 'beverage', 'beverage_price'], dtype='object')\nAt positional index 0, first diff: beverage != food_item",
     "output_type": "error",
     "traceback": [
      "\u001b[0;31m---------------------------------------------------------------------------\u001b[0m",
      "\u001b[0;31mAssertionError\u001b[0m                            Traceback (most recent call last)",
      "Cell \u001b[0;32mIn[31], line 2\u001b[0m\n\u001b[1;32m      1\u001b[0m \u001b[38;5;66;03m# Fails. Pouvez-vous deviner pourquoi ?\u001b[39;00m\n\u001b[0;32m----> 2\u001b[0m \u001b[43mpd\u001b[49m\u001b[38;5;241;43m.\u001b[39;49m\u001b[43mtesting\u001b[49m\u001b[38;5;241;43m.\u001b[39;49m\u001b[43massert_frame_equal\u001b[49m\u001b[43m(\u001b[49m\u001b[43mduckdb\u001b[49m\u001b[38;5;241;43m.\u001b[39;49m\u001b[43msql\u001b[49m\u001b[43m(\u001b[49m\u001b[43mcross_join_query\u001b[49m\u001b[43m)\u001b[49m\u001b[38;5;241;43m.\u001b[39;49m\u001b[43mdf\u001b[49m\u001b[43m(\u001b[49m\u001b[43m)\u001b[49m\u001b[43m,\u001b[49m\u001b[43moutput\u001b[49m\u001b[43m)\u001b[49m\n",
      "    \u001b[0;31m[... skipping hidden 2 frame]\u001b[0m\n",
      "File \u001b[0;32m~/.local/lib/python3.10/site-packages/pandas/_libs/testing.pyx:52\u001b[0m, in \u001b[0;36mpandas._libs.testing.assert_almost_equal\u001b[0;34m()\u001b[0m\n",
      "File \u001b[0;32m~/.local/lib/python3.10/site-packages/pandas/_libs/testing.pyx:172\u001b[0m, in \u001b[0;36mpandas._libs.testing.assert_almost_equal\u001b[0;34m()\u001b[0m\n",
      "File \u001b[0;32m~/.local/lib/python3.10/site-packages/pandas/_testing/asserters.py:599\u001b[0m, in \u001b[0;36mraise_assert_detail\u001b[0;34m(obj, message, left, right, diff, first_diff, index_values)\u001b[0m\n\u001b[1;32m    596\u001b[0m \u001b[38;5;28;01mif\u001b[39;00m first_diff \u001b[38;5;129;01mis\u001b[39;00m \u001b[38;5;129;01mnot\u001b[39;00m \u001b[38;5;28;01mNone\u001b[39;00m:\n\u001b[1;32m    597\u001b[0m     msg \u001b[38;5;241m+\u001b[39m\u001b[38;5;241m=\u001b[39m \u001b[38;5;124mf\u001b[39m\u001b[38;5;124m\"\u001b[39m\u001b[38;5;130;01m\\n\u001b[39;00m\u001b[38;5;132;01m{\u001b[39;00mfirst_diff\u001b[38;5;132;01m}\u001b[39;00m\u001b[38;5;124m\"\u001b[39m\n\u001b[0;32m--> 599\u001b[0m \u001b[38;5;28;01mraise\u001b[39;00m \u001b[38;5;167;01mAssertionError\u001b[39;00m(msg)\n",
      "\u001b[0;31mAssertionError\u001b[0m: DataFrame.columns are different\n\nDataFrame.columns values are different (100.0 %)\n[left]:  Index(['beverage', 'beverage_price', 'food_item', 'food_price'], dtype='object')\n[right]: Index(['food_item', 'food_price', 'beverage', 'beverage_price'], dtype='object')\nAt positional index 0, first diff: beverage != food_item"
     ]
    }
   ],
   "source": [
    "# Fails. Pouvez-vous deviner pourquoi ?\n",
    "pd.testing.assert_frame_equal(duckdb.sql(cross_join_query).df(),output)"
   ]
  },
  {
   "cell_type": "markdown",
   "id": "0bdf538b",
   "metadata": {},
   "source": []
  },
  {
   "cell_type": "markdown",
   "id": "b803f09f",
   "metadata": {},
   "source": [
    "Ouvrir <a href=\"https://pandastutor.com/vis.html#trace=example-code/py_slice.json\">pandas tutor</a> et importer le code."
   ]
  },
  {
   "cell_type": "code",
   "execution_count": null,
   "id": "cfba9c24",
   "metadata": {},
   "outputs": [],
   "source": [
    "import pandas as pd\n",
    "import io\n",
    "\n",
    "csv = '''\n",
    "beverage,beverage_price\n",
    "orange juice,2.5\n",
    "Expresso,2\n",
    "Tea,3\n",
    "'''\n",
    "\n",
    "csv2 = '''\n",
    "food_item,food_price\n",
    "cookie juice,2.5\n",
    "chocolatine,2\n",
    "muffin,3\n",
    "'''\n",
    "\n",
    "\n",
    "beverages = pd.read_csv(io.StringIO(csv))\n",
    "food_items = pd.read_csv(io.StringIO(csv2))\n",
    "\n",
    "(\n",
    "beverages\n",
    "    .join(food_items, how=\"cross\")\n",
    "    # .assign(total_price= lambda x: x.beverage_price + x.food_price)\n",
    ")"
   ]
  },
  {
   "cell_type": "markdown",
   "id": "25731193",
   "metadata": {},
   "source": [
    "---"
   ]
  },
  {
   "cell_type": "markdown",
   "id": "b6eebddf",
   "metadata": {},
   "source": [
    " "
   ]
  },
  {
   "cell_type": "markdown",
   "id": "02f17e73",
   "metadata": {},
   "source": [
    "# Exercices"
   ]
  },
  {
   "cell_type": "markdown",
   "id": "713acc4c",
   "metadata": {},
   "source": [
    "## Exercice 1\n",
    "Essayez de faire votre propre cross join avec les items suivants:\n",
    "\n",
    "\n",
    "XS, M, L, XL\n",
    "\n",
    "Nike, Asphalte, Abercrombie, Lewis"
   ]
  },
  {
   "cell_type": "code",
   "execution_count": 41,
   "id": "472b3342",
   "metadata": {},
   "outputs": [],
   "source": [
    "size = '''\n",
    "size\n",
    "XS\n",
    "M\n",
    "L\n",
    "XL\n",
    "'''\n",
    "\n",
    "trademark = '''\n",
    "trademark\n",
    "Nike\n",
    "Asphalte\n",
    "Abercrombie\n",
    "Lewis\n",
    "'''\n",
    "\n",
    "size = pd.read_csv(io.StringIO(size))\n",
    "trademark = pd.read_csv(io.StringIO(trademark))"
   ]
  },
  {
   "cell_type": "markdown",
   "id": "ee05e108",
   "metadata": {},
   "source": [
    "Question: vous avez 4 tailles et quatre \"trademarks\". Quelle dimension devrait faire la table de sortie ?"
   ]
  },
  {
   "cell_type": "markdown",
   "id": "98b47859",
   "metadata": {},
   "source": [
    "### En SQL"
   ]
  },
  {
   "cell_type": "code",
   "execution_count": null,
   "id": "29375469",
   "metadata": {},
   "outputs": [],
   "source": [
    "cross_join_query = \"\"\"\n",
    "______à remplir_______\n",
    "______à remplir_______\n",
    "\"\"\"\n",
    "duckdb.sql(cross_join_query)"
   ]
  },
  {
   "cell_type": "markdown",
   "id": "c934c687",
   "metadata": {},
   "source": [
    "Solution:"
   ]
  },
  {
   "cell_type": "code",
   "execution_count": 19,
   "id": "f18f0923",
   "metadata": {
    "scrolled": true
   },
   "outputs": [
    {
     "name": "stdout",
     "output_type": "stream",
     "text": [
      "'1) Cross Joins - intuitions.ipynb'\r\n",
      "'2) Cross joins - SQL & Python examples.ipynb'\r\n",
      "'3) Cross Join - exemple pratique d'\\''utilisation.ipynb'\r\n"
     ]
    }
   ],
   "source": [
    "!ls "
   ]
  },
  {
   "cell_type": "code",
   "execution_count": null,
   "id": "2d88ce3e",
   "metadata": {
    "scrolled": false
   },
   "outputs": [],
   "source": [
    "# %load solutions/1solution_cross_join_sql.py\n",
    "cross_join_query = \"\"\"\n",
    "SELECT * FROM size\n",
    "CROSS JOIN trademark\n",
    "\"\"\"\n",
    "duckdb.sql(cross_join_query)\n"
   ]
  },
  {
   "cell_type": "markdown",
   "id": "fc624e8e",
   "metadata": {},
   "source": [
    "### En Python"
   ]
  },
  {
   "cell_type": "code",
   "execution_count": 2,
   "id": "580ffe6f",
   "metadata": {},
   "outputs": [
    {
     "ename": "NameError",
     "evalue": "name '____' is not defined",
     "output_type": "error",
     "traceback": [
      "\u001b[1;31m---------------------------------------------------------------------------\u001b[0m",
      "\u001b[1;31mNameError\u001b[0m                                 Traceback (most recent call last)",
      "Cell \u001b[1;32mIn[2], line 1\u001b[0m\n\u001b[1;32m----> 1\u001b[0m \u001b[43m____\u001b[49m\u001b[38;5;241m.\u001b[39mjoin(_________, how\u001b[38;5;241m=\u001b[39m\u001b[38;5;124m\"\u001b[39m\u001b[38;5;124mcross\u001b[39m\u001b[38;5;124m\"\u001b[39m)\n",
      "\u001b[1;31mNameError\u001b[0m: name '____' is not defined"
     ]
    }
   ],
   "source": [
    "____.join(_________, how=\"cross\")  # à compléter"
   ]
  },
  {
   "cell_type": "markdown",
   "id": "85690825",
   "metadata": {},
   "source": [
    "Solution:"
   ]
  },
  {
   "cell_type": "code",
   "execution_count": null,
   "id": "8bc5eb42",
   "metadata": {},
   "outputs": [],
   "source": [
    "# %load solutions/2solution_cross_join_python.py\n",
    "size.join(trademark, how=\"cross\")\n"
   ]
  },
  {
   "cell_type": "markdown",
   "id": "e87e2dc2",
   "metadata": {},
   "source": [
    "## Exercice 2"
   ]
  },
  {
   "cell_type": "markdown",
   "id": "9e958ece",
   "metadata": {},
   "source": [
    "Créez un set pour toutes les heures de 8h à midi, et un set pour chaque quart d'heure.\n",
    "\n",
    "Faites le cross join pour obtenir tous les quarts d'heure d'ouverture de votre magasin."
   ]
  },
  {
   "cell_type": "code",
   "execution_count": null,
   "id": "17575bae",
   "metadata": {},
   "outputs": [],
   "source": [
    "# Votre code ici:"
   ]
  },
  {
   "cell_type": "markdown",
   "id": "cfe8d679",
   "metadata": {},
   "source": [
    "solution:"
   ]
  },
  {
   "cell_type": "code",
   "execution_count": 5,
   "id": "3109abaf",
   "metadata": {},
   "outputs": [
    {
     "ename": "NameError",
     "evalue": "name 'pd' is not defined",
     "output_type": "error",
     "traceback": [
      "\u001b[1;31m---------------------------------------------------------------------------\u001b[0m",
      "\u001b[1;31mNameError\u001b[0m                                 Traceback (most recent call last)",
      "Cell \u001b[1;32mIn[5], line 19\u001b[0m\n\u001b[0;32m      2\u001b[0m hours \u001b[38;5;241m=\u001b[39m \u001b[38;5;124m'''\u001b[39m\n\u001b[0;32m      3\u001b[0m \u001b[38;5;124mhour\u001b[39m\n\u001b[0;32m      4\u001b[0m \u001b[38;5;124m08\u001b[39m\n\u001b[1;32m   (...)\u001b[0m\n\u001b[0;32m      8\u001b[0m \u001b[38;5;124m12\u001b[39m\n\u001b[0;32m      9\u001b[0m \u001b[38;5;124m'''\u001b[39m\n\u001b[0;32m     11\u001b[0m quarters \u001b[38;5;241m=\u001b[39m \u001b[38;5;124m'''\u001b[39m\n\u001b[0;32m     12\u001b[0m \u001b[38;5;124mquarter\u001b[39m\n\u001b[0;32m     13\u001b[0m \u001b[38;5;124m00\u001b[39m\n\u001b[1;32m   (...)\u001b[0m\n\u001b[0;32m     16\u001b[0m \u001b[38;5;124m45\u001b[39m\n\u001b[0;32m     17\u001b[0m \u001b[38;5;124m'''\u001b[39m\n\u001b[1;32m---> 19\u001b[0m hours \u001b[38;5;241m=\u001b[39m \u001b[43mpd\u001b[49m\u001b[38;5;241m.\u001b[39mread_csv(io\u001b[38;5;241m.\u001b[39mStringIO(hours))\n\u001b[0;32m     20\u001b[0m quarters \u001b[38;5;241m=\u001b[39m pd\u001b[38;5;241m.\u001b[39mread_csv(io\u001b[38;5;241m.\u001b[39mStringIO(quarters))\n\u001b[0;32m     22\u001b[0m \u001b[38;5;66;03m# python\u001b[39;00m\n",
      "\u001b[1;31mNameError\u001b[0m: name 'pd' is not defined"
     ]
    }
   ],
   "source": [
    "# %load solutions/3solution_cross_join_exo2_python_and_sql.py\n",
    "hours = '''\n",
    "hour\n",
    "08\n",
    "09\n",
    "10\n",
    "11\n",
    "12\n",
    "'''\n",
    "\n",
    "quarters = '''\n",
    "quarter\n",
    "00\n",
    "15\n",
    "30\n",
    "45\n",
    "'''\n",
    "\n",
    "hours = pd.read_csv(io.StringIO(hours))\n",
    "quarters = pd.read_csv(io.StringIO(quarters))\n",
    "\n",
    "# python\n",
    "display(hours.join(quarters, how=\"cross\"))\n",
    "\n",
    "\n",
    "# sql\n",
    "query = \"\"\"\n",
    "SELECT * FROM hours\n",
    "CROSS JOIN quarters\n",
    "ORDER BY HOUR, QUARTER\n",
    "\"\"\"\n",
    "\n",
    "duckdb.sql(query)\n"
   ]
  },
  {
   "cell_type": "code",
   "execution_count": null,
   "id": "223db86e",
   "metadata": {},
   "outputs": [],
   "source": []
  }
 ],
 "metadata": {
  "kernelspec": {
   "display_name": "Python 3 (ipykernel)",
   "language": "python",
   "name": "python3"
  },
  "language_info": {
   "codemirror_mode": {
    "name": "ipython",
    "version": 3
   },
   "file_extension": ".py",
   "mimetype": "text/x-python",
   "name": "python",
   "nbconvert_exporter": "python",
   "pygments_lexer": "ipython3",
   "version": "3.9.13"
  }
 },
 "nbformat": 4,
 "nbformat_minor": 5
}
