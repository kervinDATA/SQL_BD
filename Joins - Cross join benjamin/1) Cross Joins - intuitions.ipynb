{
 "cells": [
  {
   "cell_type": "markdown",
   "id": "3a81ff9f",
   "metadata": {},
   "source": [
    "# Cross Joins"
   ]
  },
  {
   "cell_type": "markdown",
   "id": "b604bc89",
   "metadata": {},
   "source": [
    "<p> Les cross joins sont très rarement utilisés en pratique. Parce qu'ils sont couteux en termes de ressources. Pourtant, ils sont pratiques pour:\n",
    "</p>\n",
    "<ul>\n",
    "    <li>comprendre intuitivement les autres formes de joins </li>\n",
    "    <li>certains use-cases rencontrés en entreprise </li>\n",
    "</ul>\n",
    "\n",
    "On va donc démarrer par là, pour voir progressivement comment toutes les autres formes de join peuvent être assimilées à des cross join avec un filtre dedans ;)"
   ]
  },
  {
   "cell_type": "markdown",
   "id": "1f7ff3c4",
   "metadata": {},
   "source": [
    "## Qu'est-ce qu'un cross join ?"
   ]
  },
  {
   "cell_type": "markdown",
   "id": "b6e18704",
   "metadata": {},
   "source": [
    "C'est le diminutif affectueux pour \"produit cartésien\"."
   ]
  },
  {
   "cell_type": "markdown",
   "id": "51db9533",
   "metadata": {},
   "source": [
    "Je sais, vous n'êtes pas plus avancés, mais un exemple simple va vous aider à rapidement bâtir une intuition autour de ce concept:"
   ]
  },
  {
   "cell_type": "markdown",
   "id": "13a9e359",
   "metadata": {},
   "source": [
    "<p>Imaginez que vous avez deux \"sets\": </p>\n",
    "<ul>\n",
    "<li>un set qui contient 4 symboles: ♣ ♠ ♥ ♦ </li>\n",
    "<li>un autre set qui contient 9 chiffres et 5 symboles: A, 2, 3, 4, 5, 6, 7, 8, 9, 10, J, Q, K </li>\n",
    "</ul>\n",
    "\n",
    "<p>Le produit cartésien de ces deux sets revient à faire toutes les paires possibles: </p>"
   ]
  },
  {
   "cell_type": "code",
   "execution_count": 1,
   "id": "849e86fc",
   "metadata": {},
   "outputs": [
    {
     "name": "stdout",
     "output_type": "stream",
     "text": [
      "Clubs\n",
      "2 of Clubs\n",
      "3 of Clubs\n",
      "4 of Clubs\n",
      "5 of Clubs\n",
      "6 of Clubs\n",
      "7 of Clubs\n",
      "8 of Clubs\n",
      "9 of Clubs\n",
      "10 of Clubs\n",
      "J of Clubs\n",
      "Q of Clubs\n",
      "K of Clubs\n",
      "A of Clubs\n",
      "Spades\n",
      "2 of Spades\n",
      "3 of Spades\n",
      "4 of Spades\n",
      "5 of Spades\n",
      "6 of Spades\n",
      "7 of Spades\n",
      "8 of Spades\n",
      "9 of Spades\n",
      "10 of Spades\n",
      "J of Spades\n",
      "Q of Spades\n",
      "K of Spades\n",
      "A of Spades\n",
      "Heart\n",
      "2 of Heart\n",
      "3 of Heart\n",
      "4 of Heart\n",
      "5 of Heart\n",
      "6 of Heart\n",
      "7 of Heart\n",
      "8 of Heart\n",
      "9 of Heart\n",
      "10 of Heart\n",
      "J of Heart\n",
      "Q of Heart\n",
      "K of Heart\n",
      "A of Heart\n",
      "Diamond\n",
      "2 of Diamond\n",
      "3 of Diamond\n",
      "4 of Diamond\n",
      "5 of Diamond\n",
      "6 of Diamond\n",
      "7 of Diamond\n",
      "8 of Diamond\n",
      "9 of Diamond\n",
      "10 of Diamond\n",
      "J of Diamond\n",
      "Q of Diamond\n",
      "K of Diamond\n",
      "A of Diamond\n"
     ]
    }
   ],
   "source": [
    "symbols = [\"Clubs\", \"Spades\", \"Heart\", \"Diamond\"]\n",
    "ranks = [2, 3, 4, 5, 6, 7, 8, 9, 10, \"J\", \"Q\", \"K\", \"A\"]\n",
    "\n",
    "for symbol in symbols:\n",
    "    print(symbol)\n",
    "    for rank in ranks:\n",
    "        print(f\"{rank} of {symbol}\")"
   ]
  },
  {
   "cell_type": "markdown",
   "id": "0fe65dc1",
   "metadata": {},
   "source": [
    "C'est beaucoup plus simple présenté comme ça:\n",
    "\n",
    "<img src=\"images/cartesian_product_of_cards.jpg\" />"
   ]
  },
  {
   "cell_type": "markdown",
   "id": "32dcf50c",
   "metadata": {},
   "source": [
    "## Cross product"
   ]
  },
  {
   "cell_type": "markdown",
   "id": "f5153160",
   "metadata": {},
   "source": [
    "De manière générale, on conceptualise le produit cartésien comme un \"cross product\".\n",
    "\n",
    "Chaque item du premier set (nuances de gris) a droit d'être combiné avec chaque item du second set (vert jaune rouge):"
   ]
  },
  {
   "cell_type": "markdown",
   "id": "06d0c1e3",
   "metadata": {},
   "source": [
    "<img src=\"images/cross_product.jpg\" />"
   ]
  },
  {
   "cell_type": "markdown",
   "id": "bd838c2f",
   "metadata": {},
   "source": [
    "Dans le prochain notebook, on va voir des implémentations de ce concept, en SQL et en Python"
   ]
  },
  {
   "cell_type": "code",
   "execution_count": null,
   "id": "472b3342",
   "metadata": {},
   "outputs": [],
   "source": []
  }
 ],
 "metadata": {
  "kernelspec": {
   "display_name": "myenv",
   "language": "python",
   "name": "myenv"
  },
  "language_info": {
   "codemirror_mode": {
    "name": "ipython",
    "version": 3
   },
   "file_extension": ".py",
   "mimetype": "text/x-python",
   "name": "python",
   "nbconvert_exporter": "python",
   "pygments_lexer": "ipython3",
   "version": "3.10.12"
  }
 },
 "nbformat": 4,
 "nbformat_minor": 5
}
