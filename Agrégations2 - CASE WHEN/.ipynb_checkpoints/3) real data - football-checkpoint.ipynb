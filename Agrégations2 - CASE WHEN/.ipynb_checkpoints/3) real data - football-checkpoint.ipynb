{
 "cells": [
  {
   "cell_type": "code",
   "execution_count": 1,
   "id": "5caf7c3d",
   "metadata": {},
   "outputs": [],
   "source": [
    "import pandas as pd\n",
    "import duckdb"
   ]
  },
  {
   "cell_type": "code",
   "execution_count": 2,
   "id": "2411e3d4",
   "metadata": {},
   "outputs": [],
   "source": [
    "# source: https://www.football-data.co.uk/francem.php\n",
    "# explication des champs: https://www.football-data.co.uk/notes.txt\n",
    "data = pd.read_csv(\"data/season-1011_csv.csv\")"
   ]
  },
  {
   "cell_type": "markdown",
   "id": "5f03dbf0",
   "metadata": {},
   "source": [
    "Ce csv contient les matchs de foot de Ligue1 pour la saison 2011-2012"
   ]
  },
  {
   "cell_type": "markdown",
   "id": "9c43b2ba",
   "metadata": {},
   "source": [
    "On aimerait savoir combien de Match Lille a gagné:\n",
    "- A domicile\n",
    "- A l'extérieur"
   ]
  },
  {
   "cell_type": "code",
   "execution_count": 4,
   "id": "c0ffb6bb",
   "metadata": {
    "scrolled": true
   },
   "outputs": [
    {
     "data": {
      "text/html": [
       "<div>\n",
       "<style scoped>\n",
       "    .dataframe tbody tr th:only-of-type {\n",
       "        vertical-align: middle;\n",
       "    }\n",
       "\n",
       "    .dataframe tbody tr th {\n",
       "        vertical-align: top;\n",
       "    }\n",
       "\n",
       "    .dataframe thead th {\n",
       "        text-align: right;\n",
       "    }\n",
       "</style>\n",
       "<table border=\"1\" class=\"dataframe\">\n",
       "  <thead>\n",
       "    <tr style=\"text-align: right;\">\n",
       "      <th></th>\n",
       "      <th>Div</th>\n",
       "      <th>Date</th>\n",
       "      <th>HomeTeam</th>\n",
       "      <th>AwayTeam</th>\n",
       "      <th>FTHG</th>\n",
       "      <th>FTAG</th>\n",
       "      <th>FTR</th>\n",
       "      <th>HTHG</th>\n",
       "      <th>HTAG</th>\n",
       "      <th>HTR</th>\n",
       "      <th>...</th>\n",
       "      <th>BbMx&gt;2.5</th>\n",
       "      <th>BbAv&gt;2.5</th>\n",
       "      <th>BbMx&lt;2.5</th>\n",
       "      <th>BbAv&lt;2.5</th>\n",
       "      <th>BbAH</th>\n",
       "      <th>BbAHh</th>\n",
       "      <th>BbMxAHH</th>\n",
       "      <th>BbAvAHH</th>\n",
       "      <th>BbMxAHA</th>\n",
       "      <th>BbAvAHA</th>\n",
       "    </tr>\n",
       "  </thead>\n",
       "  <tbody>\n",
       "    <tr>\n",
       "      <th>373</th>\n",
       "      <td>F1</td>\n",
       "      <td>29/05/11</td>\n",
       "      <td>Caen</td>\n",
       "      <td>Marseille</td>\n",
       "      <td>2</td>\n",
       "      <td>2</td>\n",
       "      <td>D</td>\n",
       "      <td>2</td>\n",
       "      <td>0</td>\n",
       "      <td>H</td>\n",
       "      <td>...</td>\n",
       "      <td>1.87</td>\n",
       "      <td>1.75</td>\n",
       "      <td>2.16</td>\n",
       "      <td>2.03</td>\n",
       "      <td>19</td>\n",
       "      <td>-0.25</td>\n",
       "      <td>1.92</td>\n",
       "      <td>1.88</td>\n",
       "      <td>2.04</td>\n",
       "      <td>1.99</td>\n",
       "    </tr>\n",
       "    <tr>\n",
       "      <th>374</th>\n",
       "      <td>F1</td>\n",
       "      <td>29/05/11</td>\n",
       "      <td>Lille</td>\n",
       "      <td>Rennes</td>\n",
       "      <td>3</td>\n",
       "      <td>2</td>\n",
       "      <td>H</td>\n",
       "      <td>1</td>\n",
       "      <td>1</td>\n",
       "      <td>D</td>\n",
       "      <td>...</td>\n",
       "      <td>1.95</td>\n",
       "      <td>1.86</td>\n",
       "      <td>2.10</td>\n",
       "      <td>1.92</td>\n",
       "      <td>20</td>\n",
       "      <td>-0.75</td>\n",
       "      <td>2.08</td>\n",
       "      <td>2.03</td>\n",
       "      <td>1.87</td>\n",
       "      <td>1.83</td>\n",
       "    </tr>\n",
       "    <tr>\n",
       "      <th>375</th>\n",
       "      <td>F1</td>\n",
       "      <td>29/05/11</td>\n",
       "      <td>Lorient</td>\n",
       "      <td>Auxerre</td>\n",
       "      <td>1</td>\n",
       "      <td>2</td>\n",
       "      <td>A</td>\n",
       "      <td>1</td>\n",
       "      <td>1</td>\n",
       "      <td>D</td>\n",
       "      <td>...</td>\n",
       "      <td>2.10</td>\n",
       "      <td>2.00</td>\n",
       "      <td>1.80</td>\n",
       "      <td>1.73</td>\n",
       "      <td>20</td>\n",
       "      <td>-0.25</td>\n",
       "      <td>2.14</td>\n",
       "      <td>2.09</td>\n",
       "      <td>1.83</td>\n",
       "      <td>1.78</td>\n",
       "    </tr>\n",
       "    <tr>\n",
       "      <th>376</th>\n",
       "      <td>F1</td>\n",
       "      <td>29/05/11</td>\n",
       "      <td>Monaco</td>\n",
       "      <td>Lyon</td>\n",
       "      <td>0</td>\n",
       "      <td>2</td>\n",
       "      <td>A</td>\n",
       "      <td>0</td>\n",
       "      <td>0</td>\n",
       "      <td>D</td>\n",
       "      <td>...</td>\n",
       "      <td>2.00</td>\n",
       "      <td>1.94</td>\n",
       "      <td>1.91</td>\n",
       "      <td>1.79</td>\n",
       "      <td>17</td>\n",
       "      <td>0.25</td>\n",
       "      <td>1.85</td>\n",
       "      <td>1.80</td>\n",
       "      <td>2.11</td>\n",
       "      <td>2.04</td>\n",
       "    </tr>\n",
       "    <tr>\n",
       "      <th>377</th>\n",
       "      <td>F1</td>\n",
       "      <td>29/05/11</td>\n",
       "      <td>Nancy</td>\n",
       "      <td>Lens</td>\n",
       "      <td>4</td>\n",
       "      <td>0</td>\n",
       "      <td>H</td>\n",
       "      <td>2</td>\n",
       "      <td>0</td>\n",
       "      <td>H</td>\n",
       "      <td>...</td>\n",
       "      <td>1.83</td>\n",
       "      <td>1.76</td>\n",
       "      <td>2.14</td>\n",
       "      <td>2.02</td>\n",
       "      <td>20</td>\n",
       "      <td>-1.00</td>\n",
       "      <td>1.73</td>\n",
       "      <td>1.69</td>\n",
       "      <td>2.30</td>\n",
       "      <td>2.21</td>\n",
       "    </tr>\n",
       "    <tr>\n",
       "      <th>378</th>\n",
       "      <td>F1</td>\n",
       "      <td>29/05/11</td>\n",
       "      <td>St Etienne</td>\n",
       "      <td>Paris SG</td>\n",
       "      <td>1</td>\n",
       "      <td>1</td>\n",
       "      <td>D</td>\n",
       "      <td>0</td>\n",
       "      <td>0</td>\n",
       "      <td>D</td>\n",
       "      <td>...</td>\n",
       "      <td>1.83</td>\n",
       "      <td>1.78</td>\n",
       "      <td>2.14</td>\n",
       "      <td>2.00</td>\n",
       "      <td>20</td>\n",
       "      <td>0.50</td>\n",
       "      <td>2.17</td>\n",
       "      <td>2.13</td>\n",
       "      <td>1.79</td>\n",
       "      <td>1.76</td>\n",
       "    </tr>\n",
       "    <tr>\n",
       "      <th>379</th>\n",
       "      <td>F1</td>\n",
       "      <td>29/05/11</td>\n",
       "      <td>Valenciennes</td>\n",
       "      <td>Nice</td>\n",
       "      <td>2</td>\n",
       "      <td>1</td>\n",
       "      <td>H</td>\n",
       "      <td>0</td>\n",
       "      <td>0</td>\n",
       "      <td>D</td>\n",
       "      <td>...</td>\n",
       "      <td>2.22</td>\n",
       "      <td>2.11</td>\n",
       "      <td>1.75</td>\n",
       "      <td>1.70</td>\n",
       "      <td>20</td>\n",
       "      <td>-0.50</td>\n",
       "      <td>1.95</td>\n",
       "      <td>1.92</td>\n",
       "      <td>1.98</td>\n",
       "      <td>1.95</td>\n",
       "    </tr>\n",
       "  </tbody>\n",
       "</table>\n",
       "<p>7 rows × 70 columns</p>\n",
       "</div>"
      ],
      "text/plain": [
       "    Div      Date      HomeTeam   AwayTeam  FTHG  FTAG FTR  HTHG  HTAG HTR  \\\n",
       "373  F1  29/05/11          Caen  Marseille     2     2   D     2     0   H   \n",
       "374  F1  29/05/11         Lille     Rennes     3     2   H     1     1   D   \n",
       "375  F1  29/05/11       Lorient    Auxerre     1     2   A     1     1   D   \n",
       "376  F1  29/05/11        Monaco       Lyon     0     2   A     0     0   D   \n",
       "377  F1  29/05/11         Nancy       Lens     4     0   H     2     0   H   \n",
       "378  F1  29/05/11    St Etienne   Paris SG     1     1   D     0     0   D   \n",
       "379  F1  29/05/11  Valenciennes       Nice     2     1   H     0     0   D   \n",
       "\n",
       "     ...  BbMx>2.5  BbAv>2.5  BbMx<2.5  BbAv<2.5  BbAH  BbAHh  BbMxAHH  \\\n",
       "373  ...      1.87      1.75      2.16      2.03    19  -0.25     1.92   \n",
       "374  ...      1.95      1.86      2.10      1.92    20  -0.75     2.08   \n",
       "375  ...      2.10      2.00      1.80      1.73    20  -0.25     2.14   \n",
       "376  ...      2.00      1.94      1.91      1.79    17   0.25     1.85   \n",
       "377  ...      1.83      1.76      2.14      2.02    20  -1.00     1.73   \n",
       "378  ...      1.83      1.78      2.14      2.00    20   0.50     2.17   \n",
       "379  ...      2.22      2.11      1.75      1.70    20  -0.50     1.95   \n",
       "\n",
       "     BbAvAHH  BbMxAHA  BbAvAHA  \n",
       "373     1.88     2.04     1.99  \n",
       "374     2.03     1.87     1.83  \n",
       "375     2.09     1.83     1.78  \n",
       "376     1.80     2.11     2.04  \n",
       "377     1.69     2.30     2.21  \n",
       "378     2.13     1.79     1.76  \n",
       "379     1.92     1.98     1.95  \n",
       "\n",
       "[7 rows x 70 columns]"
      ]
     },
     "execution_count": 4,
     "metadata": {},
     "output_type": "execute_result"
    }
   ],
   "source": [
    "data.tail(7)"
   ]
  },
  {
   "cell_type": "markdown",
   "id": "6c432da7",
   "metadata": {},
   "source": [
    "Pour déterminer que Lille a gagné à domicile, il faut que:\n",
    "- la HomeTeam soit Lille\n",
    "- FTHG (pour Full Time Home Goal) soit supérieur à FTAG (Full Time Away Goal: nombre de goal scorés par la \"AwayTeam\")\n",
    "- Pour faciliter l'exercice, on ne prends pas le cas de figure où il y a match nul à la 90' minute et qu'un but est inscrit pendant le temps additionnel"
   ]
  },
  {
   "cell_type": "markdown",
   "id": "5a055d8a",
   "metadata": {},
   "source": [
    "On peut savoir facilement que Lille a gagné 13 matchs à Domicile et 8 à  l'extérieur :"
   ]
  },
  {
   "cell_type": "code",
   "execution_count": 5,
   "id": "a68be618",
   "metadata": {},
   "outputs": [
    {
     "name": "stdout",
     "output_type": "stream",
     "text": [
      "(13, 70)\n",
      "(8, 70)\n"
     ]
    }
   ],
   "source": [
    "print(data.query(\"HomeTeam == 'Lille' & FTHG > FTAG\").shape)\n",
    "print(data.query(\"AwayTeam == 'Lille' & FTHG < FTAG\").shape)"
   ]
  },
  {
   "cell_type": "markdown",
   "id": "9b283365",
   "metadata": {},
   "source": [
    "Exercice:\n",
    "- Utilisez un CASE WHEN pour recenser les cas de figure où lille gagne à domicile (en utilisant la règle ci-dessus)\n",
    "- Englobez ce CASE WHEN dans un count pour compter le total de victoire à domicile\n",
    "- Faites la même chose avec les matchs à l'extérieur\n",
    "\n",
    "Hint: pour faire le count, il faut grouper sur quelque chose. Utilisez \"Div\": on veut les matchs gagnés en L1."
   ]
  },
  {
   "cell_type": "code",
   "execution_count": 16,
   "id": "1cfada4f",
   "metadata": {},
   "outputs": [
    {
     "data": {
      "text/plain": [
       "┌─────────┬──────────────┬──────────────┐\n",
       "│   Div   │ home_victory │ away_victory │\n",
       "│ varchar │    int64     │    int64     │\n",
       "├─────────┼──────────────┼──────────────┤\n",
       "│ F1      │           13 │            8 │\n",
       "└─────────┴──────────────┴──────────────┘"
      ]
     },
     "execution_count": 16,
     "metadata": {},
     "output_type": "execute_result"
    }
   ],
   "source": [
    "query_lille = \"\"\"\n",
    "SELECT\n",
    "    Div,\n",
    "    COUNT(\n",
    "        CASE WHEN HomeTeam = 'Lille' AND FTHG > FTAG THEN 1 END) AS home_victory, \n",
    "    COUNT(\n",
    "        CASE WHEN AwayTeam = 'Lille' AND FTHG < FTAG THEN 1 END) AS away_victory\n",
    "\n",
    "FROM data\n",
    "GROUP BY Div\n",
    "\"\"\"\n",
    "\n",
    "duckdb.sql(query_lille)"
   ]
  },
  {
   "cell_type": "code",
   "execution_count": null,
   "id": "34566085",
   "metadata": {},
   "outputs": [],
   "source": []
  },
  {
   "cell_type": "code",
   "execution_count": 17,
   "id": "2a562728",
   "metadata": {},
   "outputs": [
    {
     "data": {
      "text/plain": [
       "┌─────────┬─────────────────┬─────────────────┐\n",
       "│   Div   │ lille_wins_home │ lille_wins_away │\n",
       "│ varchar │      int64      │      int64      │\n",
       "├─────────┼─────────────────┼─────────────────┤\n",
       "│ F1      │              13 │               8 │\n",
       "└─────────┴─────────────────┴─────────────────┘"
      ]
     },
     "execution_count": 17,
     "metadata": {},
     "output_type": "execute_result"
    }
   ],
   "source": [
    "# %load solutions/5case_when_inside_count_football\n",
    "query = \"\"\"\n",
    "SELECT Div,\n",
    "    COUNT (\n",
    "        CASE \n",
    "            WHEN data.HomeTeam = 'Lille' AND FTHG > FTAG THEN 1 \n",
    "        END\n",
    "    ) AS lille_wins_home,\n",
    "    COUNT (\n",
    "        CASE \n",
    "            WHEN data.AwayTeam = 'Lille' AND FTHG < FTAG THEN 1 \n",
    "        END\n",
    "    ) AS lille_wins_away,\n",
    "FROM data\n",
    "GROUP BY Div\n",
    "\"\"\"\n",
    "duckdb.sql(query)\n"
   ]
  },
  {
   "cell_type": "markdown",
   "id": "ba741187",
   "metadata": {},
   "source": [
    "---"
   ]
  },
  {
   "cell_type": "markdown",
   "id": "3788b17d",
   "metadata": {},
   "source": [
    "##### Dans la requete ci-dessus, on compte des 1 mais on peut aussi bien compter n'importe quoi ;)"
   ]
  },
  {
   "cell_type": "code",
   "execution_count": 18,
   "id": "0996b547",
   "metadata": {},
   "outputs": [
    {
     "data": {
      "text/plain": [
       "┌─────────┬─────────────────┬─────────────────┐\n",
       "│   Div   │ lille_wins_home │ lille_wins_away │\n",
       "│ varchar │      int64      │      int64      │\n",
       "├─────────┼─────────────────┼─────────────────┤\n",
       "│ F1      │              13 │               8 │\n",
       "└─────────┴─────────────────┴─────────────────┘"
      ]
     },
     "execution_count": 18,
     "metadata": {},
     "output_type": "execute_result"
    }
   ],
   "source": [
    "query = \"\"\"\n",
    "SELECT Div,\n",
    "    COUNT (\n",
    "        CASE \n",
    "            WHEN data.HomeTeam = 'Lille' AND FTHG > FTAG THEN 'WHEREVER' \n",
    "        END\n",
    "    ) AS lille_wins_home,\n",
    "    COUNT (\n",
    "        CASE \n",
    "            WHEN data.AwayTeam = 'Lille' AND FTHG < FTAG THEN 'WHENEVER' \n",
    "        END\n",
    "    ) AS lille_wins_away,\n",
    "FROM data\n",
    "GROUP BY Div\n",
    "\"\"\"\n",
    "duckdb.sql(query)"
   ]
  },
  {
   "cell_type": "code",
   "execution_count": null,
   "id": "9700cdf8",
   "metadata": {},
   "outputs": [],
   "source": []
  },
  {
   "cell_type": "markdown",
   "id": "4127b819",
   "metadata": {},
   "source": [
    "## Mais, on a gagné 13 matchs sur combien exactement ? "
   ]
  },
  {
   "cell_type": "markdown",
   "id": "85788cd9",
   "metadata": {},
   "source": [
    "Option 1: utiliser le ELSE"
   ]
  },
  {
   "cell_type": "code",
   "execution_count": 25,
   "id": "4bd81323",
   "metadata": {},
   "outputs": [
    {
     "data": {
      "text/plain": [
       "┌─────────┬────────────────────┬─────────────────────┐\n",
       "│   Div   │  home_victory_pct  │  away_victory_pct   │\n",
       "│ varchar │       double       │       double        │\n",
       "├─────────┼────────────────────┼─────────────────────┤\n",
       "│ F1      │ 0.6842105263157895 │ 0.42105263157894735 │\n",
       "└─────────┴────────────────────┴─────────────────────┘"
      ]
     },
     "execution_count": 25,
     "metadata": {},
     "output_type": "execute_result"
    }
   ],
   "source": [
    "query_lille2 = \"\"\"\n",
    "SELECT\n",
    "    Div,\n",
    "    AVG(\n",
    "        CASE\n",
    "            WHEN HomeTeam = 'Lille' AND FTHG > FTAG THEN 1 \n",
    "            WHEN HomeTeam = 'Lille' AND FTHG <= FTAG THEN 0 \n",
    "        END\n",
    "        ) AS home_victory_pct,\n",
    "        \n",
    "    AVG(\n",
    "        CASE \n",
    "            WHEN AwayTeam = 'Lille' AND FTHG < FTAG THEN 1 \n",
    "            WHEN AwayTeam = 'Lille' AND FTHG >= FTAG THEN 0 \n",
    "        END\n",
    "        ) AS away_victory_pct\n",
    "\n",
    "FROM data\n",
    "GROUP BY Div\n",
    "\"\"\"\n",
    "\n",
    "duckdb.sql(query_lille2)"
   ]
  },
  {
   "cell_type": "code",
   "execution_count": null,
   "id": "e357289c",
   "metadata": {},
   "outputs": [],
   "source": []
  },
  {
   "cell_type": "code",
   "execution_count": null,
   "id": "cd681cb3",
   "metadata": {},
   "outputs": [],
   "source": []
  },
  {
   "cell_type": "code",
   "execution_count": null,
   "id": "14eed59a",
   "metadata": {},
   "outputs": [],
   "source": []
  },
  {
   "cell_type": "code",
   "execution_count": 31,
   "id": "d61df6b0",
   "metadata": {},
   "outputs": [],
   "source": [
    "query = \"\"\"\n",
    "SELECT Div,\n",
    "    AVG (\n",
    "        CASE \n",
    "            WHEN data.HomeTeam = 'Lille' AND FTHG > FTAG THEN 1 ELSE 0\n",
    "        END\n",
    "    ) AS lille_wins_home,\n",
    "    AVG (\n",
    "        CASE \n",
    "            WHEN data.AwayTeam = 'Lille' AND FTHG < FTAG THEN 1 ELSE 0\n",
    "        END\n",
    "    ) AS lille_wins_away,\n",
    "FROM data\n",
    "GROUP BY Div\n",
    "\"\"\""
   ]
  },
  {
   "cell_type": "code",
   "execution_count": 32,
   "id": "8b3d6153",
   "metadata": {},
   "outputs": [
    {
     "data": {
      "text/plain": [
       "┌─────────┬──────────────────────┬──────────────────────┐\n",
       "│   Div   │   lille_wins_home    │   lille_wins_away    │\n",
       "│ varchar │        double        │        double        │\n",
       "├─────────┼──────────────────────┼──────────────────────┤\n",
       "│ F1      │ 0.034210526315789476 │ 0.021052631578947368 │\n",
       "└─────────┴──────────────────────┴──────────────────────┘"
      ]
     },
     "execution_count": 32,
     "metadata": {},
     "output_type": "execute_result"
    }
   ],
   "source": [
    "# What ?!\n",
    "duckdb.sql(query)"
   ]
  },
  {
   "cell_type": "markdown",
   "id": "bbad3c8c",
   "metadata": {},
   "source": [
    "Enlever l'agrégat pour voir sur quoi on fait les calculs:"
   ]
  },
  {
   "cell_type": "code",
   "execution_count": 33,
   "id": "bdfcd012",
   "metadata": {},
   "outputs": [
    {
     "data": {
      "text/plain": [
       "┌──────────────┬──────────────┬─────────────────┬─────────────────┐\n",
       "│   HomeTeam   │   AwayTeam   │ lille_wins_home │ lille_wins_away │\n",
       "│   varchar    │   varchar    │      int32      │      int32      │\n",
       "├──────────────┼──────────────┼─────────────────┼─────────────────┤\n",
       "│ Rennes       │ Lille        │               0 │               0 │\n",
       "│ Lorient      │ Nice         │               0 │               0 │\n",
       "│ Montpellier  │ Caen         │               0 │               0 │\n",
       "│ Sochaux      │ Paris SG     │               0 │               0 │\n",
       "│ Valenciennes │ Lens         │               0 │               0 │\n",
       "│ Brest        │ Valenciennes │               0 │               0 │\n",
       "│ Lille        │ Montpellier  │               1 │               0 │\n",
       "│ Paris SG     │ Nice         │               0 │               0 │\n",
       "│ Lyon         │ Lille        │               0 │               0 │\n",
       "│ Lorient      │ Arles        │               0 │               0 │\n",
       "│    ·         │   ·          │               · │               · │\n",
       "│    ·         │   ·          │               · │               · │\n",
       "│    ·         │   ·          │               · │               · │\n",
       "│ Valenciennes │ Nancy        │               0 │               0 │\n",
       "│ Montpellier  │ Nice         │               0 │               0 │\n",
       "│ Lens         │ Brest        │               0 │               0 │\n",
       "│ Sochaux      │ Caen         │               0 │               0 │\n",
       "│ St Etienne   │ Nancy        │               0 │               0 │\n",
       "│ Paris SG     │ Valenciennes │               0 │               0 │\n",
       "│ Montpellier  │ Brest        │               0 │               0 │\n",
       "│ Marseille    │ Brest        │               0 │               0 │\n",
       "│ St Etienne   │ Rennes       │               0 │               0 │\n",
       "│ Lille        │ Rennes       │               1 │               0 │\n",
       "├──────────────┴──────────────┴─────────────────┴─────────────────┤\n",
       "│ 380 rows (20 shown)                                   4 columns │\n",
       "└─────────────────────────────────────────────────────────────────┘"
      ]
     },
     "execution_count": 33,
     "metadata": {},
     "output_type": "execute_result"
    }
   ],
   "source": [
    "query = \"\"\"\n",
    "SELECT HomeTeam, AwayTeam, \n",
    "        CASE \n",
    "            WHEN data.HomeTeam = 'Lille' AND FTHG > FTAG THEN 1 ELSE 0\n",
    "        END AS lille_wins_home,\n",
    "        CASE \n",
    "            WHEN data.AwayTeam = 'Lille' AND FTHG < FTAG THEN 1 ELSE 0\n",
    "        END AS lille_wins_away,\n",
    "FROM data\n",
    "GROUP BY HomeTeam, AwayTeam, lille_wins_away, lille_wins_home\n",
    "\"\"\"\n",
    "duckdb.sql(query)"
   ]
  },
  {
   "cell_type": "markdown",
   "id": "5239a2b6",
   "metadata": {},
   "source": [
    "### Exercice: comment faire pour ne pas prendre en compte tous ces matchs qui ne concernent pas Lille ?"
   ]
  },
  {
   "cell_type": "markdown",
   "id": "944608f7",
   "metadata": {},
   "source": [
    "On vient de voir que le \"ELSE\" mets un 0 à tout le reste"
   ]
  },
  {
   "cell_type": "markdown",
   "id": "31721016",
   "metadata": {},
   "source": [
    "Comment pourrait-on procéder pour n'avoir de 0 que quand le match concerne Lille (et que Lille a perdu) ?"
   ]
  },
  {
   "cell_type": "code",
   "execution_count": 34,
   "id": "9b68c5dc",
   "metadata": {},
   "outputs": [
    {
     "data": {
      "text/plain": [
       "┌─────────┬────────────────────┬─────────────────────┐\n",
       "│   Div   │  lille_wins_home   │   lille_wins_away   │\n",
       "│ varchar │       double       │       double        │\n",
       "├─────────┼────────────────────┼─────────────────────┤\n",
       "│ F1      │ 0.6842105263157895 │ 0.42105263157894735 │\n",
       "└─────────┴────────────────────┴─────────────────────┘"
      ]
     },
     "execution_count": 34,
     "metadata": {},
     "output_type": "execute_result"
    }
   ],
   "source": [
    "query = \"\"\"\n",
    "SELECT Div,\n",
    "    AVG (\n",
    "        CASE \n",
    "            WHEN data.HomeTeam = 'Lille' AND FTHG > FTAG THEN 1\n",
    "            WHEN data.HomeTeam = 'Lille' AND FTHG <= FTAG THEN 0\n",
    "        END\n",
    "    ) AS lille_wins_home,\n",
    "    AVG (\n",
    "        CASE \n",
    "            WHEN data.AwayTeam = 'Lille' AND FTHG < FTAG THEN 1\n",
    "            WHEN data.AwayTeam = 'Lille' AND FTHG >= FTAG THEN 0\n",
    "        END\n",
    "    ) AS lille_wins_away,\n",
    "FROM data\n",
    "GROUP BY Div\n",
    "\"\"\"\n",
    "duckdb.sql(query)"
   ]
  },
  {
   "cell_type": "markdown",
   "id": "063c3ad4",
   "metadata": {},
   "source": [
    "Exercice: refaites la requête sans les AVG() pour inspecter le tableau:"
   ]
  },
  {
   "cell_type": "code",
   "execution_count": null,
   "id": "87218bf2",
   "metadata": {},
   "outputs": [],
   "source": []
  },
  {
   "cell_type": "markdown",
   "id": "71b32023",
   "metadata": {},
   "source": [
    "### Alternative: utiliser une CTE ?"
   ]
  },
  {
   "cell_type": "code",
   "execution_count": 35,
   "id": "edbb95c7",
   "metadata": {},
   "outputs": [
    {
     "data": {
      "text/plain": [
       "┌─────────┬─────────────────────┬─────────────────────┐\n",
       "│   Div   │   lille_wins_home   │   lille_wins_away   │\n",
       "│ varchar │       double        │       double        │\n",
       "├─────────┼─────────────────────┼─────────────────────┤\n",
       "│ F1      │ 0.34210526315789475 │ 0.21052631578947367 │\n",
       "└─────────┴─────────────────────┴─────────────────────┘"
      ]
     },
     "execution_count": 35,
     "metadata": {},
     "output_type": "execute_result"
    }
   ],
   "source": [
    "query = \"\"\"\n",
    "WITH lille_data AS (\n",
    "    SELECT * FROM data\n",
    "    WHERE HomeTeam = 'Lille' OR AwayTeam = 'Lille'\n",
    ")\n",
    "\n",
    "SELECT Div,\n",
    "    AVG (\n",
    "        CASE \n",
    "            WHEN lille_data.HomeTeam = 'Lille' AND FTHG > FTAG THEN 1 \n",
    "            ELSE 0 \n",
    "        END\n",
    "    ) AS lille_wins_home,\n",
    "    AVG (\n",
    "        CASE \n",
    "            WHEN lille_data.AwayTeam = 'Lille' AND FTHG < FTAG THEN 1 \n",
    "            ELSE 0 \n",
    "        END\n",
    "    ) AS lille_wins_away,\n",
    "FROM lille_data\n",
    "GROUP BY Div\n",
    "\"\"\"\n",
    "duckdb.sql(query)"
   ]
  },
  {
   "cell_type": "markdown",
   "id": "f29f122b",
   "metadata": {},
   "source": [
    "Exercice: essayez de comprendre ce qui ne va pas dans cette requete\n",
    "\n",
    "(Hint: enlever l'agrégation pour avoir le tableau entier pourra vous aider)"
   ]
  },
  {
   "cell_type": "markdown",
   "id": "dfced533",
   "metadata": {},
   "source": [
    "#### Solution:"
   ]
  },
  {
   "cell_type": "markdown",
   "id": "15188829",
   "metadata": {},
   "source": [
    "A cause du ELSE 0, <br />\n",
    "on compte les matchs que Lille a joué à l'extérieur <br />\n",
    "dans le pourcentage de matchs que lille a gagné à domicile <br />\n",
    "et vice versa:"
   ]
  },
  {
   "cell_type": "code",
   "execution_count": 24,
   "id": "ee6a8309",
   "metadata": {},
   "outputs": [
    {
     "data": {
      "text/plain": [
       "┌─────────┬─────────────────┬─────────────────┐\n",
       "│   Div   │ lille_wins_home │ lille_wins_away │\n",
       "│ varchar │      int32      │      int32      │\n",
       "├─────────┼─────────────────┼─────────────────┤\n",
       "│ F1      │               0 │               0 │\n",
       "│ F1      │               0 │               0 │\n",
       "│ F1      │               1 │               0 │\n",
       "│ F1      │               1 │               0 │\n",
       "│ F1      │               0 │               0 │\n",
       "│ F1      │               1 │               0 │\n",
       "│ F1      │               1 │               0 │\n",
       "│ F1      │               1 │               0 │\n",
       "│ F1      │               0 │               0 │\n",
       "│ F1      │               1 │               0 │\n",
       "│ ·       │               · │               · │\n",
       "│ ·       │               · │               · │\n",
       "│ ·       │               · │               · │\n",
       "│ F1      │               0 │               1 │\n",
       "│ F1      │               0 │               0 │\n",
       "│ F1      │               0 │               0 │\n",
       "│ F1      │               0 │               1 │\n",
       "│ F1      │               0 │               1 │\n",
       "│ F1      │               0 │               0 │\n",
       "│ F1      │               0 │               0 │\n",
       "│ F1      │               0 │               1 │\n",
       "│ F1      │               0 │               1 │\n",
       "│ F1      │               0 │               0 │\n",
       "├─────────┴─────────────────┴─────────────────┤\n",
       "│ 38 rows (20 shown)                3 columns │\n",
       "└─────────────────────────────────────────────┘"
      ]
     },
     "execution_count": 24,
     "metadata": {},
     "output_type": "execute_result"
    }
   ],
   "source": [
    "query = \"\"\"\n",
    "WITH lille_data AS (\n",
    "    SELECT * FROM data\n",
    "    WHERE HomeTeam = 'Lille' OR AwayTeam = 'Lille'\n",
    ")\n",
    "\n",
    "SELECT Div,\n",
    "    (\n",
    "        CASE \n",
    "            WHEN lille_data.HomeTeam = 'Lille' AND FTHG > FTAG THEN 1 \n",
    "            ELSE 0 \n",
    "        END\n",
    "    ) AS lille_wins_home,\n",
    "    (\n",
    "        CASE \n",
    "            WHEN lille_data.AwayTeam = 'Lille' AND FTHG < FTAG THEN 1 \n",
    "            ELSE 0 \n",
    "        END\n",
    "    ) AS lille_wins_away,\n",
    "FROM lille_data\n",
    "\"\"\"\n",
    "duckdb.sql(query)"
   ]
  },
  {
   "cell_type": "code",
   "execution_count": 25,
   "id": "1a22fc0d",
   "metadata": {},
   "outputs": [
    {
     "data": {
      "text/plain": [
       "┌─────────┬─────────────────┬─────────────────┐\n",
       "│   Div   │ lille_wins_home │ lille_wins_away │\n",
       "│ varchar │      int32      │      int32      │\n",
       "├─────────┼─────────────────┼─────────────────┤\n",
       "│ F1      │            NULL │            NULL │\n",
       "│ F1      │            NULL │            NULL │\n",
       "│ F1      │               1 │            NULL │\n",
       "│ F1      │               1 │            NULL │\n",
       "│ F1      │            NULL │            NULL │\n",
       "│ F1      │               1 │            NULL │\n",
       "│ F1      │               1 │            NULL │\n",
       "│ F1      │               1 │            NULL │\n",
       "│ F1      │            NULL │            NULL │\n",
       "│ F1      │               1 │            NULL │\n",
       "│ ·       │               · │               · │\n",
       "│ ·       │               · │               · │\n",
       "│ ·       │               · │               · │\n",
       "│ F1      │            NULL │               1 │\n",
       "│ F1      │            NULL │            NULL │\n",
       "│ F1      │            NULL │            NULL │\n",
       "│ F1      │            NULL │               1 │\n",
       "│ F1      │            NULL │               1 │\n",
       "│ F1      │            NULL │            NULL │\n",
       "│ F1      │            NULL │            NULL │\n",
       "│ F1      │            NULL │               1 │\n",
       "│ F1      │            NULL │               1 │\n",
       "│ F1      │            NULL │            NULL │\n",
       "├─────────┴─────────────────┴─────────────────┤\n",
       "│ 38 rows (20 shown)                3 columns │\n",
       "└─────────────────────────────────────────────┘"
      ]
     },
     "execution_count": 25,
     "metadata": {},
     "output_type": "execute_result"
    }
   ],
   "source": [
    "query = \"\"\"\n",
    "WITH lille_data AS (\n",
    "    SELECT * FROM data\n",
    "    WHERE HomeTeam = 'Lille' OR AwayTeam = 'Lille'\n",
    ")\n",
    "\n",
    "SELECT Div,\n",
    "    (\n",
    "        CASE \n",
    "            WHEN lille_data.HomeTeam = 'Lille' AND FTHG > FTAG THEN 1 \n",
    "        END\n",
    "    ) AS lille_wins_home,\n",
    "    (\n",
    "        CASE \n",
    "            WHEN lille_data.AwayTeam = 'Lille' AND FTHG < FTAG THEN 1 \n",
    "        END\n",
    "    ) AS lille_wins_away,\n",
    "FROM lille_data\n",
    "\"\"\"\n",
    "duckdb.sql(query)"
   ]
  },
  {
   "cell_type": "markdown",
   "id": "077f1c1a",
   "metadata": {},
   "source": [
    "###### Conclusion: sans le ELSE 0, ça ne compte que des 1..."
   ]
  },
  {
   "cell_type": "code",
   "execution_count": 13,
   "id": "34648532",
   "metadata": {},
   "outputs": [
    {
     "data": {
      "image/jpeg": "[encoded data removed]",
      "text/html": [
       "\n",
       "        <iframe\n",
       "            width=\"600\"\n",
       "            height=\"300\"\n",
       "            src=\"https://www.youtube.com/embed/KjsSvjA5TuE\"\n",
       "            frameborder=\"0\"\n",
       "            allowfullscreen\n",
       "            \n",
       "        ></iframe>\n",
       "        "
      ],
      "text/plain": [
       "<IPython.lib.display.YouTubeVideo at 0x7fcc113506d0>"
      ]
     },
     "execution_count": 13,
     "metadata": {},
     "output_type": "execute_result"
    }
   ],
   "source": [
    "from IPython.display import YouTubeVideo\n",
    "\n",
    "YouTubeVideo('KjsSvjA5TuE', width=600, height=300)"
   ]
  },
  {
   "cell_type": "markdown",
   "id": "5c060ce1",
   "metadata": {},
   "source": [
    "###### Solution avec une CTE:"
   ]
  },
  {
   "cell_type": "code",
   "execution_count": 14,
   "id": "8a146251",
   "metadata": {
    "scrolled": true
   },
   "outputs": [
    {
     "data": {
      "text/plain": [
       "┌─────────┬─────────────────────┐\n",
       "│   Div   │   lille_wins_home   │\n",
       "│ varchar │       double        │\n",
       "├─────────┼─────────────────────┤\n",
       "│ F1      │ 0.42105263157894735 │\n",
       "│ F1      │  0.6842105263157895 │\n",
       "└─────────┴─────────────────────┘"
      ]
     },
     "execution_count": 14,
     "metadata": {},
     "output_type": "execute_result"
    }
   ],
   "source": [
    "query = \"\"\"\n",
    "WITH lille_home_data AS (\n",
    "    SELECT * FROM data\n",
    "    WHERE HomeTeam = 'Lille'\n",
    "),\n",
    "lille_away_data AS (\n",
    "    SELECT * FROM data\n",
    "    WHERE AwayTeam = 'Lille'\n",
    ")\n",
    "\n",
    "SELECT Div,\n",
    "    AVG (\n",
    "        CASE \n",
    "            WHEN FTHG > FTAG THEN 1 \n",
    "            ELSE 0 \n",
    "        END\n",
    "    ) AS lille_wins_home,\n",
    "    \n",
    "FROM lille_home_data,\n",
    "GROUP BY Div\n",
    "\n",
    "UNION  \n",
    "\n",
    "SELECT Div,\n",
    "    AVG (\n",
    "        CASE \n",
    "            WHEN FTHG < FTAG THEN 1 \n",
    "            ELSE 0 \n",
    "        END\n",
    "    ) AS lille_wins_away,\n",
    "FROM lille_away_data,\n",
    "GROUP BY Div\n",
    "\"\"\"\n",
    "duckdb.sql(query)"
   ]
  },
  {
   "cell_type": "code",
   "execution_count": null,
   "id": "b2fb071a",
   "metadata": {},
   "outputs": [],
   "source": []
  },
  {
   "cell_type": "code",
   "execution_count": null,
   "id": "b6c81798",
   "metadata": {},
   "outputs": [],
   "source": []
  },
  {
   "cell_type": "code",
   "execution_count": null,
   "id": "b1f2774d",
   "metadata": {},
   "outputs": [],
   "source": []
  },
  {
   "cell_type": "markdown",
   "id": "3e235748",
   "metadata": {},
   "source": [
    "A comparer à notre résultat original.\n",
    "\n",
    "Parfois, la CTE rends le code plus facile à lire.\n",
    "\n",
    "Ici, le CASE WHEN au sein de l'agrégation est beaucoup plus lisible:"
   ]
  },
  {
   "cell_type": "code",
   "execution_count": 15,
   "id": "71b94fe8",
   "metadata": {},
   "outputs": [
    {
     "data": {
      "text/plain": [
       "┌─────────┬────────────────────┬─────────────────────┐\n",
       "│   Div   │  lille_wins_home   │   lille_wins_away   │\n",
       "│ varchar │       double       │       double        │\n",
       "├─────────┼────────────────────┼─────────────────────┤\n",
       "│ F1      │ 0.6842105263157895 │ 0.42105263157894735 │\n",
       "└─────────┴────────────────────┴─────────────────────┘"
      ]
     },
     "execution_count": 15,
     "metadata": {},
     "output_type": "execute_result"
    }
   ],
   "source": [
    "query = \"\"\"\n",
    "SELECT Div,\n",
    "    AVG (\n",
    "        CASE \n",
    "            WHEN data.HomeTeam = 'Lille' AND FTHG > FTAG THEN 1\n",
    "            WHEN data.HomeTeam = 'Lille' AND FTHG <= FTAG THEN 0\n",
    "        END\n",
    "    ) AS lille_wins_home,\n",
    "    AVG (\n",
    "        CASE \n",
    "            WHEN data.AwayTeam = 'Lille' AND FTHG < FTAG THEN 1\n",
    "            WHEN data.AwayTeam = 'Lille' AND FTHG >= FTAG THEN 0\n",
    "        END\n",
    "    ) AS lille_wins_away,\n",
    "FROM data\n",
    "GROUP BY Div\n",
    "\"\"\"\n",
    "duckdb.sql(query)"
   ]
  },
  {
   "cell_type": "code",
   "execution_count": null,
   "id": "57ae7e18",
   "metadata": {},
   "outputs": [],
   "source": []
  }
 ],
 "metadata": {
  "kernelspec": {
   "display_name": "Python 3 (ipykernel)",
   "language": "python",
   "name": "python3"
  },
  "language_info": {
   "codemirror_mode": {
    "name": "ipython",
    "version": 3
   },
   "file_extension": ".py",
   "mimetype": "text/x-python",
   "name": "python",
   "nbconvert_exporter": "python",
   "pygments_lexer": "ipython3",
   "version": "3.9.13"
  }
 },
 "nbformat": 4,
 "nbformat_minor": 5
}
