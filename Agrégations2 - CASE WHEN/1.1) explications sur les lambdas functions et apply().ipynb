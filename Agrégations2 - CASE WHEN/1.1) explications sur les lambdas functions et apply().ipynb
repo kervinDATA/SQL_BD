{
 "cells": [
  {
   "cell_type": "markdown",
   "id": "de3ead90",
   "metadata": {},
   "source": [
    "Dans la vidéo introductive sur les CASE WHEN, <br /> \n",
    "je passe un peu vite sur les lambda functions et les méthodes .apply() et .assign()"
   ]
  },
  {
   "cell_type": "markdown",
   "id": "84303f75",
   "metadata": {},
   "source": [
    "J'ai décidé de vous faire ce petit notebook pour expliquer leurs fonctionnements"
   ]
  },
  {
   "cell_type": "code",
   "execution_count": 1,
   "id": "dc872c8b",
   "metadata": {},
   "outputs": [],
   "source": [
    "import pandas as pd"
   ]
  },
  {
   "cell_type": "markdown",
   "id": "bfbff32c",
   "metadata": {},
   "source": [
    "## Data"
   ]
  },
  {
   "cell_type": "markdown",
   "id": "8276faea",
   "metadata": {},
   "source": [
    "On réutilise la table des salaires du notebook précédent"
   ]
  },
  {
   "cell_type": "code",
   "execution_count": 11,
   "id": "c6e4efd2",
   "metadata": {},
   "outputs": [],
   "source": [
    "data = {\n",
    "    'name': ['Toufik', 'Jean-Nicolas', 'Daniel', 'Kaouter', 'Sylvie', \n",
    "             'Sebastien', 'Diane', 'Romain', 'François', 'Anna',\n",
    "             'Zeinaba', 'Gregory', 'Karima', 'Arthur', 'Benjamin'],\n",
    "    'wage': [60000, 75000, 55000, 80000, 70000, \n",
    "             90000, 65000, 72000, 68000, 85000, \n",
    "             100000, 120000, 95000, 83000, 110000],\n",
    "    'department': ['IT', 'HR', 'SALES', 'IT', 'IT', \n",
    "                   'HR', 'SALES', 'IT', 'HR', 'SALES', \n",
    "                   'IT', 'IT', 'HR', 'SALES', 'CEO']\n",
    "}\n",
    "\n",
    "wages = pd.DataFrame(data)"
   ]
  },
  {
   "cell_type": "markdown",
   "id": "e5135af1",
   "metadata": {},
   "source": [
    "## Apply"
   ]
  },
  {
   "cell_type": "markdown",
   "id": "1268ff15",
   "metadata": {},
   "source": [
    "La méthode apply permet d'appliquer une fonction à toute une colonne au sein d'une dataframe\n",
    "\n",
    "Exemple:"
   ]
  },
  {
   "cell_type": "code",
   "execution_count": 4,
   "id": "80fe9975",
   "metadata": {},
   "outputs": [],
   "source": [
    "def ma_super_fonction(x):\n",
    "    if x[0] == \"Z\":\n",
    "        return \"Z comme Zorro\"\n",
    "    else:\n",
    "        return x"
   ]
  },
  {
   "cell_type": "code",
   "execution_count": 9,
   "id": "14b8e6e0",
   "metadata": {},
   "outputs": [
    {
     "data": {
      "text/plain": [
       "'Z comme Zorro'"
      ]
     },
     "metadata": {},
     "output_type": "display_data"
    },
    {
     "data": {
      "text/plain": [
       "'Gregory'"
      ]
     },
     "metadata": {},
     "output_type": "display_data"
    }
   ],
   "source": [
    "display(ma_super_fonction(\"Zeinaba\"))\n",
    "display(ma_super_fonction(\"Gregory\"))"
   ]
  },
  {
   "cell_type": "markdown",
   "id": "25c99693",
   "metadata": {},
   "source": [
    "Ma super fonction a un comportement particulier <br />\n",
    "Pour les chaînes de caractères <br />\n",
    "qui commencent par un \"Z\" <br />\n",
    "\n",
    "Ca tombe bien, on a un exemple dans les 5 dernières lignes de la df:"
   ]
  },
  {
   "cell_type": "code",
   "execution_count": 12,
   "id": "ba6c900f",
   "metadata": {},
   "outputs": [
    {
     "data": {
      "text/html": [
       "<div>\n",
       "<style scoped>\n",
       "    .dataframe tbody tr th:only-of-type {\n",
       "        vertical-align: middle;\n",
       "    }\n",
       "\n",
       "    .dataframe tbody tr th {\n",
       "        vertical-align: top;\n",
       "    }\n",
       "\n",
       "    .dataframe thead th {\n",
       "        text-align: right;\n",
       "    }\n",
       "</style>\n",
       "<table border=\"1\" class=\"dataframe\">\n",
       "  <thead>\n",
       "    <tr style=\"text-align: right;\">\n",
       "      <th></th>\n",
       "      <th>name</th>\n",
       "      <th>wage</th>\n",
       "      <th>department</th>\n",
       "    </tr>\n",
       "  </thead>\n",
       "  <tbody>\n",
       "    <tr>\n",
       "      <th>10</th>\n",
       "      <td>Zeinaba</td>\n",
       "      <td>100000</td>\n",
       "      <td>IT</td>\n",
       "    </tr>\n",
       "    <tr>\n",
       "      <th>11</th>\n",
       "      <td>Gregory</td>\n",
       "      <td>120000</td>\n",
       "      <td>IT</td>\n",
       "    </tr>\n",
       "    <tr>\n",
       "      <th>12</th>\n",
       "      <td>Karima</td>\n",
       "      <td>95000</td>\n",
       "      <td>HR</td>\n",
       "    </tr>\n",
       "    <tr>\n",
       "      <th>13</th>\n",
       "      <td>Arthur</td>\n",
       "      <td>83000</td>\n",
       "      <td>SALES</td>\n",
       "    </tr>\n",
       "    <tr>\n",
       "      <th>14</th>\n",
       "      <td>Benjamin</td>\n",
       "      <td>110000</td>\n",
       "      <td>CEO</td>\n",
       "    </tr>\n",
       "  </tbody>\n",
       "</table>\n",
       "</div>"
      ],
      "text/plain": [
       "        name    wage department\n",
       "10   Zeinaba  100000         IT\n",
       "11   Gregory  120000         IT\n",
       "12    Karima   95000         HR\n",
       "13    Arthur   83000      SALES\n",
       "14  Benjamin  110000        CEO"
      ]
     },
     "execution_count": 12,
     "metadata": {},
     "output_type": "execute_result"
    }
   ],
   "source": [
    "wages.tail()  # .tail(n) affiche les n dernières lignes d'une df (par défaut, 5)"
   ]
  },
  {
   "cell_type": "markdown",
   "id": "d5dca4ab",
   "metadata": {},
   "source": [
    "Ici, le premier prenom commence par Z, <br />\n",
    "Donc ma_super_fonction le remplace"
   ]
  },
  {
   "cell_type": "code",
   "execution_count": 14,
   "id": "2712cd96",
   "metadata": {
    "scrolled": true
   },
   "outputs": [
    {
     "data": {
      "text/plain": [
       "10    Z comme Zorro\n",
       "11          Gregory\n",
       "12           Karima\n",
       "13           Arthur\n",
       "14         Benjamin\n",
       "Name: name, dtype: object"
      ]
     },
     "execution_count": 14,
     "metadata": {},
     "output_type": "execute_result"
    }
   ],
   "source": [
    "wages.tail()[\"name\"].apply(ma_super_fonction) "
   ]
  },
  {
   "cell_type": "markdown",
   "id": "1a12e525",
   "metadata": {},
   "source": [
    "Notez qu'on a passé ma_super_fonction sans mettre de parenthèses.\n",
    "\n",
    "Avec les parenthèses, ça ne marche plus:"
   ]
  },
  {
   "cell_type": "code",
   "execution_count": 15,
   "id": "74589060",
   "metadata": {},
   "outputs": [
    {
     "ename": "TypeError",
     "evalue": "ma_super_fonction() missing 1 required positional argument: 'x'",
     "output_type": "error",
     "traceback": [
      "\u001b[0;31m---------------------------------------------------------------------------\u001b[0m",
      "\u001b[0;31mTypeError\u001b[0m                                 Traceback (most recent call last)",
      "Cell \u001b[0;32mIn[15], line 1\u001b[0m\n\u001b[0;32m----> 1\u001b[0m wages\u001b[38;5;241m.\u001b[39mtail()[\u001b[38;5;124m\"\u001b[39m\u001b[38;5;124mname\u001b[39m\u001b[38;5;124m\"\u001b[39m]\u001b[38;5;241m.\u001b[39mapply(ma_super_fonction())\n",
      "\u001b[0;31mTypeError\u001b[0m: ma_super_fonction() missing 1 required positional argument: 'x'"
     ]
    }
   ],
   "source": [
    "wages.tail()[\"name\"].apply(ma_super_fonction()) "
   ]
  },
  {
   "cell_type": "markdown",
   "id": "e988e355",
   "metadata": {},
   "source": [
    "## Lambda functions\n"
   ]
  },
  {
   "cell_type": "markdown",
   "id": "329f3d0e",
   "metadata": {},
   "source": [
    "En Python, si vous n'avez pas envie de déclarer une fonction <br />\n",
    "pour un traitement dont vous savez que vous ne l'utiliserez qu'une fois, <br />\n",
    "vous pouvez utiliser une fonction lambda:"
   ]
  },
  {
   "cell_type": "code",
   "execution_count": 17,
   "id": "3830f6bf",
   "metadata": {
    "cell_style": "split"
   },
   "outputs": [],
   "source": [
    "ma_func = lambda x: x**2"
   ]
  },
  {
   "cell_type": "code",
   "execution_count": 19,
   "id": "e07a2da2",
   "metadata": {
    "cell_style": "split"
   },
   "outputs": [],
   "source": [
    "def square(x):\n",
    "    return x ** 2"
   ]
  },
  {
   "cell_type": "code",
   "execution_count": 18,
   "id": "d59ddb3e",
   "metadata": {
    "cell_style": "split"
   },
   "outputs": [
    {
     "data": {
      "text/plain": [
       "4"
      ]
     },
     "execution_count": 18,
     "metadata": {},
     "output_type": "execute_result"
    }
   ],
   "source": [
    "ma_func(2)"
   ]
  },
  {
   "cell_type": "code",
   "execution_count": 20,
   "id": "842e289e",
   "metadata": {
    "cell_style": "split"
   },
   "outputs": [
    {
     "data": {
      "text/plain": [
       "4"
      ]
     },
     "execution_count": 20,
     "metadata": {},
     "output_type": "execute_result"
    }
   ],
   "source": [
    "square(2)"
   ]
  },
  {
   "cell_type": "markdown",
   "id": "5c3fad13",
   "metadata": {},
   "source": [
    "Par conséquent, on peut passer une lambda function dans apply():"
   ]
  },
  {
   "cell_type": "code",
   "execution_count": 21,
   "id": "46e85a7c",
   "metadata": {},
   "outputs": [
    {
     "data": {
      "text/plain": [
       "10    100000\n",
       "11    120000\n",
       "12     95000\n",
       "13     83000\n",
       "14    110000\n",
       "Name: wage, dtype: int64"
      ]
     },
     "execution_count": 21,
     "metadata": {},
     "output_type": "execute_result"
    }
   ],
   "source": [
    "wages.tail()[\"wage\"]"
   ]
  },
  {
   "cell_type": "markdown",
   "id": "d5c2ff8a",
   "metadata": {},
   "source": [
    "On pourrait par exemple augmenter tout le monde de 2 000€ :"
   ]
  },
  {
   "cell_type": "code",
   "execution_count": 22,
   "id": "06459bb4",
   "metadata": {},
   "outputs": [
    {
     "data": {
      "text/plain": [
       "10    102000\n",
       "11    122000\n",
       "12     97000\n",
       "13     85000\n",
       "14    112000\n",
       "Name: wage, dtype: int64"
      ]
     },
     "execution_count": 22,
     "metadata": {},
     "output_type": "execute_result"
    }
   ],
   "source": [
    "wages.tail()[\"wage\"].apply(lambda x: x + 2000)"
   ]
  },
  {
   "cell_type": "markdown",
   "id": "b87f08ec",
   "metadata": {},
   "source": [
    "On peut même mettre des IF / ELSE dans les lambdas ! <br />\n",
    "Ici, on instaure un revenu minimum de 90 000 € <br />\n",
    "Toute personne sous ce revenu passe directement à 90k:"
   ]
  },
  {
   "cell_type": "code",
   "execution_count": 23,
   "id": "2eb8af73",
   "metadata": {},
   "outputs": [
    {
     "data": {
      "text/plain": [
       "10    100000\n",
       "11    120000\n",
       "12     95000\n",
       "13     90000\n",
       "14    110000\n",
       "Name: wage, dtype: int64"
      ]
     },
     "execution_count": 23,
     "metadata": {},
     "output_type": "execute_result"
    }
   ],
   "source": [
    "wages.tail()[\"wage\"].apply(lambda x: 90000 if x < 90000 else x)"
   ]
  },
  {
   "cell_type": "markdown",
   "id": "9e47454d",
   "metadata": {},
   "source": [
    "Note: si vous devez commencer à faire un \"elif\" ou des if imbriqués, <br />\n",
    "je vous conseille de créer une vraie fonction, <br />\n",
    "votre code sera plus lisible"
   ]
  },
  {
   "cell_type": "markdown",
   "id": "b8d99795",
   "metadata": {},
   "source": [
    "## Apply on whole DF"
   ]
  },
  {
   "cell_type": "markdown",
   "id": "3b1597e8",
   "metadata": {},
   "source": [
    "Apply passe chaque colonne à la lambda:"
   ]
  },
  {
   "cell_type": "code",
   "execution_count": 44,
   "id": "e45fba7c",
   "metadata": {},
   "outputs": [
    {
     "data": {
      "text/plain": [
       "name          <class 'pandas.core.series.Series'>\n",
       "wage          <class 'pandas.core.series.Series'>\n",
       "department    <class 'pandas.core.series.Series'>\n",
       "dtype: object"
      ]
     },
     "execution_count": 44,
     "metadata": {},
     "output_type": "execute_result"
    }
   ],
   "source": [
    "wages.apply(lambda x: type(x))"
   ]
  },
  {
   "cell_type": "markdown",
   "id": "9881b576",
   "metadata": {},
   "source": [
    "Du coup, on peut utiliser toutes les méthodes habituelles des pd.Series:"
   ]
  },
  {
   "cell_type": "code",
   "execution_count": 43,
   "id": "38d3902f",
   "metadata": {},
   "outputs": [
    {
     "data": {
      "text/plain": [
       "name          [Toufik, Jean-Nicolas, Daniel, Kaouter, Sylvie...\n",
       "wage          [60000, 75000, 55000, 80000, 70000, 90000, 650...\n",
       "department                                 [IT, HR, SALES, CEO]\n",
       "dtype: object"
      ]
     },
     "execution_count": 43,
     "metadata": {},
     "output_type": "execute_result"
    }
   ],
   "source": [
    "wages.apply(lambda x: x.unique())"
   ]
  },
  {
   "cell_type": "code",
   "execution_count": 46,
   "id": "ea1a5d9e",
   "metadata": {},
   "outputs": [
    {
     "data": {
      "text/plain": [
       "name          15\n",
       "wage          15\n",
       "department     4\n",
       "dtype: int64"
      ]
     },
     "execution_count": 46,
     "metadata": {},
     "output_type": "execute_result"
    }
   ],
   "source": [
    "wages.apply(lambda x: x.nunique())"
   ]
  },
  {
   "cell_type": "markdown",
   "id": "14f66d3c",
   "metadata": {},
   "source": [
    "Personnellement, j'utilise bien plus souvent le apply() sur une colonne en particulier que sur l'ensemble de la DataFrame"
   ]
  },
  {
   "cell_type": "markdown",
   "id": "d494403e",
   "metadata": {},
   "source": [
    "Si vous avez des questions / incompréhensions, n'hésitez pas à laisser un commentaire en bas de la page des vidéos, j'ajouterai peut-être du contenu à ce notebook en conséquence ;) "
   ]
  },
  {
   "cell_type": "code",
   "execution_count": null,
   "id": "684e5266",
   "metadata": {},
   "outputs": [],
   "source": []
  }
 ],
 "metadata": {
  "kernelspec": {
   "display_name": "Python 3 (ipykernel)",
   "language": "python",
   "name": "python3"
  },
  "language_info": {
   "codemirror_mode": {
    "name": "ipython",
    "version": 3
   },
   "file_extension": ".py",
   "mimetype": "text/x-python",
   "name": "python",
   "nbconvert_exporter": "python",
   "pygments_lexer": "ipython3",
   "version": "3.11.4"
  }
 },
 "nbformat": 4,
 "nbformat_minor": 5
}
