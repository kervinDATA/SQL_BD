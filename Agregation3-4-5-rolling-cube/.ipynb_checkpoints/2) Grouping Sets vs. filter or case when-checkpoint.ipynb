{
 "cells": [
  {
   "cell_type": "code",
   "execution_count": 1,
   "id": "53149cb8",
   "metadata": {},
   "outputs": [],
   "source": [
    "import pandas as pd\n",
    "import duckdb"
   ]
  },
  {
   "cell_type": "markdown",
   "id": "a01f0b7c",
   "metadata": {},
   "source": [
    "# Filter (or CASE WHEN)"
   ]
  },
  {
   "cell_type": "code",
   "execution_count": 2,
   "id": "b005d612",
   "metadata": {},
   "outputs": [],
   "source": [
    "data = {\n",
    "    'store_id': [\"Armentieres\", \"Armentieres\", \"Armentieres\", \"Armentieres\", \"Lille\", \"Lille\", \"Lille\", \"Lille\", \"Douai\", \"Douai\", \"Douai\", \"Douai\"],\n",
    "    'product_name': ['redbull', 'chips', 'wine', 'redbull', 'redbull', 'chips', 'wine', 'icecream', 'redbull', 'chips', 'wine', 'icecream'],\n",
    "    'amount': [45, 60, 60, 45, 100, 140, 190, 170, 55, 70, 20, 45]\n",
    "}\n",
    "df = pd.DataFrame(data)"
   ]
  },
  {
   "cell_type": "markdown",
   "id": "fdac932f",
   "metadata": {},
   "source": [
    "On a vu ensemble qu'un grouping set nous permet d'obtenir cette table:"
   ]
  },
  {
   "cell_type": "code",
   "execution_count": 3,
   "id": "9253a55f",
   "metadata": {},
   "outputs": [
    {
     "data": {
      "text/plain": [
       "┌─────────────┬───────────────┬────────────┐\n",
       "│  store_id   │ product_name  │ sum_amount │\n",
       "│   varchar   │    varchar    │   int128   │\n",
       "├─────────────┼───────────────┼────────────┤\n",
       "│ Armentieres │ chips         │         60 │\n",
       "│ Armentieres │ tous_produits │        210 │\n",
       "│ Armentieres │ redbull       │         90 │\n",
       "│ Armentieres │ wine          │         60 │\n",
       "│ Douai       │ icecream      │         45 │\n",
       "│ Douai       │ chips         │         70 │\n",
       "│ Douai       │ tous_produits │        190 │\n",
       "│ Douai       │ redbull       │         55 │\n",
       "│ Douai       │ wine          │         20 │\n",
       "│ Lille       │ redbull       │        100 │\n",
       "│ Lille       │ wine          │        190 │\n",
       "│ Lille       │ icecream      │        170 │\n",
       "│ Lille       │ chips         │        140 │\n",
       "│ Lille       │ tous_produits │        600 │\n",
       "├─────────────┴───────────────┴────────────┤\n",
       "│ 14 rows                        3 columns │\n",
       "└──────────────────────────────────────────┘"
      ]
     },
     "execution_count": 3,
     "metadata": {},
     "output_type": "execute_result"
    }
   ],
   "source": [
    "query = \"\"\"\n",
    "SELECT store_id, \n",
    "COALESCE(product_name, 'tous_produits') AS product_name, \n",
    "SUM(amount) as sum_amount \n",
    "FROM df\n",
    "GROUP BY \n",
    "GROUPING SETS ((store_id, product_name), store_id)\n",
    "ORDER BY store_id\n",
    "\"\"\"\n",
    "duckdb.sql(query)"
   ]
  },
  {
   "cell_type": "markdown",
   "id": "12ed4c85",
   "metadata": {},
   "source": [
    "Problème: on avait dû faire un self-join un peu tiré par les cheveux "
   ]
  },
  {
   "cell_type": "markdown",
   "id": "51c42254",
   "metadata": {},
   "source": [
    "Dans ce notebook, on va découvrir Filter"
   ]
  },
  {
   "cell_type": "markdown",
   "id": "6f53df29",
   "metadata": {},
   "source": [
    "## La syntaxe de filter"
   ]
  },
  {
   "cell_type": "markdown",
   "id": "97987793",
   "metadata": {},
   "source": [
    "Explication avec la table des salaires:"
   ]
  },
  {
   "cell_type": "code",
   "execution_count": 4,
   "id": "c36ac8cf",
   "metadata": {},
   "outputs": [
    {
     "data": {
      "text/html": [
       "<div>\n",
       "<style scoped>\n",
       "    .dataframe tbody tr th:only-of-type {\n",
       "        vertical-align: middle;\n",
       "    }\n",
       "\n",
       "    .dataframe tbody tr th {\n",
       "        vertical-align: top;\n",
       "    }\n",
       "\n",
       "    .dataframe thead th {\n",
       "        text-align: right;\n",
       "    }\n",
       "</style>\n",
       "<table border=\"1\" class=\"dataframe\">\n",
       "  <thead>\n",
       "    <tr style=\"text-align: right;\">\n",
       "      <th></th>\n",
       "      <th>name</th>\n",
       "      <th>wage</th>\n",
       "      <th>department</th>\n",
       "    </tr>\n",
       "  </thead>\n",
       "  <tbody>\n",
       "    <tr>\n",
       "      <th>0</th>\n",
       "      <td>Toufik</td>\n",
       "      <td>60000</td>\n",
       "      <td>IT</td>\n",
       "    </tr>\n",
       "    <tr>\n",
       "      <th>1</th>\n",
       "      <td>Jean-Nicolas</td>\n",
       "      <td>75000</td>\n",
       "      <td>HR</td>\n",
       "    </tr>\n",
       "    <tr>\n",
       "      <th>2</th>\n",
       "      <td>Daniel</td>\n",
       "      <td>55000</td>\n",
       "      <td>SALES</td>\n",
       "    </tr>\n",
       "    <tr>\n",
       "      <th>3</th>\n",
       "      <td>Kaouter</td>\n",
       "      <td>80000</td>\n",
       "      <td>IT</td>\n",
       "    </tr>\n",
       "    <tr>\n",
       "      <th>4</th>\n",
       "      <td>Sylvie</td>\n",
       "      <td>70000</td>\n",
       "      <td>IT</td>\n",
       "    </tr>\n",
       "    <tr>\n",
       "      <th>5</th>\n",
       "      <td>Sebastien</td>\n",
       "      <td>90000</td>\n",
       "      <td>HR</td>\n",
       "    </tr>\n",
       "    <tr>\n",
       "      <th>6</th>\n",
       "      <td>Diane</td>\n",
       "      <td>65000</td>\n",
       "      <td>SALES</td>\n",
       "    </tr>\n",
       "    <tr>\n",
       "      <th>7</th>\n",
       "      <td>Romain</td>\n",
       "      <td>72000</td>\n",
       "      <td>IT</td>\n",
       "    </tr>\n",
       "    <tr>\n",
       "      <th>8</th>\n",
       "      <td>François</td>\n",
       "      <td>68000</td>\n",
       "      <td>HR</td>\n",
       "    </tr>\n",
       "    <tr>\n",
       "      <th>9</th>\n",
       "      <td>Anna</td>\n",
       "      <td>85000</td>\n",
       "      <td>SALES</td>\n",
       "    </tr>\n",
       "    <tr>\n",
       "      <th>10</th>\n",
       "      <td>Zeinaba</td>\n",
       "      <td>100000</td>\n",
       "      <td>IT</td>\n",
       "    </tr>\n",
       "    <tr>\n",
       "      <th>11</th>\n",
       "      <td>Gregory</td>\n",
       "      <td>120000</td>\n",
       "      <td>IT</td>\n",
       "    </tr>\n",
       "    <tr>\n",
       "      <th>12</th>\n",
       "      <td>Karima</td>\n",
       "      <td>95000</td>\n",
       "      <td>HR</td>\n",
       "    </tr>\n",
       "    <tr>\n",
       "      <th>13</th>\n",
       "      <td>Arthur</td>\n",
       "      <td>83000</td>\n",
       "      <td>SALES</td>\n",
       "    </tr>\n",
       "    <tr>\n",
       "      <th>14</th>\n",
       "      <td>Benjamin</td>\n",
       "      <td>110000</td>\n",
       "      <td>CEO</td>\n",
       "    </tr>\n",
       "  </tbody>\n",
       "</table>\n",
       "</div>"
      ],
      "text/plain": [
       "            name    wage department\n",
       "0         Toufik   60000         IT\n",
       "1   Jean-Nicolas   75000         HR\n",
       "2         Daniel   55000      SALES\n",
       "3        Kaouter   80000         IT\n",
       "4         Sylvie   70000         IT\n",
       "5      Sebastien   90000         HR\n",
       "6          Diane   65000      SALES\n",
       "7         Romain   72000         IT\n",
       "8       François   68000         HR\n",
       "9           Anna   85000      SALES\n",
       "10       Zeinaba  100000         IT\n",
       "11       Gregory  120000         IT\n",
       "12        Karima   95000         HR\n",
       "13        Arthur   83000      SALES\n",
       "14      Benjamin  110000        CEO"
      ]
     },
     "execution_count": 4,
     "metadata": {},
     "output_type": "execute_result"
    }
   ],
   "source": [
    "data = {\n",
    "    'name': ['Toufik', 'Jean-Nicolas', 'Daniel', 'Kaouter', 'Sylvie', \n",
    "             'Sebastien', 'Diane', 'Romain', 'François', 'Anna',\n",
    "             'Zeinaba', 'Gregory', 'Karima', 'Arthur', 'Benjamin'],\n",
    "    'wage': [60000, 75000, 55000, 80000, 70000, \n",
    "             90000, 65000, 72000, 68000, 85000, \n",
    "             100000, 120000, 95000, 83000, 110000],\n",
    "    'department': ['IT', 'HR', 'SALES', 'IT', 'IT', \n",
    "                   'HR', 'SALES', 'IT', 'HR', 'SALES', \n",
    "                   'IT', 'IT', 'HR', 'SALES', 'CEO']\n",
    "}\n",
    "\n",
    "wages = pd.DataFrame(data)\n",
    "\n",
    "wages"
   ]
  },
  {
   "cell_type": "markdown",
   "id": "c391b1a0",
   "metadata": {},
   "source": [
    "En utilisant FILTER, on peut choisir <br />\n",
    "sur quelle sous-partie de notre donnée <br />\n",
    "on veut faire une agrégation:"
   ]
  },
  {
   "cell_type": "code",
   "execution_count": 5,
   "id": "32d0fa15",
   "metadata": {},
   "outputs": [
    {
     "data": {
      "text/plain": [
       "┌────────────┬─────────────────┬────────────────────┐\n",
       "│ department │ masse_salariale │ masse_salariale_IT │\n",
       "│  varchar   │     int128      │       int128       │\n",
       "├────────────┼─────────────────┼────────────────────┤\n",
       "│ HR         │          328000 │               NULL │\n",
       "│ CEO        │          110000 │               NULL │\n",
       "│ SALES      │          288000 │               NULL │\n",
       "│ IT         │          502000 │             502000 │\n",
       "└────────────┴─────────────────┴────────────────────┘"
      ]
     },
     "execution_count": 5,
     "metadata": {},
     "output_type": "execute_result"
    }
   ],
   "source": [
    "query = \"\"\"\n",
    "SELECT department,\n",
    "SUM(wage) masse_salariale,\n",
    "SUM(wage) FILTER(WHERE department = 'IT') as masse_salariale_IT, \n",
    "FROM wages\n",
    "GROUP BY department\n",
    "\"\"\"\n",
    "duckdb.sql(query)"
   ]
  },
  {
   "cell_type": "code",
   "execution_count": 6,
   "id": "2318f3f3",
   "metadata": {},
   "outputs": [
    {
     "data": {
      "text/plain": [
       "┌────────────────────┬─────────────────┐\n",
       "│ masse_salariale_IT │ masse_salariale │\n",
       "│       int128       │     int128      │\n",
       "├────────────────────┼─────────────────┤\n",
       "│             502000 │         1228000 │\n",
       "└────────────────────┴─────────────────┘"
      ]
     },
     "execution_count": 6,
     "metadata": {},
     "output_type": "execute_result"
    }
   ],
   "source": [
    "query = \"\"\"\n",
    "SELECT \n",
    "SUM(wage) FILTER(WHERE department = 'IT') as masse_salariale_IT, \n",
    "SUM(wage) masse_salariale,\n",
    "FROM wages\n",
    "\"\"\"\n",
    "duckdb.sql(query)"
   ]
  },
  {
   "cell_type": "markdown",
   "id": "01f133a7",
   "metadata": {},
   "source": [
    "## Retour au use-case redbull"
   ]
  },
  {
   "cell_type": "code",
   "execution_count": 7,
   "id": "5789b577",
   "metadata": {},
   "outputs": [
    {
     "data": {
      "text/plain": [
       "┌─────────────┬────────────────┬─────────────┐\n",
       "│  store_id   │ redbull_amount │ sum(amount) │\n",
       "│   varchar   │     int128     │   int128    │\n",
       "├─────────────┼────────────────┼─────────────┤\n",
       "│ Lille       │            100 │         600 │\n",
       "│ Armentieres │             90 │         210 │\n",
       "│ Douai       │             55 │         190 │\n",
       "└─────────────┴────────────────┴─────────────┘"
      ]
     },
     "execution_count": 7,
     "metadata": {},
     "output_type": "execute_result"
    }
   ],
   "source": [
    "query = \"\"\"\n",
    "SELECT \n",
    "store_id, \n",
    "SUM(amount) FILTER(WHERE product_name = 'redbull') as redbull_amount, \n",
    "SUM(amount)  \n",
    "FROM df\n",
    "GROUP BY store_id\n",
    "\"\"\"\n",
    "duckdb.sql(query)"
   ]
  },
  {
   "cell_type": "markdown",
   "id": "99869570",
   "metadata": {},
   "source": [
    "Problème: FILTER n'existe pas partout.\n",
    "\n",
    "La bonne nouvelle, c'est qu'on peut imiter son fonctionnement avec CASE WHEN !"
   ]
  },
  {
   "cell_type": "code",
   "execution_count": 8,
   "id": "6aba666f",
   "metadata": {},
   "outputs": [
    {
     "data": {
      "text/plain": [
       "┌─────────────┬────────────────┬──────────────┬─────────────────────┐\n",
       "│  store_id   │ product_amount │ total_amount │     pct_amount      │\n",
       "│   varchar   │     int128     │    int128    │       double        │\n",
       "├─────────────┼────────────────┼──────────────┼─────────────────────┤\n",
       "│ Armentieres │             90 │          210 │ 0.42857142857142855 │\n",
       "│ Douai       │             55 │          190 │  0.2894736842105263 │\n",
       "│ Lille       │            100 │          600 │ 0.16666666666666666 │\n",
       "└─────────────┴────────────────┴──────────────┴─────────────────────┘"
      ]
     },
     "execution_count": 8,
     "metadata": {},
     "output_type": "execute_result"
    }
   ],
   "source": [
    "# %%timeit # (457 µs ± 20.9 µs per loop)\n",
    "query = \"\"\"\n",
    "SELECT store_id, \n",
    "SUM(\n",
    "    CASE WHEN product_name = 'redbull' THEN amount\n",
    "    END\n",
    ") AS product_amount,\n",
    "SUM(amount) AS total_amount,\n",
    "SUM(\n",
    "    CASE WHEN product_name = 'redbull' THEN amount\n",
    "    END\n",
    ") / SUM(amount) AS pct_amount,\n",
    "FROM df\n",
    "GROUP BY store_id\n",
    "\"\"\"\n",
    "duckdb.sql(query)"
   ]
  },
  {
   "cell_type": "code",
   "execution_count": null,
   "id": "f3b7a27f",
   "metadata": {},
   "outputs": [],
   "source": []
  }
 ],
 "metadata": {
  "kernelspec": {
   "display_name": "Python 3 (ipykernel)",
   "language": "python",
   "name": "python3"
  },
  "language_info": {
   "codemirror_mode": {
    "name": "ipython",
    "version": 3
   },
   "file_extension": ".py",
   "mimetype": "text/x-python",
   "name": "python",
   "nbconvert_exporter": "python",
   "pygments_lexer": "ipython3",
   "version": "3.9.13"
  }
 },
 "nbformat": 4,
 "nbformat_minor": 5
}
