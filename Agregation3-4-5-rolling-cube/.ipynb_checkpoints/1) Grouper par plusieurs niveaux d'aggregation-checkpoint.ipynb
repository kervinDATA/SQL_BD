{
 "cells": [
  {
   "cell_type": "code",
   "execution_count": 1,
   "id": "ee0d99af",
   "metadata": {},
   "outputs": [],
   "source": [
    "import pandas as pd\n",
    "import duckdb"
   ]
  },
  {
   "cell_type": "markdown",
   "id": "8113ee8b",
   "metadata": {},
   "source": [
    "Le commercial d'une marque de boisson énergisante veut savoir quel est le magasin de notre enseigne qui vends le plus de son produit.\n",
    "\n",
    "Son objectif ? Les contacter pour organiser un évènement marketing avec eux"
   ]
  },
  {
   "cell_type": "code",
   "execution_count": 2,
   "id": "628f2645",
   "metadata": {},
   "outputs": [
    {
     "data": {
      "text/html": [
       "<div>\n",
       "<style scoped>\n",
       "    .dataframe tbody tr th:only-of-type {\n",
       "        vertical-align: middle;\n",
       "    }\n",
       "\n",
       "    .dataframe tbody tr th {\n",
       "        vertical-align: top;\n",
       "    }\n",
       "\n",
       "    .dataframe thead th {\n",
       "        text-align: right;\n",
       "    }\n",
       "</style>\n",
       "<table border=\"1\" class=\"dataframe\">\n",
       "  <thead>\n",
       "    <tr style=\"text-align: right;\">\n",
       "      <th></th>\n",
       "      <th>store_id</th>\n",
       "      <th>product_name</th>\n",
       "      <th>amount</th>\n",
       "    </tr>\n",
       "  </thead>\n",
       "  <tbody>\n",
       "    <tr>\n",
       "      <th>0</th>\n",
       "      <td>Armentieres</td>\n",
       "      <td>redbull</td>\n",
       "      <td>45</td>\n",
       "    </tr>\n",
       "    <tr>\n",
       "      <th>1</th>\n",
       "      <td>Armentieres</td>\n",
       "      <td>chips</td>\n",
       "      <td>60</td>\n",
       "    </tr>\n",
       "    <tr>\n",
       "      <th>2</th>\n",
       "      <td>Armentieres</td>\n",
       "      <td>wine</td>\n",
       "      <td>60</td>\n",
       "    </tr>\n",
       "    <tr>\n",
       "      <th>3</th>\n",
       "      <td>Armentieres</td>\n",
       "      <td>redbull</td>\n",
       "      <td>45</td>\n",
       "    </tr>\n",
       "    <tr>\n",
       "      <th>4</th>\n",
       "      <td>Lille</td>\n",
       "      <td>redbull</td>\n",
       "      <td>100</td>\n",
       "    </tr>\n",
       "    <tr>\n",
       "      <th>5</th>\n",
       "      <td>Lille</td>\n",
       "      <td>chips</td>\n",
       "      <td>140</td>\n",
       "    </tr>\n",
       "    <tr>\n",
       "      <th>6</th>\n",
       "      <td>Lille</td>\n",
       "      <td>wine</td>\n",
       "      <td>190</td>\n",
       "    </tr>\n",
       "    <tr>\n",
       "      <th>7</th>\n",
       "      <td>Lille</td>\n",
       "      <td>icecream</td>\n",
       "      <td>170</td>\n",
       "    </tr>\n",
       "    <tr>\n",
       "      <th>8</th>\n",
       "      <td>Douai</td>\n",
       "      <td>redbull</td>\n",
       "      <td>55</td>\n",
       "    </tr>\n",
       "    <tr>\n",
       "      <th>9</th>\n",
       "      <td>Douai</td>\n",
       "      <td>chips</td>\n",
       "      <td>70</td>\n",
       "    </tr>\n",
       "    <tr>\n",
       "      <th>10</th>\n",
       "      <td>Douai</td>\n",
       "      <td>wine</td>\n",
       "      <td>20</td>\n",
       "    </tr>\n",
       "    <tr>\n",
       "      <th>11</th>\n",
       "      <td>Douai</td>\n",
       "      <td>icecream</td>\n",
       "      <td>45</td>\n",
       "    </tr>\n",
       "  </tbody>\n",
       "</table>\n",
       "</div>"
      ],
      "text/plain": [
       "       store_id product_name  amount\n",
       "0   Armentieres      redbull      45\n",
       "1   Armentieres        chips      60\n",
       "2   Armentieres         wine      60\n",
       "3   Armentieres      redbull      45\n",
       "4         Lille      redbull     100\n",
       "5         Lille        chips     140\n",
       "6         Lille         wine     190\n",
       "7         Lille     icecream     170\n",
       "8         Douai      redbull      55\n",
       "9         Douai        chips      70\n",
       "10        Douai         wine      20\n",
       "11        Douai     icecream      45"
      ]
     },
     "execution_count": 2,
     "metadata": {},
     "output_type": "execute_result"
    }
   ],
   "source": [
    "data = {\n",
    "    'store_id': [\"Armentieres\", \"Armentieres\", \"Armentieres\", \"Armentieres\", \"Lille\", \"Lille\", \"Lille\", \"Lille\", \"Douai\", \"Douai\", \"Douai\", \"Douai\"],\n",
    "    'product_name': ['redbull', 'chips', 'wine', 'redbull', 'redbull', 'chips', 'wine', 'icecream', 'redbull', 'chips', 'wine', 'icecream'],\n",
    "    'amount': [45, 60, 60, 45, 100, 140, 190, 170, 55, 70, 20, 45]\n",
    "}\n",
    "df = pd.DataFrame(data)\n",
    "df"
   ]
  },
  {
   "cell_type": "markdown",
   "id": "c368f117",
   "metadata": {},
   "source": [
    "C'est super facile, on regroupe les ventes par magasin,<br />\n",
    "et on fait la somme des ventes !"
   ]
  },
  {
   "cell_type": "code",
   "execution_count": 3,
   "id": "48968816",
   "metadata": {},
   "outputs": [
    {
     "data": {
      "text/plain": [
       "┌─────────────┬──────────────┬─────────────┐\n",
       "│  store_id   │ product_name │ sum(amount) │\n",
       "│   varchar   │   varchar    │   int128    │\n",
       "├─────────────┼──────────────┼─────────────┤\n",
       "│ Lille       │ redbull      │         100 │\n",
       "│ Douai       │ redbull      │          55 │\n",
       "│ Armentieres │ redbull      │          90 │\n",
       "└─────────────┴──────────────┴─────────────┘"
      ]
     },
     "execution_count": 3,
     "metadata": {},
     "output_type": "execute_result"
    }
   ],
   "source": [
    "query = \"\"\"\n",
    "SELECT store_id, \n",
    "product_name, \n",
    "SUM(amount) \n",
    "\n",
    "FROM df\n",
    "WHERE \"product_name\" = 'redbull'\n",
    "GROUP BY store_id, product_name\n",
    "\"\"\"\n",
    "duckdb.sql(query)"
   ]
  },
  {
   "cell_type": "markdown",
   "id": "cabf6c89",
   "metadata": {},
   "source": [
    "Là dessus, le commercial de Redbull vous engueule (!!) \n",
    "\n",
    "<blockquote> Ouais, j'aurais pu le deviner tout seul qu'ils font le plus gros volume de ventes sur RedBull. <br /> Lille c'est la plus grande ville de la région, ils ont le plus gros volume de vente tout court ! </blockquote>"
   ]
  },
  {
   "cell_type": "markdown",
   "id": "db1f4008",
   "metadata": {},
   "source": [
    "Vous vous excusez platement, et proposez de procéder autrement:\n",
    "\n",
    "<blockquote> Si vous le souhaitez, on peut essayer de trouver les magasins <br /> qui ont vendu le plus grand nombre de redbull en proportion de leur C.A. total </blockquote>"
   ]
  },
  {
   "cell_type": "markdown",
   "id": "648e93b2",
   "metadata": {},
   "source": [
    "Exercice: essayez de faire ça avec des subqueries:\n",
    "\n",
    "Hint:\n",
    "- Faites une table qui contient une ligne pour chaque magasin et, en face, \"total_sales\" (montant total des ventes de ce magasin) \n",
    "- Puis faites une jointure entre la table originale et cette table \n",
    "- Ajoutez à cette jointure la colonne pct_sales, calculée comme suit: amount / total_sales\n",
    "- Problème: on a vendu du redbull deux jours différents à Armentières...\n",
    "- Utilisez cette nouvelle table pour récupérer le pourcentage des ventes total pour chaque produit (SUM + groupby)"
   ]
  },
  {
   "cell_type": "code",
   "execution_count": 5,
   "id": "58c0bec7",
   "metadata": {},
   "outputs": [
    {
     "data": {
      "text/plain": [
       "┌─────────────┬─────────────┬─────────────┬──────────────────────┐\n",
       "│  store_id   │ sum(amount) │ total_sales │ product_pct_of_sales │\n",
       "│   varchar   │   int128    │   int128    │        double        │\n",
       "├─────────────┼─────────────┼─────────────┼──────────────────────┤\n",
       "│ Lille       │         100 │         600 │  0.16666666666666666 │\n",
       "│ Douai       │          55 │         190 │   0.2894736842105263 │\n",
       "│ Armentieres │          90 │         210 │  0.42857142857142855 │\n",
       "└─────────────┴─────────────┴─────────────┴──────────────────────┘"
      ]
     },
     "execution_count": 5,
     "metadata": {},
     "output_type": "execute_result"
    }
   ],
   "source": [
    "# %load solutions/1redbull_with_ctes.py\n",
    "# %%timeit (843 µs ± 14.1 µs per loop)\n",
    "query = \"\"\"\n",
    "WITH total_sales AS (\n",
    "SELECT store_id, SUM(amount) as total_sales\n",
    "FROM df\n",
    "GROUP BY\n",
    "store_id\n",
    "),\n",
    "\n",
    "pct_sales AS (\n",
    "SELECT *, amount/total_sales AS pct_sales \n",
    "FROM df\n",
    "LEFT JOIN total_sales\n",
    "USING (store_id)\n",
    ")\n",
    "\n",
    "SELECT store_id, sum(amount), total_sales, SUM(pct_sales) AS product_pct_of_sales\n",
    "FROM pct_sales\n",
    "WHERE product_name = 'redbull'\n",
    "GROUP BY store_id, amount, total_sales\n",
    "\"\"\"\n",
    "duckdb.sql(query)\n"
   ]
  },
  {
   "cell_type": "markdown",
   "id": "6d0d7645",
   "metadata": {},
   "source": [
    "### Grouping sets: pour grouper par plusieurs niveaux d'agrégation "
   ]
  },
  {
   "cell_type": "code",
   "execution_count": 21,
   "id": "1fd1f96d",
   "metadata": {},
   "outputs": [
    {
     "data": {
      "text/plain": [
       "┌─────────────┬──────────────┬────────────┐\n",
       "│  store_id   │ product_name │ sum_amount │\n",
       "│   varchar   │   varchar    │   int128   │\n",
       "├─────────────┼──────────────┼────────────┤\n",
       "│ Armentieres │ redbull      │         90 │\n",
       "│ Armentieres │ chips        │         60 │\n",
       "│ Armentieres │ wine         │         60 │\n",
       "│ Armentieres │ NULL         │        210 │\n",
       "│ Douai       │ redbull      │         55 │\n",
       "│ Douai       │ chips        │         70 │\n",
       "│ Douai       │ wine         │         20 │\n",
       "│ Douai       │ icecream     │         45 │\n",
       "│ Douai       │ NULL         │        190 │\n",
       "│ Lille       │ redbull      │        100 │\n",
       "│ Lille       │ chips        │        140 │\n",
       "│ Lille       │ wine         │        190 │\n",
       "│ Lille       │ icecream     │        170 │\n",
       "│ Lille       │ NULL         │        600 │\n",
       "├─────────────┴──────────────┴────────────┤\n",
       "│ 14 rows                       3 columns │\n",
       "└─────────────────────────────────────────┘"
      ]
     },
     "execution_count": 21,
     "metadata": {},
     "output_type": "execute_result"
    }
   ],
   "source": [
    "query = \"\"\"\n",
    "SELECT store_id, \n",
    "product_name, \n",
    "--COALESCE(product_name, 'tous_produits') AS product_name,\n",
    "SUM(amount) as sum_amount\n",
    "FROM df\n",
    "GROUP BY \n",
    "GROUPING SETS ((store_id, product_name), store_id)\n",
    "ORDER BY store_id\n",
    "\"\"\"\n",
    "duckdb.sql(query)"
   ]
  },
  {
   "cell_type": "markdown",
   "id": "af6f29b6",
   "metadata": {},
   "source": [
    "En ajoutant un COALESCE à product_name, <br />\n",
    "on peut avoir \"toutes_ventes_confondues\" ou \"total_magasin\" par exemple"
   ]
  },
  {
   "cell_type": "markdown",
   "id": "6fa096bf",
   "metadata": {},
   "source": [
    "## Déconstruction: Grouping Sets = Groupby's + UNION"
   ]
  },
  {
   "cell_type": "markdown",
   "id": "8846971e",
   "metadata": {},
   "source": [
    "Déconstuire les Grouping Sets permet de:\n",
    "- mieux comprendre leur fonctionnement\n",
    "- disposer d'une alternative si la syntaxe n'est pas disponible (Athena/Redshift jusqu'en 2022)\n"
   ]
  },
  {
   "cell_type": "markdown",
   "id": "2c7f18df",
   "metadata": {},
   "source": [
    "On commence par créer la table des montants totaux <br />\n",
    "pour chaque combinaison \"magasin/produit\":"
   ]
  },
  {
   "cell_type": "code",
   "execution_count": 124,
   "id": "4a76c4f0",
   "metadata": {},
   "outputs": [
    {
     "data": {
      "text/plain": [
       "┌─────────────┬──────────────┬────────────┐\n",
       "│  store_id   │ product_name │ sum_amount │\n",
       "│   varchar   │   varchar    │   int128   │\n",
       "├─────────────┼──────────────┼────────────┤\n",
       "│ Armentieres │ redbull      │         90 │\n",
       "│ Armentieres │ chips        │         60 │\n",
       "│ Armentieres │ wine         │         60 │\n",
       "│ Lille       │ redbull      │        100 │\n",
       "│ Lille       │ chips        │        140 │\n",
       "│ Lille       │ wine         │        190 │\n",
       "│ Lille       │ icecream     │        170 │\n",
       "│ Douai       │ redbull      │         55 │\n",
       "│ Douai       │ chips        │         70 │\n",
       "│ Douai       │ wine         │         20 │\n",
       "│ Douai       │ icecream     │         45 │\n",
       "├─────────────┴──────────────┴────────────┤\n",
       "│ 11 rows                       3 columns │\n",
       "└─────────────────────────────────────────┘"
      ]
     },
     "execution_count": 124,
     "metadata": {},
     "output_type": "execute_result"
    }
   ],
   "source": [
    "query = \"\"\"\n",
    "SELECT store_id, product_name,\n",
    "SUM(amount) as sum_amount\n",
    "FROM df\n",
    "GROUP BY store_id, product_name\n",
    "\"\"\"\n",
    "duckdb.sql(query)"
   ]
  },
  {
   "cell_type": "markdown",
   "id": "cbbd4d3b",
   "metadata": {},
   "source": [
    "Puis on calcule le montant total vendu dans chaque magasin:"
   ]
  },
  {
   "cell_type": "code",
   "execution_count": 19,
   "id": "de2da1c0",
   "metadata": {},
   "outputs": [
    {
     "data": {
      "text/plain": [
       "┌─────────────┬──────────────┬────────────┐\n",
       "│  store_id   │ product_name │ sum_amount │\n",
       "│   varchar   │    int32     │   int128   │\n",
       "├─────────────┼──────────────┼────────────┤\n",
       "│ Armentieres │         NULL │        210 │\n",
       "│ Lille       │         NULL │        600 │\n",
       "│ Douai       │         NULL │        190 │\n",
       "└─────────────┴──────────────┴────────────┘"
      ]
     },
     "execution_count": 19,
     "metadata": {},
     "output_type": "execute_result"
    }
   ],
   "source": [
    "query = \"\"\"\n",
    "SELECT store_id, NULL AS product_name,\n",
    "SUM(amount) as sum_amount\n",
    "FROM df\n",
    "GROUP BY store_id\n",
    "\"\"\"\n",
    "duckdb.sql(query)"
   ]
  },
  {
   "cell_type": "markdown",
   "id": "2ee78a41",
   "metadata": {},
   "source": [
    "Notez qu'on ajoute la colonne \"product_name\" <br />\n",
    "avec des NULL dedans <br/ >\n",
    "pour faire plus facilement le UNION qui va suivre:"
   ]
  },
  {
   "cell_type": "code",
   "execution_count": 125,
   "id": "528a56c7",
   "metadata": {
    "scrolled": false
   },
   "outputs": [
    {
     "data": {
      "text/plain": [
       "┌─────────────┬──────────────┬────────────┐\n",
       "│  store_id   │ product_name │ sum_amount │\n",
       "│   varchar   │   varchar    │   int128   │\n",
       "├─────────────┼──────────────┼────────────┤\n",
       "│ Armentieres │ redbull      │         90 │\n",
       "│ Armentieres │ chips        │         60 │\n",
       "│ Armentieres │ wine         │         60 │\n",
       "│ Armentieres │ NULL         │        210 │\n",
       "│ Douai       │ redbull      │         55 │\n",
       "│ Douai       │ chips        │         70 │\n",
       "│ Douai       │ wine         │         20 │\n",
       "│ Douai       │ icecream     │         45 │\n",
       "│ Douai       │ NULL         │        190 │\n",
       "│ Lille       │ redbull      │        100 │\n",
       "│ Lille       │ chips        │        140 │\n",
       "│ Lille       │ wine         │        190 │\n",
       "│ Lille       │ icecream     │        170 │\n",
       "│ Lille       │ NULL         │        600 │\n",
       "├─────────────┴──────────────┴────────────┤\n",
       "│ 14 rows                       3 columns │\n",
       "└─────────────────────────────────────────┘"
      ]
     },
     "execution_count": 125,
     "metadata": {},
     "output_type": "execute_result"
    }
   ],
   "source": [
    "query = \"\"\"\n",
    "SELECT store_id, NULL AS product_name,\n",
    "SUM(amount) as sum_amount\n",
    "FROM df\n",
    "GROUP BY store_id\n",
    "\n",
    "UNION \n",
    "\n",
    "SELECT store_id, product_name,\n",
    "SUM(amount) as sum_amount\n",
    "FROM df\n",
    "GROUP BY store_id, product_name\n",
    "\n",
    "ORDER BY store_id\n",
    "\"\"\"\n",
    "duckdb.sql(query)"
   ]
  },
  {
   "cell_type": "markdown",
   "id": "1630e163",
   "metadata": {},
   "source": [
    "Schématiquement, les étapes que nous venous de suivre <br />\n",
    "ressemblent à ça:"
   ]
  },
  {
   "cell_type": "markdown",
   "id": "4a3a664d",
   "metadata": {},
   "source": [
    "<img src=\"images/grouping sets.png\" />"
   ]
  },
  {
   "cell_type": "markdown",
   "id": "952d9437",
   "metadata": {},
   "source": [
    "Exercice (un peu dur donc ne passez pas trop de temps dessus ;) ):\n",
    "1) Refaites la query avec le GROUPING SETS pour avoir la somme des ventes par: (store_id, product_name), et par store_id seul\n",
    "(nommez cette colonne sum_amount)\n",
    "2) Mettez cette query dans une CTE (appelez la table \"sales_total\")\n",
    "3) Puis joignez cette table avec elle même en utilisant le store_id\n",
    "4) mettez la colonne \"sum_amount\" <b>de la table de gauche</b> dans \"product_sum_amount\"\n",
    "5) mettez la colonne \"sum_amount\" <b>de la table de droite</b> dans une autre colonne \"store_sum_amount\"\n",
    "6) Filtrez sur table_de_gauche.product_name = 'redbull' et table_de_droite.product_name IS NULL\n",
    "\n",
    "\n",
    "Bonus: pour rendre la requête plus claire: <br />\n",
    "pour éviter que la colonne \"product_name\" contienne \"NULL\" là où on groupe pour tout le magasin,\n",
    "utilisez un COALESCE pour remplacer les NULLs par \"tout_le_magasin\" <br />\n",
    "(Faites aussi la modification dans le filtering de l'étape 6) ;) ) "
   ]
  },
  {
   "cell_type": "code",
   "execution_count": null,
   "id": "cad46ed3",
   "metadata": {
    "scrolled": false
   },
   "outputs": [],
   "source": [
    "%load solutions/2redbull_with_grouping_sets_hard.py"
   ]
  },
  {
   "cell_type": "code",
   "execution_count": null,
   "id": "4ee758d9",
   "metadata": {},
   "outputs": [],
   "source": []
  },
  {
   "cell_type": "markdown",
   "id": "d21fb63c",
   "metadata": {},
   "source": [
    "Mais il y a mieux à faire, on va découvrir ensemble la clause FILTER dans le notebook 2. En attendant, quelques exercices pour intégrer la syntaxe ;) "
   ]
  },
  {
   "cell_type": "code",
   "execution_count": 11,
   "id": "e56c34ef",
   "metadata": {},
   "outputs": [
    {
     "data": {
      "image/jpeg": "[encoded data removed]",
      "text/html": [
       "\n",
       "        <iframe\n",
       "            width=\"600\"\n",
       "            height=\"300\"\n",
       "            src=\"https://www.youtube.com/embed/pH_69_5CISM\"\n",
       "            frameborder=\"0\"\n",
       "            allowfullscreen\n",
       "            \n",
       "        ></iframe>\n",
       "        "
      ],
      "text/plain": [
       "<IPython.lib.display.YouTubeVideo at 0x7f7f65985910>"
      ]
     },
     "execution_count": 11,
     "metadata": {},
     "output_type": "execute_result"
    }
   ],
   "source": [
    "from IPython.display import YouTubeVideo\n",
    "\n",
    "YouTubeVideo('pH_69_5CISM', width=600, height=300)\n"
   ]
  },
  {
   "cell_type": "code",
   "execution_count": null,
   "id": "c97ddaf5",
   "metadata": {},
   "outputs": [],
   "source": []
  }
 ],
 "metadata": {
  "kernelspec": {
   "display_name": "Python 3 (ipykernel)",
   "language": "python",
   "name": "python3"
  },
  "language_info": {
   "codemirror_mode": {
    "name": "ipython",
    "version": 3
   },
   "file_extension": ".py",
   "mimetype": "text/x-python",
   "name": "python",
   "nbconvert_exporter": "python",
   "pygments_lexer": "ipython3",
   "version": "3.9.13"
  }
 },
 "nbformat": 4,
 "nbformat_minor": 5
}
